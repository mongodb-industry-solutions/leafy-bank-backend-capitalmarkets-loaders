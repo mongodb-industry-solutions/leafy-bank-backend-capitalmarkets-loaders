{
 "cells": [
  {
   "cell_type": "markdown",
   "metadata": {},
   "source": [
    "# Binance API\n",
    "\n",
    "https://api.binance.com/api/v3/\n",
    "\n",
    "Endpoint:\n",
    "- **/klines**\n",
    "\n",
    "Description:\n",
    "Get historical candlestick data for a specific symbol.\n",
    "\n",
    "Parameters:\n",
    "- symbol: The trading pair symbol to get data for (e.g., BTCUSDT).\n",
    "- interval: The time interval for each candlestick (e.g., 1m, 5m, 1h).\n",
    "- startTime: The start time for the data (in Milliseconds (Unix Epoch)).\n",
    "- endTime: The end time for the data (in Milliseconds (Unix Epoch)).\n",
    "- limit: The maximum number of candlesticks to return (default: 500, max: 1000).\n"
   ]
  },
  {
   "cell_type": "markdown",
   "metadata": {},
   "source": [
    "### BTCUSDT"
   ]
  },
  {
   "cell_type": "code",
   "execution_count": 2,
   "metadata": {},
   "outputs": [],
   "source": [
    "import requests\n",
    "import pandas as pd\n",
    "from datetime import datetime, timedelta, timezone"
   ]
  },
  {
   "cell_type": "code",
   "execution_count": 3,
   "metadata": {},
   "outputs": [],
   "source": [
    "def get_binance_klines(symbol: str, interval: str = \"1m\", limit: int = 1000):\n",
    "    \"\"\"\n",
    "    Fetches 1-minute OHLCV candles from Binance for a full previous day (1440 points split in two requests)\n",
    "    \"\"\"\n",
    "    base_url = \"https://api.binance.com/api/v3/klines\"\n",
    "    \n",
    "    # Define yesterday's date range in UTC\n",
    "    now_utc = datetime.utcnow().replace(tzinfo=timezone.utc)\n",
    "    yesterday_start = (now_utc - timedelta(days=1)).replace(hour=0, minute=0, second=0, microsecond=0)\n",
    "    yesterday_end = yesterday_start + timedelta(days=1)\n",
    "\n",
    "    start_time_ms = int(yesterday_start.timestamp() * 1000)\n",
    "    end_time_ms = int(yesterday_end.timestamp() * 1000)\n",
    "    \n",
    "    # First request (0–999)\n",
    "    params_1 = {\n",
    "        \"symbol\": symbol,\n",
    "        \"interval\": interval,\n",
    "        \"startTime\": start_time_ms,\n",
    "        \"limit\": 1000\n",
    "    }\n",
    "    response_1 = requests.get(base_url, params=params_1)\n",
    "    response_1.raise_for_status()\n",
    "    data_1 = response_1.json()\n",
    "\n",
    "    # Second request (1000–1439)\n",
    "    last_time_ms = int(data_1[-1][0]) + 60_000  # Add one minute\n",
    "    params_2 = {\n",
    "        \"symbol\": symbol,\n",
    "        \"interval\": interval,\n",
    "        \"startTime\": last_time_ms,\n",
    "        \"endTime\": end_time_ms,\n",
    "        \"limit\": 440\n",
    "    }\n",
    "    response_2 = requests.get(base_url, params=params_2)\n",
    "    response_2.raise_for_status()\n",
    "    data_2 = response_2.json()\n",
    "\n",
    "    # Combine and format\n",
    "    all_data = data_1 + data_2\n",
    "    df = pd.DataFrame(all_data, columns=[\n",
    "        \"timestamp\", \"open\", \"high\", \"low\", \"close\", \"volume\",\n",
    "        \"close_time\", \"quote_asset_volume\", \"num_trades\",\n",
    "        \"taker_buy_base_vol\", \"taker_buy_quote_vol\", \"ignore\"\n",
    "    ])\n",
    "\n",
    "    df[\"timestamp\"] = pd.to_datetime(df[\"timestamp\"], unit='ms')\n",
    "    df.set_index(\"timestamp\", inplace=True)\n",
    "    df = df[[\"open\", \"high\", \"low\", \"close\", \"volume\"]].astype(float)\n",
    "\n",
    "    return df\n"
   ]
  },
  {
   "cell_type": "code",
   "execution_count": 4,
   "metadata": {},
   "outputs": [
    {
     "name": "stdout",
     "output_type": "stream",
     "text": [
      "                          open       high        low      close    volume\n",
      "timestamp                                                                \n",
      "2025-06-22 00:00:00  102120.02  102398.34  102120.01  102279.12  65.39842\n",
      "2025-06-22 00:01:00  102279.12  102409.09  102265.38  102321.25  55.95674\n",
      "2025-06-22 00:02:00  102321.25  102345.30  102249.70  102262.90  42.40999\n",
      "2025-06-22 00:03:00  102262.90  102584.00  102262.90  102519.86  48.99128\n",
      "2025-06-22 00:04:00  102519.86  102588.71  102519.86  102544.47  41.88131\n",
      "Total rows: 1440\n"
     ]
    }
   ],
   "source": [
    "# 🟢 Example usage\n",
    "btc_df = get_binance_klines(\"BTCUSDT\")\n",
    "print(btc_df.head())\n",
    "print(f\"Total rows: {len(btc_df)}\")"
   ]
  },
  {
   "cell_type": "code",
   "execution_count": null,
   "metadata": {},
   "outputs": [],
   "source": []
  }
 ],
 "metadata": {
  "kernelspec": {
   "display_name": "Python 3",
   "language": "python",
   "name": "python3"
  },
  "language_info": {
   "codemirror_mode": {
    "name": "ipython",
    "version": 3
   },
   "file_extension": ".py",
   "mimetype": "text/x-python",
   "name": "python",
   "nbconvert_exporter": "python",
   "pygments_lexer": "ipython3",
   "version": "3.10.15"
  }
 },
 "nbformat": 4,
 "nbformat_minor": 2
}
