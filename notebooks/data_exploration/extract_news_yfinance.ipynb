{
 "cells": [
  {
   "cell_type": "markdown",
   "metadata": {},
   "source": [
    "\n",
    "# yfinance Search\n",
    "\n",
    "Documentation\n",
    "https://ranaroussi.github.io/yfinance/reference/api/yfinance.Search.html#yfinance.Search\n",
    "\n",
    "Fetches and organizes search results from Yahoo Finance, including stock quotes and news articles."
   ]
  },
  {
   "cell_type": "code",
   "execution_count": null,
   "metadata": {},
   "outputs": [
    {
     "name": "stdout",
     "output_type": "stream",
     "text": [
      "Requirement already satisfied: yfinance in /Users/julian.boronat/Github/mongodb/mongodb-industry-solutions/leafy-bank-backend-capitalmarkets/.venv/lib/python3.10/site-packages (0.2.53)\n",
      "Requirement already satisfied: pandas in /Users/julian.boronat/Github/mongodb/mongodb-industry-solutions/leafy-bank-backend-capitalmarkets/.venv/lib/python3.10/site-packages (2.2.3)\n",
      "Requirement already satisfied: numpy>=1.16.5 in /Users/julian.boronat/Github/mongodb/mongodb-industry-solutions/leafy-bank-backend-capitalmarkets/.venv/lib/python3.10/site-packages (from yfinance) (1.26.4)\n",
      "Requirement already satisfied: requests>=2.31 in /Users/julian.boronat/Github/mongodb/mongodb-industry-solutions/leafy-bank-backend-capitalmarkets/.venv/lib/python3.10/site-packages (from yfinance) (2.32.3)\n",
      "Requirement already satisfied: multitasking>=0.0.7 in /Users/julian.boronat/Github/mongodb/mongodb-industry-solutions/leafy-bank-backend-capitalmarkets/.venv/lib/python3.10/site-packages (from yfinance) (0.0.11)\n",
      "Requirement already satisfied: platformdirs>=2.0.0 in /Users/julian.boronat/Github/mongodb/mongodb-industry-solutions/leafy-bank-backend-capitalmarkets/.venv/lib/python3.10/site-packages (from yfinance) (4.3.6)\n",
      "Requirement already satisfied: pytz>=2022.5 in /Users/julian.boronat/Github/mongodb/mongodb-industry-solutions/leafy-bank-backend-capitalmarkets/.venv/lib/python3.10/site-packages (from yfinance) (2025.1)\n",
      "Requirement already satisfied: frozendict>=2.3.4 in /Users/julian.boronat/Github/mongodb/mongodb-industry-solutions/leafy-bank-backend-capitalmarkets/.venv/lib/python3.10/site-packages (from yfinance) (2.4.6)\n",
      "Requirement already satisfied: peewee>=3.16.2 in /Users/julian.boronat/Github/mongodb/mongodb-industry-solutions/leafy-bank-backend-capitalmarkets/.venv/lib/python3.10/site-packages (from yfinance) (3.17.9)\n",
      "Requirement already satisfied: beautifulsoup4>=4.11.1 in /Users/julian.boronat/Github/mongodb/mongodb-industry-solutions/leafy-bank-backend-capitalmarkets/.venv/lib/python3.10/site-packages (from yfinance) (4.13.3)\n",
      "Requirement already satisfied: python-dateutil>=2.8.2 in /Users/julian.boronat/Github/mongodb/mongodb-industry-solutions/leafy-bank-backend-capitalmarkets/.venv/lib/python3.10/site-packages (from pandas) (2.9.0.post0)\n",
      "Requirement already satisfied: tzdata>=2022.7 in /Users/julian.boronat/Github/mongodb/mongodb-industry-solutions/leafy-bank-backend-capitalmarkets/.venv/lib/python3.10/site-packages (from pandas) (2025.1)\n",
      "Requirement already satisfied: soupsieve>1.2 in /Users/julian.boronat/Github/mongodb/mongodb-industry-solutions/leafy-bank-backend-capitalmarkets/.venv/lib/python3.10/site-packages (from beautifulsoup4>=4.11.1->yfinance) (2.6)\n",
      "Requirement already satisfied: typing-extensions>=4.0.0 in /Users/julian.boronat/Github/mongodb/mongodb-industry-solutions/leafy-bank-backend-capitalmarkets/.venv/lib/python3.10/site-packages (from beautifulsoup4>=4.11.1->yfinance) (4.12.2)\n",
      "Requirement already satisfied: six>=1.5 in /Users/julian.boronat/Github/mongodb/mongodb-industry-solutions/leafy-bank-backend-capitalmarkets/.venv/lib/python3.10/site-packages (from python-dateutil>=2.8.2->pandas) (1.17.0)\n",
      "Requirement already satisfied: charset-normalizer<4,>=2 in /Users/julian.boronat/Github/mongodb/mongodb-industry-solutions/leafy-bank-backend-capitalmarkets/.venv/lib/python3.10/site-packages (from requests>=2.31->yfinance) (3.4.1)\n",
      "Requirement already satisfied: idna<4,>=2.5 in /Users/julian.boronat/Github/mongodb/mongodb-industry-solutions/leafy-bank-backend-capitalmarkets/.venv/lib/python3.10/site-packages (from requests>=2.31->yfinance) (3.10)\n",
      "Requirement already satisfied: urllib3<3,>=1.21.1 in /Users/julian.boronat/Github/mongodb/mongodb-industry-solutions/leafy-bank-backend-capitalmarkets/.venv/lib/python3.10/site-packages (from requests>=2.31->yfinance) (2.3.0)\n",
      "Requirement already satisfied: certifi>=2017.4.17 in /Users/julian.boronat/Github/mongodb/mongodb-industry-solutions/leafy-bank-backend-capitalmarkets/.venv/lib/python3.10/site-packages (from requests>=2.31->yfinance) (2025.1.31)\n",
      "Note: you may need to restart the kernel to use updated packages.\n"
     ]
    }
   ],
   "source": [
    "# Install packages\n",
    "%pip install yfinance pandas"
   ]
  },
  {
   "cell_type": "code",
   "execution_count": 1,
   "metadata": {},
   "outputs": [],
   "source": [
    "# Import libraries\n",
    "import pandas as pd\n",
    "import yfinance as yf"
   ]
  },
  {
   "cell_type": "markdown",
   "metadata": {},
   "source": [
    "## Search & News\n",
    "\n",
    "The Search module, allows you to access search data in a Pythonic way.\n",
    "\n",
    "https://ranaroussi.github.io/yfinance/reference/yfinance.search.html\n",
    "\n",
    "Search\n",
    "\n",
    "https://ranaroussi.github.io/yfinance/reference/api/yfinance.Search.html"
   ]
  },
  {
   "cell_type": "code",
   "execution_count": null,
   "metadata": {},
   "outputs": [
    {
     "name": "stdout",
     "output_type": "stream",
     "text": [
      "[{'exchange': 'PCX', 'shortname': 'SPDR S&P 500', 'quoteType': 'ETF', 'symbol': 'SPY', 'index': 'quotes', 'score': 3245800.0, 'typeDisp': 'ETF', 'longname': 'SPDR S&P 500 ETF Trust', 'exchDisp': 'NYSEArca', 'isYahooFinance': True}, {'exchange': 'PCX', 'shortname': 'SPDR Series Trust SPDR Portfoli', 'quoteType': 'ETF', 'symbol': 'SPYD', 'index': 'quotes', 'score': 20061.0, 'typeDisp': 'ETF', 'longname': 'SPDR Portfolio S&P 500 High Dividend ETF', 'exchDisp': 'NYSEArca', 'isYahooFinance': True}, {'exchange': 'BTS', 'shortname': 'NEOS S&P 500 High Income ETF', 'quoteType': 'ETF', 'symbol': 'SPYI', 'index': 'quotes', 'score': 20054.0, 'typeDisp': 'ETF', 'longname': 'Neos S&P 500(R) High Income ETF', 'exchDisp': 'BATS Trading', 'isYahooFinance': True}, {'exchange': 'GER', 'shortname': 'SPDR S&P US Divid.Aristocr.ETFR', 'quoteType': 'ETF', 'symbol': 'SPYD.DE', 'index': 'quotes', 'score': 20034.0, 'typeDisp': 'ETF', 'longname': 'SPDR S&P US Dividend Aristocrats UCITS ETF Dis', 'exchDisp': 'XETRA', 'isYahooFinance': True}, {'exchange': 'PCX', 'shortname': 'SPDR Series Trust SPDR Portfoli', 'quoteType': 'ETF', 'symbol': 'SPYG', 'index': 'quotes', 'score': 20032.0, 'typeDisp': 'ETF', 'longname': 'SPDR Portfolio S&P 500 Growth ETF', 'exchDisp': 'NYSEArca', 'isYahooFinance': True}]\n"
     ]
    }
   ],
   "source": [
    "# get list of quotes\n",
    "quotes = yf.Search(\"SPY\", max_results=10).quotes\n",
    "print(quotes)\n"
   ]
  },
  {
   "cell_type": "markdown",
   "metadata": {},
   "source": [
    "[{'exchange': 'PCX', 'shortname': 'SPDR S&P 500', 'quoteType': 'ETF', 'symbol': 'SPY', 'index': 'quotes', 'score': 3245800.0, 'typeDisp': 'ETF', 'longname': 'SPDR S&P 500 ETF Trust', 'exchDisp': 'NYSEArca', 'isYahooFinance': True}, \n",
    "\n",
    " {'exchange': 'PCX', 'shortname': 'SPDR Series Trust SPDR Portfoli', 'quoteType': 'ETF', 'symbol': 'SPYD', 'index': 'quotes', 'score': 20061.0, 'typeDisp': 'ETF', 'longname': 'SPDR Portfolio S&P 500 High Dividend ETF', 'exchDisp': 'NYSEArca', 'isYahooFinance': True}, \n",
    " \n",
    " {'exchange': 'BTS', 'shortname': 'NEOS S&P 500 High Income ETF', 'quoteType': 'ETF', 'symbol': 'SPYI', 'index': 'quotes', 'score': 20054.0, 'typeDisp': 'ETF', 'longname': 'Neos S&P 500(R) High Income ETF', 'exchDisp': 'BATS Trading', 'isYahooFinance': True}, \n",
    "\n",
    " {'exchange': 'GER', 'shortname': 'SPDR S&P US Divid.Aristocr.ETFR', 'quoteType': 'ETF', 'symbol': 'SPYD.DE', 'index': 'quotes', 'score': 20034.0, 'typeDisp': 'ETF', 'longname': 'SPDR S&P US Dividend Aristocrats UCITS ETF Dis', 'exchDisp': 'XETRA', 'isYahooFinance': True}, \n",
    " \n",
    " {'exchange': 'PCX', 'shortname': 'SPDR Series Trust SPDR Portfoli', 'quoteType': 'ETF', 'symbol': 'SPYG', 'index': 'quotes', 'score': 20032.0, 'typeDisp': 'ETF', 'longname': 'SPDR Portfolio S&P 500 Growth ETF', 'exchDisp': 'NYSEArca', 'isYahooFinance': True}]"
   ]
  },
  {
   "cell_type": "code",
   "execution_count": 4,
   "metadata": {},
   "outputs": [
    {
     "name": "stdout",
     "output_type": "stream",
     "text": [
      "[{'uuid': '3b60949d-46bb-3f94-a7d7-38a9bdc34b20', 'title': 'SPY Raked In $4B Wednesday, Retakes Top Spot From VOO', 'publisher': 'etf.com', 'link': 'https://finance.yahoo.com/m/3b60949d-46bb-3f94-a7d7-38a9bdc34b20/spy-raked-in-%244b-wednesday%2C.html', 'providerPublishTime': 1740094429, 'type': 'STORY', 'thumbnail': {'resolutions': [{'url': 'https://s.yimg.com/uu/api/res/1.2/pnyNICdWkqirjGwd7uiwOg--~B/aD04MzU7dz0xMjU1O2FwcGlkPXl0YWNoeW9u/https://media.zenfs.com/en/indexuniverse.com/bd1402ad0489963814a5c6b8508f9c91', 'width': 1255, 'height': 835, 'tag': 'original'}, {'url': 'https://s.yimg.com/uu/api/res/1.2/XrVCwerLwEwOA6cb_HaXdA--~B/Zmk9ZmlsbDtoPTE0MDtweW9mZj0wO3c9MTQwO2FwcGlkPXl0YWNoeW9u/https://media.zenfs.com/en/indexuniverse.com/bd1402ad0489963814a5c6b8508f9c91', 'width': 140, 'height': 140, 'tag': '140x140'}]}}, {'uuid': '29f890b9-c36b-3fa0-85e6-9a103a38b3d8', 'title': 'Exchange-Traded Funds Higher, Equity Futures Mixed Pre-Bell Friday Amid Ongoing Tariff Uncertainties', 'publisher': 'MT Newswires', 'link': 'https://finance.yahoo.com/news/exchange-traded-funds-higher-equity-133606423.html', 'providerPublishTime': 1740144966, 'type': 'STORY', 'relatedTickers': ['SPY', 'SLV']}, {'uuid': '24f62096-3e03-3387-9bef-0415d00e3ef3', 'title': \"Why Did Warren Buffett Just Sell Investments He's Recommended Millions of Others Buy?\", 'publisher': 'Motley Fool', 'link': 'https://finance.yahoo.com/m/24f62096-3e03-3387-9bef-0415d00e3ef3/why-did-warren-buffett-just.html', 'providerPublishTime': 1740135120, 'type': 'STORY', 'thumbnail': {'resolutions': [{'url': 'https://s.yimg.com/uu/api/res/1.2/.Mxseoyo5_urE22Vfeob3w--~B/aD05MzI7dz0xNDAwO2FwcGlkPXl0YWNoeW9u/https://media.zenfs.com/en/motleyfool.com/a0cbb412c469959cf5d8c1874cbc47da', 'width': 1400, 'height': 932, 'tag': 'original'}, {'url': 'https://s.yimg.com/uu/api/res/1.2/NiExsM8kihPwbMVZtYCO6A--~B/Zmk9ZmlsbDtoPTE0MDtweW9mZj0wO3c9MTQwO2FwcGlkPXl0YWNoeW9u/https://media.zenfs.com/en/motleyfool.com/a0cbb412c469959cf5d8c1874cbc47da', 'width': 140, 'height': 140, 'tag': '140x140'}]}, 'relatedTickers': ['^GSPC', 'SPY']}, {'uuid': '7266c07f-d67f-3dcc-9f77-e7a1db61f8bf', 'title': \"Warren Buffett Just Issued His Most Daunting Warning to Wall Street Yet. It Couldn't Be Any Clearer\", 'publisher': 'Motley Fool', 'link': 'https://finance.yahoo.com/m/7266c07f-d67f-3dcc-9f77-e7a1db61f8bf/warren-buffett-just-issued.html', 'providerPublishTime': 1740148200, 'type': 'STORY', 'thumbnail': {'resolutions': [{'url': 'https://s.yimg.com/uu/api/res/1.2/3yXTcqp2bKF6VYs8O37AIg--~B/aD00NDE7dz03MjA7YXBwaWQ9eXRhY2h5b24-/https://media.zenfs.com/en/motleyfool.com/b3cb5c241089efb105bc52724c63dc33', 'width': 720, 'height': 441, 'tag': 'original'}, {'url': 'https://s.yimg.com/uu/api/res/1.2/J9FBnfpz8x5QlTwlGfJrQQ--~B/Zmk9ZmlsbDtoPTE0MDtweW9mZj0wO3c9MTQwO2FwcGlkPXl0YWNoeW9u/https://media.zenfs.com/en/motleyfool.com/b3cb5c241089efb105bc52724c63dc33', 'width': 140, 'height': 140, 'tag': '140x140'}]}, 'relatedTickers': ['^GSPC']}, {'uuid': '39529d37-08e9-350c-9e08-7e34c50fbda7', 'title': 'Warren Buffett Shockingly Dumps 2 Stocks He Told Everyone To Buy', 'publisher': \"Investor's Business Daily\", 'link': 'https://finance.yahoo.com/m/39529d37-08e9-350c-9e08-7e34c50fbda7/warren-buffett-shockingly.html', 'providerPublishTime': 1740142817, 'type': 'STORY', 'thumbnail': {'resolutions': [{'url': 'https://s.yimg.com/uu/api/res/1.2/FYd36PVAwIbd3bYjxJy1tw--~B/aD01NjM7dz0xMDAwO2FwcGlkPXl0YWNoeW9u/https://media.zenfs.com/en/ibd.com/f9e572c8a1caf838183ed40f221bcf79', 'width': 1000, 'height': 563, 'tag': 'original'}, {'url': 'https://s.yimg.com/uu/api/res/1.2/r1nQ0pfgLJR4wqpJh8x6Dg--~B/Zmk9ZmlsbDtoPTE0MDtweW9mZj0wO3c9MTQwO2FwcGlkPXl0YWNoeW9u/https://media.zenfs.com/en/ibd.com/f9e572c8a1caf838183ed40f221bcf79', 'width': 140, 'height': 140, 'tag': '140x140'}]}}, {'uuid': '720d58a6-d35c-3ff5-9670-08dc238f2645', 'title': 'Is Invesco Russell 1000 Equal Weight ETF (EQAL) a Strong ETF Right Now?', 'publisher': 'Zacks', 'link': 'https://finance.yahoo.com/news/invesco-russell-1000-equal-weight-112007813.html', 'providerPublishTime': 1740136807, 'type': 'STORY', 'thumbnail': {'resolutions': [{'url': 'https://s.yimg.com/uu/api/res/1.2/gUf3JPAiwp3PVjuDKftvaA--~B/aD04NDU7dz05MDA7YXBwaWQ9eXRhY2h5b24-/https://media.zenfs.com/en/zacks.com/26a86d59f0e8f1e82a35a92ae5684cd9', 'width': 900, 'height': 845, 'tag': 'original'}, {'url': 'https://s.yimg.com/uu/api/res/1.2/HpYEBsELOHKKt9_5_oEt0Q--~B/Zmk9ZmlsbDtoPTE0MDtweW9mZj0wO3c9MTQwO2FwcGlkPXl0YWNoeW9u/https://media.zenfs.com/en/zacks.com/26a86d59f0e8f1e82a35a92ae5684cd9', 'width': 140, 'height': 140, 'tag': '140x140'}]}, 'relatedTickers': ['^GSPC']}, {'uuid': 'acee6401-ab7f-3be3-9196-d7ce7988162d', 'title': \"More than one way to slice a workforce: How Trump's cuts differ from Clinton's\", 'publisher': 'USA TODAY', 'link': 'https://finance.yahoo.com/m/acee6401-ab7f-3be3-9196-d7ce7988162d/more-than-one-way-to-slice-a.html', 'providerPublishTime': 1740132710, 'type': 'STORY', 'thumbnail': {'resolutions': [{'url': 'https://s.yimg.com/uu/api/res/1.2/8QAMe785Mqg7jv8bCM.hpw--~B/aD0xNTE0O3c9MjA0ODthcHBpZD15dGFjaHlvbg--/https://media.zenfs.com/en/usa_today_news_641/4b8ebb46b25e7f1f1af58c1d6b1d6da5', 'width': 2048, 'height': 1514, 'tag': 'original'}, {'url': 'https://s.yimg.com/uu/api/res/1.2/hGjwMjQdNM26fLUt3_x_4w--~B/Zmk9ZmlsbDtoPTE0MDtweW9mZj0wO3c9MTQwO2FwcGlkPXl0YWNoeW9u/https://media.zenfs.com/en/usa_today_news_641/4b8ebb46b25e7f1f1af58c1d6b1d6da5', 'width': 140, 'height': 140, 'tag': '140x140'}]}}, {'uuid': 'fd95f3b0-6731-355c-80b6-85fd0754a0b4', 'title': 'Bond franchise shake-up moves spy into Amazon stable', 'publisher': 'AFP', 'link': 'https://finance.yahoo.com/m/fd95f3b0-6731-355c-80b6-85fd0754a0b4/bond-franchise-shake-up-moves.html', 'providerPublishTime': 1740085683, 'type': 'STORY', 'thumbnail': {'resolutions': [{'url': 'https://s.yimg.com/uu/api/res/1.2/3t9q2wb3WIzh6oMaSgG5mw--~B/aD01NjA7dz03Njg7YXBwaWQ9eXRhY2h5b24-/https://media.zenfs.com/en/afp.com/29cad0992e8ac9169630eaab9e4271a9', 'width': 768, 'height': 560, 'tag': 'original'}, {'url': 'https://s.yimg.com/uu/api/res/1.2/.yLQEEvEmH4gCDd05crWkA--~B/Zmk9ZmlsbDtoPTE0MDtweW9mZj0wO3c9MTQwO2FwcGlkPXl0YWNoeW9u/https://media.zenfs.com/en/afp.com/29cad0992e8ac9169630eaab9e4271a9', 'width': 140, 'height': 140, 'tag': '140x140'}]}}, {'uuid': 'd281cb5d-7d5d-3a0f-a399-a1ec116ba4fd', 'title': 'Hacked, leaked, exposed: Why you should never use stalkerware apps', 'publisher': 'TechCrunch', 'link': 'https://finance.yahoo.com/m/d281cb5d-7d5d-3a0f-a399-a1ec116ba4fd/hacked%2C-leaked%2C-exposed%3A-why.html', 'providerPublishTime': 1740082800, 'type': 'STORY', 'thumbnail': {'resolutions': [{'url': 'https://s.yimg.com/uu/api/res/1.2/OG24ROegto0eVwOMdSPhkw--~B/aD03OTk7dz0xMjAwO2FwcGlkPXl0YWNoeW9u/https://media.zenfs.com/en/techcrunch_350/80093db55bf805ed9a60e96dfcd621c3', 'width': 1200, 'height': 799, 'tag': 'original'}, {'url': 'https://s.yimg.com/uu/api/res/1.2/ht1rZ6fpRfbJPSHN4Mr3jg--~B/Zmk9ZmlsbDtoPTE0MDtweW9mZj0wO3c9MTQwO2FwcGlkPXl0YWNoeW9u/https://media.zenfs.com/en/techcrunch_350/80093db55bf805ed9a60e96dfcd621c3', 'width': 140, 'height': 140, 'tag': '140x140'}]}}, {'uuid': '7fffe5bf-a721-385b-86fc-aba151db95db', 'title': \"Mexico says won't accept US 'invasion' in fight against cartels\", 'publisher': 'AFP', 'link': 'https://finance.yahoo.com/m/7fffe5bf-a721-385b-86fc-aba151db95db/mexico-says-won%27t-accept-us.html', 'providerPublishTime': 1740112092, 'type': 'STORY', 'thumbnail': {'resolutions': [{'url': 'https://s.yimg.com/uu/api/res/1.2/qtbK7yLRb0k4.7JWoWn6Yw--~B/aD01MDU7dz03Njg7YXBwaWQ9eXRhY2h5b24-/https://media.zenfs.com/en/afp.com/01e5d785c119af05c50d2279fc0ba0f6', 'width': 768, 'height': 505, 'tag': 'original'}, {'url': 'https://s.yimg.com/uu/api/res/1.2/RTAey5xuGMX_Fxrk5942bw--~B/Zmk9ZmlsbDtoPTE0MDtweW9mZj0wO3c9MTQwO2FwcGlkPXl0YWNoeW9u/https://media.zenfs.com/en/afp.com/01e5d785c119af05c50d2279fc0ba0f6', 'width': 140, 'height': 140, 'tag': '140x140'}]}}]\n"
     ]
    }
   ],
   "source": [
    "# get list of news\n",
    "news = yf.Search(\"SPY\", news_count=10).news\n",
    "print(news)"
   ]
  },
  {
   "cell_type": "markdown",
   "metadata": {},
   "source": [
    "[{'uuid': '3b60949d-46bb-3f94-a7d7-38a9bdc34b20', 'title': 'SPY Raked In $4B Wednesday, Retakes Top Spot From VOO', 'publisher': 'etf.com', 'link': 'https://finance.yahoo.com/m/3b60949d-46bb-3f94-a7d7-38a9bdc34b20/spy-raked-in-%244b-wednesday%2C.html', 'providerPublishTime': 1740094429, 'type': 'STORY', 'thumbnail': {'resolutions': [{'url': 'https://s.yimg.com/uu/api/res/1.2/pnyNICdWkqirjGwd7uiwOg--~B/aD04MzU7dz0xMjU1O2FwcGlkPXl0YWNoeW9u/https://media.zenfs.com/en/indexuniverse.com/bd1402ad0489963814a5c6b8508f9c91', 'width': 1255, 'height': 835, 'tag': 'original'}, {'url': 'https://s.yimg.com/uu/api/res/1.2/XrVCwerLwEwOA6cb_HaXdA--~B/Zmk9ZmlsbDtoPTE0MDtweW9mZj0wO3c9MTQwO2FwcGlkPXl0YWNoeW9u/https://media.zenfs.com/en/indexuniverse.com/bd1402ad0489963814a5c6b8508f9c91', 'width': 140, 'height': 140, 'tag': '140x140'}]}}, \n",
    "\n",
    "{'uuid': '29f890b9-c36b-3fa0-85e6-9a103a38b3d8', 'title': 'Exchange-Traded Funds Higher, Equity Futures Mixed Pre-Bell Friday Amid Ongoing Tariff Uncertainties', 'publisher': 'MT Newswires', 'link': 'https://finance.yahoo.com/news/exchange-traded-funds-higher-equity-133606423.html', 'providerPublishTime': 1740144966, 'type': 'STORY', 'relatedTickers': ['SPY', 'SLV']}, \n",
    "\n",
    "{'uuid': '24f62096-3e03-3387-9bef-0415d00e3ef3', 'title': \"Why Did Warren Buffett Just Sell Investments He's Recommended Millions of Others Buy?\", 'publisher': 'Motley Fool', 'link': 'https://finance.yahoo.com/m/24f62096-3e03-3387-9bef-0415d00e3ef3/why-did-warren-buffett-just.html', 'providerPublishTime': 1740135120, 'type': 'STORY', 'thumbnail': {'resolutions': [{'url': 'https://s.yimg.com/uu/api/res/1.2/.Mxseoyo5_urE22Vfeob3w--~B/aD05MzI7dz0xNDAwO2FwcGlkPXl0YWNoeW9u/https://media.zenfs.com/en/motleyfool.com/a0cbb412c469959cf5d8c1874cbc47da', 'width': 1400, 'height': 932, 'tag': 'original'}, {'url': 'https://s.yimg.com/uu/api/res/1.2/NiExsM8kihPwbMVZtYCO6A--~B/Zmk9ZmlsbDtoPTE0MDtweW9mZj0wO3c9MTQwO2FwcGlkPXl0YWNoeW9u/https://media.zenfs.com/en/motleyfool.com/a0cbb412c469959cf5d8c1874cbc47da', 'width': 140, 'height': 140, 'tag': '140x140'}]}, 'relatedTickers': ['^GSPC', 'SPY']}, \n",
    "\n",
    "{'uuid': '7266c07f-d67f-3dcc-9f77-e7a1db61f8bf', 'title': \"Warren Buffett Just Issued His Most Daunting Warning to Wall Street Yet. It Couldn't Be Any Clearer\", 'publisher': 'Motley Fool', 'link': 'https://finance.yahoo.com/m/7266c07f-d67f-3dcc-9f77-e7a1db61f8bf/warren-buffett-just-issued.html', 'providerPublishTime': 1740148200, 'type': 'STORY', 'thumbnail': {'resolutions': [{'url': 'https://s.yimg.com/uu/api/res/1.2/3yXTcqp2bKF6VYs8O37AIg--~B/aD00NDE7dz03MjA7YXBwaWQ9eXRhY2h5b24-/https://media.zenfs.com/en/motleyfool.com/b3cb5c241089efb105bc52724c63dc33', 'width': 720, 'height': 441, 'tag': 'original'}, {'url': 'https://s.yimg.com/uu/api/res/1.2/J9FBnfpz8x5QlTwlGfJrQQ--~B/Zmk9ZmlsbDtoPTE0MDtweW9mZj0wO3c9MTQwO2FwcGlkPXl0YWNoeW9u/https://media.zenfs.com/en/motleyfool.com/b3cb5c241089efb105bc52724c63dc33', 'width': 140, 'height': 140, 'tag': '140x140'}]}, 'relatedTickers': ['^GSPC']}, \n",
    "\n",
    "{'uuid': '39529d37-08e9-350c-9e08-7e34c50fbda7', 'title': 'Warren Buffett Shockingly Dumps 2 Stocks He Told Everyone To Buy', 'publisher': \"Investor's Business Daily\", 'link': 'https://finance.yahoo.com/m/39529d37-08e9-350c-9e08-7e34c50fbda7/warren-buffett-shockingly.html', 'providerPublishTime': 1740142817, 'type': 'STORY', 'thumbnail': {'resolutions': [{'url': 'https://s.yimg.com/uu/api/res/1.2/FYd36PVAwIbd3bYjxJy1tw--~B/aD01NjM7dz0xMDAwO2FwcGlkPXl0YWNoeW9u/https://media.zenfs.com/en/ibd.com/f9e572c8a1caf838183ed40f221bcf79', 'width': 1000, 'height': 563, 'tag': 'original'}, {'url': 'https://s.yimg.com/uu/api/res/1.2/r1nQ0pfgLJR4wqpJh8x6Dg--~B/Zmk9ZmlsbDtoPTE0MDtweW9mZj0wO3c9MTQwO2FwcGlkPXl0YWNoeW9u/https://media.zenfs.com/en/ibd.com/f9e572c8a1caf838183ed40f221bcf79', 'width': 140, 'height': 140, 'tag': '140x140'}]}}, \n",
    "\n",
    "{'uuid': '720d58a6-d35c-3ff5-9670-08dc238f2645', 'title': 'Is Invesco Russell 1000 Equal Weight ETF (EQAL) a Strong ETF Right Now?', 'publisher': 'Zacks', 'link': 'https://finance.yahoo.com/news/invesco-russell-1000-equal-weight-112007813.html', 'providerPublishTime': 1740136807, 'type': 'STORY', 'thumbnail': {'resolutions': [{'url': 'https://s.yimg.com/uu/api/res/1.2/gUf3JPAiwp3PVjuDKftvaA--~B/aD04NDU7dz05MDA7YXBwaWQ9eXRhY2h5b24-/https://media.zenfs.com/en/zacks.com/26a86d59f0e8f1e82a35a92ae5684cd9', 'width': 900, 'height': 845, 'tag': 'original'}, {'url': 'https://s.yimg.com/uu/api/res/1.2/HpYEBsELOHKKt9_5_oEt0Q--~B/Zmk9ZmlsbDtoPTE0MDtweW9mZj0wO3c9MTQwO2FwcGlkPXl0YWNoeW9u/https://media.zenfs.com/en/zacks.com/26a86d59f0e8f1e82a35a92ae5684cd9', 'width': 140, 'height': 140, 'tag': '140x140'}]}, 'relatedTickers': ['^GSPC']}, \n",
    "\n",
    "{'uuid': 'acee6401-ab7f-3be3-9196-d7ce7988162d', 'title': \"More than one way to slice a workforce: How Trump's cuts differ from Clinton's\", 'publisher': 'USA TODAY', 'link': 'https://finance.yahoo.com/m/acee6401-ab7f-3be3-9196-d7ce7988162d/more-than-one-way-to-slice-a.html', 'providerPublishTime': 1740132710, 'type': 'STORY', 'thumbnail': {'resolutions': [{'url': 'https://s.yimg.com/uu/api/res/1.2/8QAMe785Mqg7jv8bCM.hpw--~B/aD0xNTE0O3c9MjA0ODthcHBpZD15dGFjaHlvbg--/https://media.zenfs.com/en/usa_today_news_641/4b8ebb46b25e7f1f1af58c1d6b1d6da5', 'width': 2048, 'height': 1514, 'tag': 'original'}, {'url': 'https://s.yimg.com/uu/api/res/1.2/hGjwMjQdNM26fLUt3_x_4w--~B/Zmk9ZmlsbDtoPTE0MDtweW9mZj0wO3c9MTQwO2FwcGlkPXl0YWNoeW9u/https://media.zenfs.com/en/usa_today_news_641/4b8ebb46b25e7f1f1af58c1d6b1d6da5', 'width': 140, 'height': 140, 'tag': '140x140'}]}}, \n",
    "\n",
    "{'uuid': 'fd95f3b0-6731-355c-80b6-85fd0754a0b4', 'title': 'Bond franchise shake-up moves spy into Amazon stable', 'publisher': 'AFP', 'link': 'https://finance.yahoo.com/m/fd95f3b0-6731-355c-80b6-85fd0754a0b4/bond-franchise-shake-up-moves.html', 'providerPublishTime': 1740085683, 'type': 'STORY', 'thumbnail': {'resolutions': [{'url': 'https://s.yimg.com/uu/api/res/1.2/3t9q2wb3WIzh6oMaSgG5mw--~B/aD01NjA7dz03Njg7YXBwaWQ9eXRhY2h5b24-/https://media.zenfs.com/en/afp.com/29cad0992e8ac9169630eaab9e4271a9', 'width': 768, 'height': 560, 'tag': 'original'}, {'url': 'https://s.yimg.com/uu/api/res/1.2/.yLQEEvEmH4gCDd05crWkA--~B/Zmk9ZmlsbDtoPTE0MDtweW9mZj0wO3c9MTQwO2FwcGlkPXl0YWNoeW9u/https://media.zenfs.com/en/afp.com/29cad0992e8ac9169630eaab9e4271a9', 'width': 140, 'height': 140, 'tag': '140x140'}]}}, \n",
    "\n",
    "{'uuid': 'd281cb5d-7d5d-3a0f-a399-a1ec116ba4fd', 'title': 'Hacked, leaked, exposed: Why you should never use stalkerware apps', 'publisher': 'TechCrunch', 'link': 'https://finance.yahoo.com/m/d281cb5d-7d5d-3a0f-a399-a1ec116ba4fd/hacked%2C-leaked%2C-exposed%3A-why.html', 'providerPublishTime': 1740082800, 'type': 'STORY', 'thumbnail': {'resolutions': [{'url': 'https://s.yimg.com/uu/api/res/1.2/OG24ROegto0eVwOMdSPhkw--~B/aD03OTk7dz0xMjAwO2FwcGlkPXl0YWNoeW9u/https://media.zenfs.com/en/techcrunch_350/80093db55bf805ed9a60e96dfcd621c3', 'width': 1200, 'height': 799, 'tag': 'original'}, {'url': 'https://s.yimg.com/uu/api/res/1.2/ht1rZ6fpRfbJPSHN4Mr3jg--~B/Zmk9ZmlsbDtoPTE0MDtweW9mZj0wO3c9MTQwO2FwcGlkPXl0YWNoeW9u/https://media.zenfs.com/en/techcrunch_350/80093db55bf805ed9a60e96dfcd621c3', 'width': 140, 'height': 140, 'tag': '140x140'}]}}, \n",
    "\n",
    "{'uuid': '7fffe5bf-a721-385b-86fc-aba151db95db', 'title': \"Mexico says won't accept US 'invasion' in fight against cartels\", 'publisher': 'AFP', 'link': 'https://finance.yahoo.com/m/7fffe5bf-a721-385b-86fc-aba151db95db/mexico-says-won%27t-accept-us.html', 'providerPublishTime': 1740112092, 'type': 'STORY', 'thumbnail': {'resolutions': [{'url': 'https://s.yimg.com/uu/api/res/1.2/qtbK7yLRb0k4.7JWoWn6Yw--~B/aD01MDU7dz03Njg7YXBwaWQ9eXRhY2h5b24-/https://media.zenfs.com/en/afp.com/01e5d785c119af05c50d2279fc0ba0f6', 'width': 768, 'height': 505, 'tag': 'original'}, {'url': 'https://s.yimg.com/uu/api/res/1.2/RTAey5xuGMX_Fxrk5942bw--~B/Zmk9ZmlsbDtoPTE0MDtweW9mZj0wO3c9MTQwO2FwcGlkPXl0YWNoeW9u/https://media.zenfs.com/en/afp.com/01e5d785c119af05c50d2279fc0ba0f6', 'width': 140, 'height': 140, 'tag': '140x140'}]}}]"
   ]
  },
  {
   "cell_type": "code",
   "execution_count": 6,
   "metadata": {},
   "outputs": [
    {
     "name": "stdout",
     "output_type": "stream",
     "text": [
      "[{'reportHeadline': 'Alibaba: Fair Value Estimate Up by 28% Due to Higher AI Adoption and Capital Returns to Shareholders', 'author': 'Chelsey Tam', 'reportDate': 1740041145000, 'id': 'MS_0P00013K81_AnalystReport_1740041145000', 'provider': 'Morningstar'}, {'reportHeadline': 'Understanding AI Growth Opportunities', 'reportDate': 1739882097000, 'id': 'ARGUS_42685_MarketOutlook_1739882097000', 'provider': 'Argus'}, {'reportHeadline': 'AMD Earnings: Cutting Our Fair Value Estimate to $140 From $160 Amid a Weak AI GPU Forecast', 'author': 'Brian Colello', 'reportDate': 1738726077000, 'id': 'MS_0P0000006A_AnalystReport_1738726077000', 'provider': 'Morningstar'}]\n"
     ]
    }
   ],
   "source": [
    "# get list of related research\n",
    "research = yf.Search(\"SPY\", include_research=True).research\n",
    "print(research)"
   ]
  },
  {
   "cell_type": "markdown",
   "metadata": {},
   "source": [
    "[{'reportHeadline': 'Alibaba: Fair Value Estimate Up by 28% Due to Higher AI Adoption and Capital Returns to Shareholders', 'author': 'Chelsey Tam', 'reportDate': 1740041145000, 'id': 'MS_0P00013K81_AnalystReport_1740041145000', 'provider': 'Morningstar'}, {'reportHeadline': 'Understanding AI Growth Opportunities', 'reportDate': 1739882097000, 'id': 'ARGUS_42685_MarketOutlook_1739882097000', 'provider': 'Argus'}, {'reportHeadline': 'AMD Earnings: Cutting Our Fair Value Estimate to $140 From $160 Amid a Weak AI GPU Forecast', 'author': 'Brian Colello', 'reportDate': 1738726077000, 'id': 'MS_0P0000006A_AnalystReport_1738726077000', 'provider': 'Morningstar'}]"
   ]
  }
 ],
 "metadata": {
  "kernelspec": {
   "display_name": ".venv",
   "language": "python",
   "name": "python3"
  },
  "language_info": {
   "codemirror_mode": {
    "name": "ipython",
    "version": 3
   },
   "file_extension": ".py",
   "mimetype": "text/x-python",
   "name": "python",
   "nbconvert_exporter": "python",
   "pygments_lexer": "ipython3",
   "version": "3.10.15"
  }
 },
 "nbformat": 4,
 "nbformat_minor": 2
}
