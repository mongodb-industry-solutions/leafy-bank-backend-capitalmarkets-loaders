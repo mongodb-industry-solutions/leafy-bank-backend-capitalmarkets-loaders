{
 "cells": [
  {
   "cell_type": "markdown",
   "metadata": {},
   "source": [
    "# pyfredapi\n",
    "\n",
    "A Python library for the Federal Reserve Economic Data (FRED) API: \n",
    "https://fred.stlouisfed.org/docs/api/fred/\n",
    "\n",
    "## Github\n",
    "\n",
    "https://github.com/gw-moore/pyfredapi\n",
    "\n",
    "## Documentation\n",
    "\n",
    "https://pyfredapi.readthedocs.io/en/latest/\n",
    "\n",
    "## Description\n",
    "\n",
    "pyfredapi is a Python library that makes it is easy to retrieve data from the FRED API web service.\n",
    "\n",
    "pyfredapi covers all the FRED API endpoints, and can retrieve data from FRED and ALFRED. Data can be returned as a pandas dataframe or as json. Requests to the FRED API can be customized according to the parameters made available by the web service endpoints."
   ]
  },
  {
   "cell_type": "code",
   "execution_count": 24,
   "metadata": {},
   "outputs": [
    {
     "name": "stdout",
     "output_type": "stream",
     "text": [
      "Requirement already satisfied: python-dotenv in /Users/julian.boronat/Github/mongodb/mongodb-industry-solutions/leafy-bank-backend-capitalmarkets/.venv/lib/python3.10/site-packages (1.0.1)\n",
      "Note: you may need to restart the kernel to use updated packages.\n"
     ]
    }
   ],
   "source": [
    "# Install dependencies\n",
    "%pip install python-dotenv"
   ]
  },
  {
   "cell_type": "code",
   "execution_count": null,
   "metadata": {},
   "outputs": [],
   "source": [
    "from dotenv import load_dotenv\n",
    "import os\n",
    "\n",
    "# Load environment variables\n",
    "load_dotenv()\n",
    "\n",
    "# FRED API key\n",
    "FRED_API_KEY = os.getenv(\"FRED_API_KEY\")\n",
    "\n",
    "if not os.environ.get(\"FRED_API_KEY\"):\n",
    "    os.environ[\"FRED_API_KEY\"] = FRED_API_KEY"
   ]
  },
  {
   "cell_type": "code",
   "execution_count": 27,
   "metadata": {},
   "outputs": [
    {
     "name": "stdout",
     "output_type": "stream",
     "text": [
      "Requirement already satisfied: pyfredapi in /Users/julian.boronat/Github/mongodb/mongodb-industry-solutions/leafy-bank-backend-capitalmarkets/.venv/lib/python3.10/site-packages (0.9.1)\n",
      "Requirement already satisfied: rprint in /Users/julian.boronat/Github/mongodb/mongodb-industry-solutions/leafy-bank-backend-capitalmarkets/.venv/lib/python3.10/site-packages (0.0.8)\n",
      "Requirement already satisfied: numpy<2.0.0,>=1.0.0 in /Users/julian.boronat/Github/mongodb/mongodb-industry-solutions/leafy-bank-backend-capitalmarkets/.venv/lib/python3.10/site-packages (from pyfredapi) (1.26.4)\n",
      "Requirement already satisfied: pandas<3.0.0,>=1.0.0 in /Users/julian.boronat/Github/mongodb/mongodb-industry-solutions/leafy-bank-backend-capitalmarkets/.venv/lib/python3.10/site-packages (from pyfredapi) (2.2.3)\n",
      "Requirement already satisfied: pydantic<3.0.0,>=2.0.0 in /Users/julian.boronat/Github/mongodb/mongodb-industry-solutions/leafy-bank-backend-capitalmarkets/.venv/lib/python3.10/site-packages (from pyfredapi) (2.10.6)\n",
      "Requirement already satisfied: requests<3.0.0,>=2.0.0 in /Users/julian.boronat/Github/mongodb/mongodb-industry-solutions/leafy-bank-backend-capitalmarkets/.venv/lib/python3.10/site-packages (from pyfredapi) (2.32.3)\n",
      "Requirement already satisfied: rich<14.0.0,>=13.0.0 in /Users/julian.boronat/Github/mongodb/mongodb-industry-solutions/leafy-bank-backend-capitalmarkets/.venv/lib/python3.10/site-packages (from pyfredapi) (13.9.4)\n",
      "Requirement already satisfied: python-dateutil>=2.8.2 in /Users/julian.boronat/Github/mongodb/mongodb-industry-solutions/leafy-bank-backend-capitalmarkets/.venv/lib/python3.10/site-packages (from pandas<3.0.0,>=1.0.0->pyfredapi) (2.9.0.post0)\n",
      "Requirement already satisfied: pytz>=2020.1 in /Users/julian.boronat/Github/mongodb/mongodb-industry-solutions/leafy-bank-backend-capitalmarkets/.venv/lib/python3.10/site-packages (from pandas<3.0.0,>=1.0.0->pyfredapi) (2025.1)\n",
      "Requirement already satisfied: tzdata>=2022.7 in /Users/julian.boronat/Github/mongodb/mongodb-industry-solutions/leafy-bank-backend-capitalmarkets/.venv/lib/python3.10/site-packages (from pandas<3.0.0,>=1.0.0->pyfredapi) (2025.1)\n",
      "Requirement already satisfied: annotated-types>=0.6.0 in /Users/julian.boronat/Github/mongodb/mongodb-industry-solutions/leafy-bank-backend-capitalmarkets/.venv/lib/python3.10/site-packages (from pydantic<3.0.0,>=2.0.0->pyfredapi) (0.7.0)\n",
      "Requirement already satisfied: pydantic-core==2.27.2 in /Users/julian.boronat/Github/mongodb/mongodb-industry-solutions/leafy-bank-backend-capitalmarkets/.venv/lib/python3.10/site-packages (from pydantic<3.0.0,>=2.0.0->pyfredapi) (2.27.2)\n",
      "Requirement already satisfied: typing-extensions>=4.12.2 in /Users/julian.boronat/Github/mongodb/mongodb-industry-solutions/leafy-bank-backend-capitalmarkets/.venv/lib/python3.10/site-packages (from pydantic<3.0.0,>=2.0.0->pyfredapi) (4.12.2)\n",
      "Requirement already satisfied: charset-normalizer<4,>=2 in /Users/julian.boronat/Github/mongodb/mongodb-industry-solutions/leafy-bank-backend-capitalmarkets/.venv/lib/python3.10/site-packages (from requests<3.0.0,>=2.0.0->pyfredapi) (3.4.1)\n",
      "Requirement already satisfied: idna<4,>=2.5 in /Users/julian.boronat/Github/mongodb/mongodb-industry-solutions/leafy-bank-backend-capitalmarkets/.venv/lib/python3.10/site-packages (from requests<3.0.0,>=2.0.0->pyfredapi) (3.10)\n",
      "Requirement already satisfied: urllib3<3,>=1.21.1 in /Users/julian.boronat/Github/mongodb/mongodb-industry-solutions/leafy-bank-backend-capitalmarkets/.venv/lib/python3.10/site-packages (from requests<3.0.0,>=2.0.0->pyfredapi) (2.3.0)\n",
      "Requirement already satisfied: certifi>=2017.4.17 in /Users/julian.boronat/Github/mongodb/mongodb-industry-solutions/leafy-bank-backend-capitalmarkets/.venv/lib/python3.10/site-packages (from requests<3.0.0,>=2.0.0->pyfredapi) (2025.1.31)\n",
      "Requirement already satisfied: markdown-it-py>=2.2.0 in /Users/julian.boronat/Github/mongodb/mongodb-industry-solutions/leafy-bank-backend-capitalmarkets/.venv/lib/python3.10/site-packages (from rich<14.0.0,>=13.0.0->pyfredapi) (3.0.0)\n",
      "Requirement already satisfied: pygments<3.0.0,>=2.13.0 in /Users/julian.boronat/Github/mongodb/mongodb-industry-solutions/leafy-bank-backend-capitalmarkets/.venv/lib/python3.10/site-packages (from rich<14.0.0,>=13.0.0->pyfredapi) (2.19.1)\n",
      "Requirement already satisfied: mdurl~=0.1 in /Users/julian.boronat/Github/mongodb/mongodb-industry-solutions/leafy-bank-backend-capitalmarkets/.venv/lib/python3.10/site-packages (from markdown-it-py>=2.2.0->rich<14.0.0,>=13.0.0->pyfredapi) (0.1.2)\n",
      "Requirement already satisfied: six>=1.5 in /Users/julian.boronat/Github/mongodb/mongodb-industry-solutions/leafy-bank-backend-capitalmarkets/.venv/lib/python3.10/site-packages (from python-dateutil>=2.8.2->pandas<3.0.0,>=1.0.0->pyfredapi) (1.17.0)\n",
      "Note: you may need to restart the kernel to use updated packages.\n"
     ]
    }
   ],
   "source": [
    "# Install packages\n",
    "%pip install pyfredapi rprint"
   ]
  },
  {
   "cell_type": "code",
   "execution_count": 28,
   "metadata": {},
   "outputs": [],
   "source": [
    "from rich import print as rprint\n",
    "from rich.pretty import pprint\n",
    "\n",
    "import pyfredapi as pf"
   ]
  },
  {
   "cell_type": "markdown",
   "metadata": {},
   "source": [
    "## Macroeconomic Parameters: \n",
    "\n",
    "### - GDP growth\n",
    "### - Inflation rate\n",
    "### - Unemployment rate"
   ]
  },
  {
   "cell_type": "markdown",
   "metadata": {},
   "source": [
    "## Series Metadata\n",
    "\n",
    "Before looking at series data, it is helpful to understand the pyfredapi's get_series_info function and SeriesInfo object. Each series published by FRED has associated metadata such as:\n",
    "\n",
    "- Start and end dates\n",
    "- Publish frequency\n",
    "- Unit of measure\n",
    "\n",
    "You can query a series' information directly with get_series_info. The get_series_info function returns a SeriesInfo object that contains all the metadata for the given series.\n",
    "\n",
    "In the below example, we request information for the U.S. GDP series. From the result, we can see that the GDP series is\n",
    "\n",
    "- Published quarterly\n",
    "- The earliest data available is 1947-01-01\n",
    "- The unit of measure is Billions of Dollars"
   ]
  },
  {
   "cell_type": "code",
   "execution_count": 29,
   "metadata": {},
   "outputs": [],
   "source": [
    "from datetime import datetime\n",
    "\n",
    "# Get the current year\n",
    "current_year = datetime.now().year\n",
    "\n",
    "# Get past year\n",
    "past_year = current_year - 1\n",
    "\n",
    "# Define the observation start and end dates for the current year\n",
    "extra_parameters = {\n",
    "    \"observation_start\": f\"{past_year}-01-01\",\n",
    "    \"observation_end\": f\"{current_year}-12-31\",\n",
    "}"
   ]
  },
  {
   "cell_type": "markdown",
   "metadata": {},
   "source": [
    "### U.S. GDP series"
   ]
  },
  {
   "cell_type": "code",
   "execution_count": 30,
   "metadata": {},
   "outputs": [
    {
     "data": {
      "text/html": [
       "<pre style=\"white-space:pre;overflow-x:auto;line-height:normal;font-family:Menlo,'DejaVu Sans Mono',consolas,'Courier New',monospace\"><span style=\"color: #800080; text-decoration-color: #800080; font-weight: bold\">SeriesInfo</span><span style=\"font-weight: bold\">(</span>\n",
       "    <span style=\"color: #808000; text-decoration-color: #808000\">id</span>=<span style=\"color: #008000; text-decoration-color: #008000\">'GDP'</span>,\n",
       "    <span style=\"color: #808000; text-decoration-color: #808000\">realtime_start</span>=<span style=\"color: #008000; text-decoration-color: #008000\">'2025-01-30'</span>,\n",
       "    <span style=\"color: #808000; text-decoration-color: #808000\">realtime_end</span>=<span style=\"color: #008000; text-decoration-color: #008000\">'2025-01-30'</span>,\n",
       "    <span style=\"color: #808000; text-decoration-color: #808000\">title</span>=<span style=\"color: #008000; text-decoration-color: #008000\">'Gross Domestic Product'</span>,\n",
       "    <span style=\"color: #808000; text-decoration-color: #808000\">observation_start</span>=<span style=\"color: #008000; text-decoration-color: #008000\">'1947-01-01'</span>,\n",
       "    <span style=\"color: #808000; text-decoration-color: #808000\">observation_end</span>=<span style=\"color: #008000; text-decoration-color: #008000\">'2024-10-01'</span>,\n",
       "    <span style=\"color: #808000; text-decoration-color: #808000\">frequency</span>=<span style=\"color: #008000; text-decoration-color: #008000\">'Quarterly'</span>,\n",
       "    <span style=\"color: #808000; text-decoration-color: #808000\">frequency_short</span>=<span style=\"color: #008000; text-decoration-color: #008000\">'Q'</span>,\n",
       "    <span style=\"color: #808000; text-decoration-color: #808000\">units</span>=<span style=\"color: #008000; text-decoration-color: #008000\">'Billions of Dollars'</span>,\n",
       "    <span style=\"color: #808000; text-decoration-color: #808000\">units_short</span>=<span style=\"color: #008000; text-decoration-color: #008000\">'Bil. of $'</span>,\n",
       "    <span style=\"color: #808000; text-decoration-color: #808000\">seasonal_adjustment</span>=<span style=\"color: #008000; text-decoration-color: #008000\">'Seasonally Adjusted Annual Rate'</span>,\n",
       "    <span style=\"color: #808000; text-decoration-color: #808000\">seasonal_adjustment_short</span>=<span style=\"color: #008000; text-decoration-color: #008000\">'SAAR'</span>,\n",
       "    <span style=\"color: #808000; text-decoration-color: #808000\">last_updated</span>=<span style=\"color: #008000; text-decoration-color: #008000\">'2025-01-30 07:55:02-06'</span>,\n",
       "    <span style=\"color: #808000; text-decoration-color: #808000\">popularity</span>=<span style=\"color: #008080; text-decoration-color: #008080; font-weight: bold\">93</span>,\n",
       "    <span style=\"color: #808000; text-decoration-color: #808000\">notes</span>=<span style=\"color: #008000; text-decoration-color: #008000\">'BEA Account Code: A191RC\\n\\nGross domestic product (GDP), the featured measure of U.S. output, is the </span>\n",
       "<span style=\"color: #008000; text-decoration-color: #008000\">market value of the goods and services produced by labor and property located in the United States.For more </span>\n",
       "<span style=\"color: #008000; text-decoration-color: #008000\">information, see the Guide to the National Income and Product Accounts of the United States (NIPA) and the Bureau </span>\n",
       "<span style=\"color: #008000; text-decoration-color: #008000\">of Economic Analysis (http://www.bea.gov/national/pdf/nipaguid.pdf).'</span>\n",
       "<span style=\"font-weight: bold\">)</span>\n",
       "</pre>\n"
      ],
      "text/plain": [
       "\u001b[1;35mSeriesInfo\u001b[0m\u001b[1m(\u001b[0m\n",
       "    \u001b[33mid\u001b[0m=\u001b[32m'GDP'\u001b[0m,\n",
       "    \u001b[33mrealtime_start\u001b[0m=\u001b[32m'2025-01-30'\u001b[0m,\n",
       "    \u001b[33mrealtime_end\u001b[0m=\u001b[32m'2025-01-30'\u001b[0m,\n",
       "    \u001b[33mtitle\u001b[0m=\u001b[32m'Gross Domestic Product'\u001b[0m,\n",
       "    \u001b[33mobservation_start\u001b[0m=\u001b[32m'1947-01-01'\u001b[0m,\n",
       "    \u001b[33mobservation_end\u001b[0m=\u001b[32m'2024-10-01'\u001b[0m,\n",
       "    \u001b[33mfrequency\u001b[0m=\u001b[32m'Quarterly'\u001b[0m,\n",
       "    \u001b[33mfrequency_short\u001b[0m=\u001b[32m'Q'\u001b[0m,\n",
       "    \u001b[33munits\u001b[0m=\u001b[32m'Billions of Dollars'\u001b[0m,\n",
       "    \u001b[33munits_short\u001b[0m=\u001b[32m'Bil. of $'\u001b[0m,\n",
       "    \u001b[33mseasonal_adjustment\u001b[0m=\u001b[32m'Seasonally Adjusted Annual Rate'\u001b[0m,\n",
       "    \u001b[33mseasonal_adjustment_short\u001b[0m=\u001b[32m'SAAR'\u001b[0m,\n",
       "    \u001b[33mlast_updated\u001b[0m=\u001b[32m'2025-01-30 07:55:02-06'\u001b[0m,\n",
       "    \u001b[33mpopularity\u001b[0m=\u001b[1;36m93\u001b[0m,\n",
       "    \u001b[33mnotes\u001b[0m=\u001b[32m'BEA Account Code: A191RC\\n\\nGross domestic product \u001b[0m\u001b[32m(\u001b[0m\u001b[32mGDP\u001b[0m\u001b[32m)\u001b[0m\u001b[32m, the featured measure of U.S. output, is the \u001b[0m\n",
       "\u001b[32mmarket value of the goods and services produced by labor and property located in the United States.For more \u001b[0m\n",
       "\u001b[32minformation, see the Guide to the National Income and Product Accounts of the United States \u001b[0m\u001b[32m(\u001b[0m\u001b[32mNIPA\u001b[0m\u001b[32m)\u001b[0m\u001b[32m and the Bureau \u001b[0m\n",
       "\u001b[32mof Economic Analysis \u001b[0m\u001b[32m(\u001b[0m\u001b[32mhttp://www.bea.gov/national/pdf/nipaguid.pdf\u001b[0m\u001b[32m)\u001b[0m\u001b[32m.'\u001b[0m\n",
       "\u001b[1m)\u001b[0m\n"
      ]
     },
     "metadata": {},
     "output_type": "display_data"
    }
   ],
   "source": [
    "gdp_info = pf.get_series_info(series_id=\"GDP\", api_key=FRED_API_KEY)\n",
    "\n",
    "# Using rich to pretty print the SeriesInfo\n",
    "rprint(gdp_info)"
   ]
  },
  {
   "cell_type": "code",
   "execution_count": 31,
   "metadata": {},
   "outputs": [],
   "source": [
    "# https://pyfredapi.readthedocs.io/en/latest/tutorials/series/#pandas-dataframe\n",
    "gdp_df = pf.get_series(series_id=\"GDP\")"
   ]
  },
  {
   "cell_type": "code",
   "execution_count": 32,
   "metadata": {},
   "outputs": [
    {
     "data": {
      "text/html": [
       "<div>\n",
       "<style scoped>\n",
       "    .dataframe tbody tr th:only-of-type {\n",
       "        vertical-align: middle;\n",
       "    }\n",
       "\n",
       "    .dataframe tbody tr th {\n",
       "        vertical-align: top;\n",
       "    }\n",
       "\n",
       "    .dataframe thead th {\n",
       "        text-align: right;\n",
       "    }\n",
       "</style>\n",
       "<table border=\"1\" class=\"dataframe\">\n",
       "  <thead>\n",
       "    <tr style=\"text-align: right;\">\n",
       "      <th></th>\n",
       "      <th>realtime_start</th>\n",
       "      <th>realtime_end</th>\n",
       "      <th>date</th>\n",
       "      <th>value</th>\n",
       "    </tr>\n",
       "  </thead>\n",
       "  <tbody>\n",
       "    <tr>\n",
       "      <th>311</th>\n",
       "      <td>2025-02-12</td>\n",
       "      <td>2025-02-12</td>\n",
       "      <td>2023-10-01</td>\n",
       "      <td>28296.967</td>\n",
       "    </tr>\n",
       "    <tr>\n",
       "      <th>312</th>\n",
       "      <td>2025-02-12</td>\n",
       "      <td>2025-02-12</td>\n",
       "      <td>2024-01-01</td>\n",
       "      <td>28624.069</td>\n",
       "    </tr>\n",
       "    <tr>\n",
       "      <th>313</th>\n",
       "      <td>2025-02-12</td>\n",
       "      <td>2025-02-12</td>\n",
       "      <td>2024-04-01</td>\n",
       "      <td>29016.714</td>\n",
       "    </tr>\n",
       "    <tr>\n",
       "      <th>314</th>\n",
       "      <td>2025-02-12</td>\n",
       "      <td>2025-02-12</td>\n",
       "      <td>2024-07-01</td>\n",
       "      <td>29374.914</td>\n",
       "    </tr>\n",
       "    <tr>\n",
       "      <th>315</th>\n",
       "      <td>2025-02-12</td>\n",
       "      <td>2025-02-12</td>\n",
       "      <td>2024-10-01</td>\n",
       "      <td>29700.580</td>\n",
       "    </tr>\n",
       "  </tbody>\n",
       "</table>\n",
       "</div>"
      ],
      "text/plain": [
       "    realtime_start realtime_end       date      value\n",
       "311     2025-02-12   2025-02-12 2023-10-01  28296.967\n",
       "312     2025-02-12   2025-02-12 2024-01-01  28624.069\n",
       "313     2025-02-12   2025-02-12 2024-04-01  29016.714\n",
       "314     2025-02-12   2025-02-12 2024-07-01  29374.914\n",
       "315     2025-02-12   2025-02-12 2024-10-01  29700.580"
      ]
     },
     "execution_count": 32,
     "metadata": {},
     "output_type": "execute_result"
    }
   ],
   "source": [
    "gdp_df.tail(5)"
   ]
  },
  {
   "cell_type": "code",
   "execution_count": 33,
   "metadata": {},
   "outputs": [
    {
     "data": {
      "text/plain": [
       "realtime_start            object\n",
       "realtime_end              object\n",
       "date              datetime64[ns]\n",
       "value                    float64\n",
       "dtype: object"
      ]
     },
     "execution_count": 33,
     "metadata": {},
     "output_type": "execute_result"
    }
   ],
   "source": [
    "gdp_df.dtypes"
   ]
  },
  {
   "cell_type": "code",
   "execution_count": 34,
   "metadata": {},
   "outputs": [],
   "source": [
    "gdp_json = pf.get_series(series_id=\"GDP\", return_format=\"json\")"
   ]
  },
  {
   "cell_type": "code",
   "execution_count": 35,
   "metadata": {},
   "outputs": [
    {
     "data": {
      "text/html": [
       "<pre style=\"white-space:pre;overflow-x:auto;line-height:normal;font-family:Menlo,'DejaVu Sans Mono',consolas,'Courier New',monospace\"><span style=\"font-weight: bold\">[</span>\n",
       "<span style=\"color: #7fbf7f; text-decoration-color: #7fbf7f\">│   </span><span style=\"font-weight: bold\">{</span><span style=\"color: #008000; text-decoration-color: #008000\">'realtime_start'</span>: <span style=\"color: #008000; text-decoration-color: #008000\">'2025-02-12'</span>, <span style=\"color: #008000; text-decoration-color: #008000\">'realtime_end'</span>: <span style=\"color: #008000; text-decoration-color: #008000\">'2025-02-12'</span>, <span style=\"color: #008000; text-decoration-color: #008000\">'date'</span>: <span style=\"color: #008000; text-decoration-color: #008000\">'1946-01-01'</span>, <span style=\"color: #008000; text-decoration-color: #008000\">'value'</span>: <span style=\"color: #008000; text-decoration-color: #008000\">'.'</span><span style=\"font-weight: bold\">}</span>,\n",
       "<span style=\"color: #7fbf7f; text-decoration-color: #7fbf7f\">│   </span><span style=\"font-weight: bold\">{</span><span style=\"color: #008000; text-decoration-color: #008000\">'realtime_start'</span>: <span style=\"color: #008000; text-decoration-color: #008000\">'2025-02-12'</span>, <span style=\"color: #008000; text-decoration-color: #008000\">'realtime_end'</span>: <span style=\"color: #008000; text-decoration-color: #008000\">'2025-02-12'</span>, <span style=\"color: #008000; text-decoration-color: #008000\">'date'</span>: <span style=\"color: #008000; text-decoration-color: #008000\">'1946-04-01'</span>, <span style=\"color: #008000; text-decoration-color: #008000\">'value'</span>: <span style=\"color: #008000; text-decoration-color: #008000\">'.'</span><span style=\"font-weight: bold\">}</span>,\n",
       "<span style=\"color: #7fbf7f; text-decoration-color: #7fbf7f\">│   </span><span style=\"font-weight: bold\">{</span><span style=\"color: #008000; text-decoration-color: #008000\">'realtime_start'</span>: <span style=\"color: #008000; text-decoration-color: #008000\">'2025-02-12'</span>, <span style=\"color: #008000; text-decoration-color: #008000\">'realtime_end'</span>: <span style=\"color: #008000; text-decoration-color: #008000\">'2025-02-12'</span>, <span style=\"color: #008000; text-decoration-color: #008000\">'date'</span>: <span style=\"color: #008000; text-decoration-color: #008000\">'1946-07-01'</span>, <span style=\"color: #008000; text-decoration-color: #008000\">'value'</span>: <span style=\"color: #008000; text-decoration-color: #008000\">'.'</span><span style=\"font-weight: bold\">}</span>,\n",
       "<span style=\"color: #7fbf7f; text-decoration-color: #7fbf7f\">│   </span><span style=\"font-weight: bold\">{</span><span style=\"color: #008000; text-decoration-color: #008000\">'realtime_start'</span>: <span style=\"color: #008000; text-decoration-color: #008000\">'2025-02-12'</span>, <span style=\"color: #008000; text-decoration-color: #008000\">'realtime_end'</span>: <span style=\"color: #008000; text-decoration-color: #008000\">'2025-02-12'</span>, <span style=\"color: #008000; text-decoration-color: #008000\">'date'</span>: <span style=\"color: #008000; text-decoration-color: #008000\">'1946-10-01'</span>, <span style=\"color: #008000; text-decoration-color: #008000\">'value'</span>: <span style=\"color: #008000; text-decoration-color: #008000\">'.'</span><span style=\"font-weight: bold\">}</span>,\n",
       "<span style=\"color: #7fbf7f; text-decoration-color: #7fbf7f\">│   </span><span style=\"font-weight: bold\">{</span><span style=\"color: #008000; text-decoration-color: #008000\">'realtime_start'</span>: <span style=\"color: #008000; text-decoration-color: #008000\">'2025-02-12'</span>, <span style=\"color: #008000; text-decoration-color: #008000\">'realtime_end'</span>: <span style=\"color: #008000; text-decoration-color: #008000\">'2025-02-12'</span>, <span style=\"color: #008000; text-decoration-color: #008000\">'date'</span>: <span style=\"color: #008000; text-decoration-color: #008000\">'1947-01-01'</span>, <span style=\"color: #008000; text-decoration-color: #008000\">'value'</span>: <span style=\"color: #008000; text-decoration-color: #008000\">'243.164'</span><span style=\"font-weight: bold\">}</span>,\n",
       "<span style=\"color: #7fbf7f; text-decoration-color: #7fbf7f\">│   </span><span style=\"font-weight: bold\">{</span><span style=\"color: #008000; text-decoration-color: #008000\">'realtime_start'</span>: <span style=\"color: #008000; text-decoration-color: #008000\">'2025-02-12'</span>, <span style=\"color: #008000; text-decoration-color: #008000\">'realtime_end'</span>: <span style=\"color: #008000; text-decoration-color: #008000\">'2025-02-12'</span>, <span style=\"color: #008000; text-decoration-color: #008000\">'date'</span>: <span style=\"color: #008000; text-decoration-color: #008000\">'1947-04-01'</span>, <span style=\"color: #008000; text-decoration-color: #008000\">'value'</span>: <span style=\"color: #008000; text-decoration-color: #008000\">'245.968'</span><span style=\"font-weight: bold\">}</span>,\n",
       "<span style=\"color: #7fbf7f; text-decoration-color: #7fbf7f\">│   </span><span style=\"font-weight: bold\">{</span><span style=\"color: #008000; text-decoration-color: #008000\">'realtime_start'</span>: <span style=\"color: #008000; text-decoration-color: #008000\">'2025-02-12'</span>, <span style=\"color: #008000; text-decoration-color: #008000\">'realtime_end'</span>: <span style=\"color: #008000; text-decoration-color: #008000\">'2025-02-12'</span>, <span style=\"color: #008000; text-decoration-color: #008000\">'date'</span>: <span style=\"color: #008000; text-decoration-color: #008000\">'1947-07-01'</span>, <span style=\"color: #008000; text-decoration-color: #008000\">'value'</span>: <span style=\"color: #008000; text-decoration-color: #008000\">'249.585'</span><span style=\"font-weight: bold\">}</span>,\n",
       "<span style=\"color: #7fbf7f; text-decoration-color: #7fbf7f\">│   </span><span style=\"font-weight: bold\">{</span><span style=\"color: #008000; text-decoration-color: #008000\">'realtime_start'</span>: <span style=\"color: #008000; text-decoration-color: #008000\">'2025-02-12'</span>, <span style=\"color: #008000; text-decoration-color: #008000\">'realtime_end'</span>: <span style=\"color: #008000; text-decoration-color: #008000\">'2025-02-12'</span>, <span style=\"color: #008000; text-decoration-color: #008000\">'date'</span>: <span style=\"color: #008000; text-decoration-color: #008000\">'1947-10-01'</span>, <span style=\"color: #008000; text-decoration-color: #008000\">'value'</span>: <span style=\"color: #008000; text-decoration-color: #008000\">'259.745'</span><span style=\"font-weight: bold\">}</span>,\n",
       "<span style=\"color: #7fbf7f; text-decoration-color: #7fbf7f\">│   </span><span style=\"font-weight: bold\">{</span><span style=\"color: #008000; text-decoration-color: #008000\">'realtime_start'</span>: <span style=\"color: #008000; text-decoration-color: #008000\">'2025-02-12'</span>, <span style=\"color: #008000; text-decoration-color: #008000\">'realtime_end'</span>: <span style=\"color: #008000; text-decoration-color: #008000\">'2025-02-12'</span>, <span style=\"color: #008000; text-decoration-color: #008000\">'date'</span>: <span style=\"color: #008000; text-decoration-color: #008000\">'1948-01-01'</span>, <span style=\"color: #008000; text-decoration-color: #008000\">'value'</span>: <span style=\"color: #008000; text-decoration-color: #008000\">'265.742'</span><span style=\"font-weight: bold\">}</span>,\n",
       "<span style=\"color: #7fbf7f; text-decoration-color: #7fbf7f\">│   </span><span style=\"font-weight: bold\">{</span><span style=\"color: #008000; text-decoration-color: #008000\">'realtime_start'</span>: <span style=\"color: #008000; text-decoration-color: #008000\">'2025-02-12'</span>, <span style=\"color: #008000; text-decoration-color: #008000\">'realtime_end'</span>: <span style=\"color: #008000; text-decoration-color: #008000\">'2025-02-12'</span>, <span style=\"color: #008000; text-decoration-color: #008000\">'date'</span>: <span style=\"color: #008000; text-decoration-color: #008000\">'1948-04-01'</span>, <span style=\"color: #008000; text-decoration-color: #008000\">'value'</span>: <span style=\"color: #008000; text-decoration-color: #008000\">'272.567'</span><span style=\"font-weight: bold\">}</span>,\n",
       "<span style=\"color: #7fbf7f; text-decoration-color: #7fbf7f\">│   </span><span style=\"color: #808000; text-decoration-color: #808000\">...</span> +<span style=\"color: #008080; text-decoration-color: #008080; font-weight: bold\">306</span>\n",
       "<span style=\"font-weight: bold\">]</span>\n",
       "</pre>\n"
      ],
      "text/plain": [
       "\u001b[1m[\u001b[0m\n",
       "\u001b[2;32m│   \u001b[0m\u001b[1m{\u001b[0m\u001b[32m'realtime_start'\u001b[0m: \u001b[32m'2025-02-12'\u001b[0m, \u001b[32m'realtime_end'\u001b[0m: \u001b[32m'2025-02-12'\u001b[0m, \u001b[32m'date'\u001b[0m: \u001b[32m'1946-01-01'\u001b[0m, \u001b[32m'value'\u001b[0m: \u001b[32m'.'\u001b[0m\u001b[1m}\u001b[0m,\n",
       "\u001b[2;32m│   \u001b[0m\u001b[1m{\u001b[0m\u001b[32m'realtime_start'\u001b[0m: \u001b[32m'2025-02-12'\u001b[0m, \u001b[32m'realtime_end'\u001b[0m: \u001b[32m'2025-02-12'\u001b[0m, \u001b[32m'date'\u001b[0m: \u001b[32m'1946-04-01'\u001b[0m, \u001b[32m'value'\u001b[0m: \u001b[32m'.'\u001b[0m\u001b[1m}\u001b[0m,\n",
       "\u001b[2;32m│   \u001b[0m\u001b[1m{\u001b[0m\u001b[32m'realtime_start'\u001b[0m: \u001b[32m'2025-02-12'\u001b[0m, \u001b[32m'realtime_end'\u001b[0m: \u001b[32m'2025-02-12'\u001b[0m, \u001b[32m'date'\u001b[0m: \u001b[32m'1946-07-01'\u001b[0m, \u001b[32m'value'\u001b[0m: \u001b[32m'.'\u001b[0m\u001b[1m}\u001b[0m,\n",
       "\u001b[2;32m│   \u001b[0m\u001b[1m{\u001b[0m\u001b[32m'realtime_start'\u001b[0m: \u001b[32m'2025-02-12'\u001b[0m, \u001b[32m'realtime_end'\u001b[0m: \u001b[32m'2025-02-12'\u001b[0m, \u001b[32m'date'\u001b[0m: \u001b[32m'1946-10-01'\u001b[0m, \u001b[32m'value'\u001b[0m: \u001b[32m'.'\u001b[0m\u001b[1m}\u001b[0m,\n",
       "\u001b[2;32m│   \u001b[0m\u001b[1m{\u001b[0m\u001b[32m'realtime_start'\u001b[0m: \u001b[32m'2025-02-12'\u001b[0m, \u001b[32m'realtime_end'\u001b[0m: \u001b[32m'2025-02-12'\u001b[0m, \u001b[32m'date'\u001b[0m: \u001b[32m'1947-01-01'\u001b[0m, \u001b[32m'value'\u001b[0m: \u001b[32m'243.164'\u001b[0m\u001b[1m}\u001b[0m,\n",
       "\u001b[2;32m│   \u001b[0m\u001b[1m{\u001b[0m\u001b[32m'realtime_start'\u001b[0m: \u001b[32m'2025-02-12'\u001b[0m, \u001b[32m'realtime_end'\u001b[0m: \u001b[32m'2025-02-12'\u001b[0m, \u001b[32m'date'\u001b[0m: \u001b[32m'1947-04-01'\u001b[0m, \u001b[32m'value'\u001b[0m: \u001b[32m'245.968'\u001b[0m\u001b[1m}\u001b[0m,\n",
       "\u001b[2;32m│   \u001b[0m\u001b[1m{\u001b[0m\u001b[32m'realtime_start'\u001b[0m: \u001b[32m'2025-02-12'\u001b[0m, \u001b[32m'realtime_end'\u001b[0m: \u001b[32m'2025-02-12'\u001b[0m, \u001b[32m'date'\u001b[0m: \u001b[32m'1947-07-01'\u001b[0m, \u001b[32m'value'\u001b[0m: \u001b[32m'249.585'\u001b[0m\u001b[1m}\u001b[0m,\n",
       "\u001b[2;32m│   \u001b[0m\u001b[1m{\u001b[0m\u001b[32m'realtime_start'\u001b[0m: \u001b[32m'2025-02-12'\u001b[0m, \u001b[32m'realtime_end'\u001b[0m: \u001b[32m'2025-02-12'\u001b[0m, \u001b[32m'date'\u001b[0m: \u001b[32m'1947-10-01'\u001b[0m, \u001b[32m'value'\u001b[0m: \u001b[32m'259.745'\u001b[0m\u001b[1m}\u001b[0m,\n",
       "\u001b[2;32m│   \u001b[0m\u001b[1m{\u001b[0m\u001b[32m'realtime_start'\u001b[0m: \u001b[32m'2025-02-12'\u001b[0m, \u001b[32m'realtime_end'\u001b[0m: \u001b[32m'2025-02-12'\u001b[0m, \u001b[32m'date'\u001b[0m: \u001b[32m'1948-01-01'\u001b[0m, \u001b[32m'value'\u001b[0m: \u001b[32m'265.742'\u001b[0m\u001b[1m}\u001b[0m,\n",
       "\u001b[2;32m│   \u001b[0m\u001b[1m{\u001b[0m\u001b[32m'realtime_start'\u001b[0m: \u001b[32m'2025-02-12'\u001b[0m, \u001b[32m'realtime_end'\u001b[0m: \u001b[32m'2025-02-12'\u001b[0m, \u001b[32m'date'\u001b[0m: \u001b[32m'1948-04-01'\u001b[0m, \u001b[32m'value'\u001b[0m: \u001b[32m'272.567'\u001b[0m\u001b[1m}\u001b[0m,\n",
       "\u001b[2;32m│   \u001b[0m\u001b[33m...\u001b[0m +\u001b[1;36m306\u001b[0m\n",
       "\u001b[1m]\u001b[0m\n"
      ]
     },
     "metadata": {},
     "output_type": "display_data"
    }
   ],
   "source": [
    "pprint(gdp_json, max_length=10)"
   ]
  },
  {
   "cell_type": "code",
   "execution_count": 36,
   "metadata": {},
   "outputs": [],
   "source": [
    "# Fetch the GDP series data for the current year\n",
    "gdp_json = pf.get_series(series_id=\"GDP\", **extra_parameters, return_format=\"json\")"
   ]
  },
  {
   "cell_type": "code",
   "execution_count": 37,
   "metadata": {},
   "outputs": [
    {
     "data": {
      "text/html": [
       "<pre style=\"white-space:pre;overflow-x:auto;line-height:normal;font-family:Menlo,'DejaVu Sans Mono',consolas,'Courier New',monospace\"><span style=\"font-weight: bold\">[</span>\n",
       "<span style=\"color: #7fbf7f; text-decoration-color: #7fbf7f\">│   </span><span style=\"font-weight: bold\">{</span><span style=\"color: #008000; text-decoration-color: #008000\">'realtime_start'</span>: <span style=\"color: #008000; text-decoration-color: #008000\">'2025-02-14'</span>, <span style=\"color: #008000; text-decoration-color: #008000\">'realtime_end'</span>: <span style=\"color: #008000; text-decoration-color: #008000\">'2025-02-14'</span>, <span style=\"color: #008000; text-decoration-color: #008000\">'date'</span>: <span style=\"color: #008000; text-decoration-color: #008000\">'2024-01-01'</span>, <span style=\"color: #008000; text-decoration-color: #008000\">'value'</span>: <span style=\"color: #008000; text-decoration-color: #008000\">'28624.069'</span><span style=\"font-weight: bold\">}</span>,\n",
       "<span style=\"color: #7fbf7f; text-decoration-color: #7fbf7f\">│   </span><span style=\"font-weight: bold\">{</span><span style=\"color: #008000; text-decoration-color: #008000\">'realtime_start'</span>: <span style=\"color: #008000; text-decoration-color: #008000\">'2025-02-14'</span>, <span style=\"color: #008000; text-decoration-color: #008000\">'realtime_end'</span>: <span style=\"color: #008000; text-decoration-color: #008000\">'2025-02-14'</span>, <span style=\"color: #008000; text-decoration-color: #008000\">'date'</span>: <span style=\"color: #008000; text-decoration-color: #008000\">'2024-04-01'</span>, <span style=\"color: #008000; text-decoration-color: #008000\">'value'</span>: <span style=\"color: #008000; text-decoration-color: #008000\">'29016.714'</span><span style=\"font-weight: bold\">}</span>,\n",
       "<span style=\"color: #7fbf7f; text-decoration-color: #7fbf7f\">│   </span><span style=\"font-weight: bold\">{</span><span style=\"color: #008000; text-decoration-color: #008000\">'realtime_start'</span>: <span style=\"color: #008000; text-decoration-color: #008000\">'2025-02-14'</span>, <span style=\"color: #008000; text-decoration-color: #008000\">'realtime_end'</span>: <span style=\"color: #008000; text-decoration-color: #008000\">'2025-02-14'</span>, <span style=\"color: #008000; text-decoration-color: #008000\">'date'</span>: <span style=\"color: #008000; text-decoration-color: #008000\">'2024-07-01'</span>, <span style=\"color: #008000; text-decoration-color: #008000\">'value'</span>: <span style=\"color: #008000; text-decoration-color: #008000\">'29374.914'</span><span style=\"font-weight: bold\">}</span>,\n",
       "<span style=\"color: #7fbf7f; text-decoration-color: #7fbf7f\">│   </span><span style=\"font-weight: bold\">{</span><span style=\"color: #008000; text-decoration-color: #008000\">'realtime_start'</span>: <span style=\"color: #008000; text-decoration-color: #008000\">'2025-02-14'</span>, <span style=\"color: #008000; text-decoration-color: #008000\">'realtime_end'</span>: <span style=\"color: #008000; text-decoration-color: #008000\">'2025-02-14'</span>, <span style=\"color: #008000; text-decoration-color: #008000\">'date'</span>: <span style=\"color: #008000; text-decoration-color: #008000\">'2024-10-01'</span>, <span style=\"color: #008000; text-decoration-color: #008000\">'value'</span>: <span style=\"color: #008000; text-decoration-color: #008000\">'29700.58'</span><span style=\"font-weight: bold\">}</span>\n",
       "<span style=\"font-weight: bold\">]</span>\n",
       "</pre>\n"
      ],
      "text/plain": [
       "\u001b[1m[\u001b[0m\n",
       "\u001b[2;32m│   \u001b[0m\u001b[1m{\u001b[0m\u001b[32m'realtime_start'\u001b[0m: \u001b[32m'2025-02-14'\u001b[0m, \u001b[32m'realtime_end'\u001b[0m: \u001b[32m'2025-02-14'\u001b[0m, \u001b[32m'date'\u001b[0m: \u001b[32m'2024-01-01'\u001b[0m, \u001b[32m'value'\u001b[0m: \u001b[32m'28624.069'\u001b[0m\u001b[1m}\u001b[0m,\n",
       "\u001b[2;32m│   \u001b[0m\u001b[1m{\u001b[0m\u001b[32m'realtime_start'\u001b[0m: \u001b[32m'2025-02-14'\u001b[0m, \u001b[32m'realtime_end'\u001b[0m: \u001b[32m'2025-02-14'\u001b[0m, \u001b[32m'date'\u001b[0m: \u001b[32m'2024-04-01'\u001b[0m, \u001b[32m'value'\u001b[0m: \u001b[32m'29016.714'\u001b[0m\u001b[1m}\u001b[0m,\n",
       "\u001b[2;32m│   \u001b[0m\u001b[1m{\u001b[0m\u001b[32m'realtime_start'\u001b[0m: \u001b[32m'2025-02-14'\u001b[0m, \u001b[32m'realtime_end'\u001b[0m: \u001b[32m'2025-02-14'\u001b[0m, \u001b[32m'date'\u001b[0m: \u001b[32m'2024-07-01'\u001b[0m, \u001b[32m'value'\u001b[0m: \u001b[32m'29374.914'\u001b[0m\u001b[1m}\u001b[0m,\n",
       "\u001b[2;32m│   \u001b[0m\u001b[1m{\u001b[0m\u001b[32m'realtime_start'\u001b[0m: \u001b[32m'2025-02-14'\u001b[0m, \u001b[32m'realtime_end'\u001b[0m: \u001b[32m'2025-02-14'\u001b[0m, \u001b[32m'date'\u001b[0m: \u001b[32m'2024-10-01'\u001b[0m, \u001b[32m'value'\u001b[0m: \u001b[32m'29700.58'\u001b[0m\u001b[1m}\u001b[0m\n",
       "\u001b[1m]\u001b[0m\n"
      ]
     },
     "metadata": {},
     "output_type": "display_data"
    }
   ],
   "source": [
    "pprint(gdp_json, max_length=20)"
   ]
  },
  {
   "cell_type": "markdown",
   "metadata": {},
   "source": [
    "### U.S. Inflation rate\n",
    "\n",
    "https://fred.stlouisfed.org/tags/series?t=inflation\n"
   ]
  },
  {
   "cell_type": "markdown",
   "metadata": {},
   "source": [
    "### Consumer Price Index for All Urban Consumers: All Items in U.S. City Average (CPIAUCSL)\n",
    "\n",
    "https://fred.stlouisfed.org/series/CPIAUCSL\n",
    "\n",
    "Source: U.S. Bureau of Labor Statistics  Release: Consumer Price Index  \n",
    "Units:  Index 1982-1984=100, Seasonally Adjusted\n",
    "\n",
    "Frequency:  Monthly\n",
    "\n",
    "Notes:\n",
    "The Consumer Price Index for All Urban Consumers: All Items (CPIAUCSL) is a price index of a basket of goods and services paid by urban consumers. Percent changes in the price index measure the inflation rate between any two time periods. The most common inflation metric is the percent change from one year ago. It can also represent the buying habits of urban consumers. This particular index includes roughly 88 percent of the total population, accounting for wage earners, clerical workers, technical workers, self-employed, short-term workers, unemployed, retirees, and those not in the labor force.\n",
    "\n",
    "The CPIs are based on prices for food, clothing, shelter, and fuels; transportation fares; service fees (e.g., water and sewer service); and sales taxes. Prices are collected monthly from about 4,000 housing units and approximately 26,000 retail establishments across 87 urban areas. To calculate the index, price changes are averaged with weights representing their importance in the spending of the particular group. The index measures price changes (as a percent change) from a predetermined reference date. In addition to the original unadjusted index distributed, the Bureau of Labor Statistics also releases a seasonally adjusted index. The unadjusted series reflects all factors that may influence a change in prices. However, it can be very useful to look at the seasonally adjusted CPI, which removes the effects of seasonal changes, such as weather, school year, production cycles, and holidays.\n",
    "\n",
    "The CPI can be used to recognize periods of inflation and deflation. Significant increases in the CPI within a short time frame might indicate a period of inflation, and significant decreases in CPI within a short time frame might indicate a period of deflation. However, because the CPI includes volatile food and oil prices, it might not be a reliable measure of inflationary and deflationary periods. For a more accurate detection, the core CPI (CPILFESL) is often used. When using the CPI, please note that it is not applicable to all consumers and should not be used to determine relative living costs. Additionally, the CPI is a statistical measure vulnerable to sampling error since it is based on a sample of prices and not the complete average.\n",
    "\n",
    "For more information on the consumer price indexes, see:\n",
    "Bureau of Economic Analysis. \"CPI Detailed Report.\" 2013.\n",
    "Handbook of Methods\n",
    "Understanding the CPI: Frequently Asked Questions\n",
    "\n",
    "Suggested Citation:\n",
    "U.S. Bureau of Labor Statistics, Consumer Price Index for All Urban Consumers: All Items in U.S. City Average [CPIAUCSL], retrieved from FRED, Federal Reserve Bank of St. Louis; https://fred.stlouisfed.org/series/CPIAUCSL, February 14, 2025."
   ]
  },
  {
   "cell_type": "code",
   "execution_count": 38,
   "metadata": {},
   "outputs": [
    {
     "data": {
      "text/html": [
       "<pre style=\"white-space:pre;overflow-x:auto;line-height:normal;font-family:Menlo,'DejaVu Sans Mono',consolas,'Courier New',monospace\"><span style=\"color: #800080; text-decoration-color: #800080; font-weight: bold\">SeriesInfo</span><span style=\"font-weight: bold\">(</span>\n",
       "    <span style=\"color: #808000; text-decoration-color: #808000\">id</span>=<span style=\"color: #008000; text-decoration-color: #008000\">'CPIAUCSL'</span>,\n",
       "    <span style=\"color: #808000; text-decoration-color: #808000\">realtime_start</span>=<span style=\"color: #008000; text-decoration-color: #008000\">'2025-02-12'</span>,\n",
       "    <span style=\"color: #808000; text-decoration-color: #808000\">realtime_end</span>=<span style=\"color: #008000; text-decoration-color: #008000\">'2025-02-12'</span>,\n",
       "    <span style=\"color: #808000; text-decoration-color: #808000\">title</span>=<span style=\"color: #008000; text-decoration-color: #008000\">'Consumer Price Index for All Urban Consumers: All Items in U.S. City Average'</span>,\n",
       "    <span style=\"color: #808000; text-decoration-color: #808000\">observation_start</span>=<span style=\"color: #008000; text-decoration-color: #008000\">'1947-01-01'</span>,\n",
       "    <span style=\"color: #808000; text-decoration-color: #808000\">observation_end</span>=<span style=\"color: #008000; text-decoration-color: #008000\">'2025-01-01'</span>,\n",
       "    <span style=\"color: #808000; text-decoration-color: #808000\">frequency</span>=<span style=\"color: #008000; text-decoration-color: #008000\">'Monthly'</span>,\n",
       "    <span style=\"color: #808000; text-decoration-color: #808000\">frequency_short</span>=<span style=\"color: #008000; text-decoration-color: #008000\">'M'</span>,\n",
       "    <span style=\"color: #808000; text-decoration-color: #808000\">units</span>=<span style=\"color: #008000; text-decoration-color: #008000\">'Index 1982-1984=100'</span>,\n",
       "    <span style=\"color: #808000; text-decoration-color: #808000\">units_short</span>=<span style=\"color: #008000; text-decoration-color: #008000\">'Index 1982-1984=100'</span>,\n",
       "    <span style=\"color: #808000; text-decoration-color: #808000\">seasonal_adjustment</span>=<span style=\"color: #008000; text-decoration-color: #008000\">'Seasonally Adjusted'</span>,\n",
       "    <span style=\"color: #808000; text-decoration-color: #808000\">seasonal_adjustment_short</span>=<span style=\"color: #008000; text-decoration-color: #008000\">'SA'</span>,\n",
       "    <span style=\"color: #808000; text-decoration-color: #808000\">last_updated</span>=<span style=\"color: #008000; text-decoration-color: #008000\">'2025-02-12 07:43:49-06'</span>,\n",
       "    <span style=\"color: #808000; text-decoration-color: #808000\">popularity</span>=<span style=\"color: #008080; text-decoration-color: #008080; font-weight: bold\">95</span>,\n",
       "    <span style=\"color: #808000; text-decoration-color: #808000\">notes</span>=<span style=\"color: #008000; text-decoration-color: #008000\">'The Consumer Price Index for All Urban Consumers: All Items (CPIAUCSL) is a price index of a basket of </span>\n",
       "<span style=\"color: #008000; text-decoration-color: #008000\">goods and services paid by urban consumers. Percent changes in the price index measure the inflation rate between </span>\n",
       "<span style=\"color: #008000; text-decoration-color: #008000\">any two time periods. The most common inflation metric is the percent change from one year ago. It can also </span>\n",
       "<span style=\"color: #008000; text-decoration-color: #008000\">represent the buying habits of urban consumers. This particular index includes roughly 88 percent of the total </span>\n",
       "<span style=\"color: #008000; text-decoration-color: #008000\">population, accounting for wage earners, clerical workers, technical workers, self-employed, short-term workers, </span>\n",
       "<span style=\"color: #008000; text-decoration-color: #008000\">unemployed, retirees, and those not in the labor force.\\r\\n\\r\\nThe CPIs are based on prices for food, clothing, </span>\n",
       "<span style=\"color: #008000; text-decoration-color: #008000\">shelter, and fuels; transportation fares; service fees (e.g., water and sewer service); and sales taxes. Prices are</span>\n",
       "<span style=\"color: #008000; text-decoration-color: #008000\">collected monthly from about 4,000 housing units and approximately 26,000 retail establishments across 87 urban </span>\n",
       "<span style=\"color: #008000; text-decoration-color: #008000\">areas. To calculate the index, price changes are averaged with weights representing their importance in the </span>\n",
       "<span style=\"color: #008000; text-decoration-color: #008000\">spending of the particular group. The index measures price changes (as a percent change) from a predetermined </span>\n",
       "<span style=\"color: #008000; text-decoration-color: #008000\">reference date. In addition to the original unadjusted index distributed, the Bureau of Labor Statistics also </span>\n",
       "<span style=\"color: #008000; text-decoration-color: #008000\">releases a seasonally adjusted index. The unadjusted series reflects all factors that may influence a change in </span>\n",
       "<span style=\"color: #008000; text-decoration-color: #008000\">prices. However, it can be very useful to look at the seasonally adjusted CPI, which removes the effects of </span>\n",
       "<span style=\"color: #008000; text-decoration-color: #008000\">seasonal changes, such as weather, school year, production cycles, and holidays.\\r\\n\\r\\nThe CPI can be used to </span>\n",
       "<span style=\"color: #008000; text-decoration-color: #008000\">recognize periods of inflation and deflation. Significant increases in the CPI within a short time frame might </span>\n",
       "<span style=\"color: #008000; text-decoration-color: #008000\">indicate a period of inflation, and significant decreases in CPI within a short time frame might indicate a period </span>\n",
       "<span style=\"color: #008000; text-decoration-color: #008000\">of deflation. However, because the CPI includes volatile food and oil prices, it might not be a reliable measure of</span>\n",
       "<span style=\"color: #008000; text-decoration-color: #008000\">inflationary and deflationary periods. For a more accurate detection, the core CPI (CPILFESL </span>\n",
       "<span style=\"color: #008000; text-decoration-color: #008000\">(https://fred.stlouisfed.org/series/CPILFESL)) is often used. When using the CPI, please note that it is not </span>\n",
       "<span style=\"color: #008000; text-decoration-color: #008000\">applicable to all consumers and should not be used to determine relative living costs. Additionally, the CPI is a </span>\n",
       "<span style=\"color: #008000; text-decoration-color: #008000\">statistical measure vulnerable to sampling error since it is based on a sample of prices and not the complete </span>\n",
       "<span style=\"color: #008000; text-decoration-color: #008000\">average.\\r\\n\\r\\nFor more information on the consumer price indexes, see:  \\r\\nBureau of Economic Analysis. \"CPI </span>\n",
       "<span style=\"color: #008000; text-decoration-color: #008000\">Detailed Report.\" (https://www.bls.gov/cpi/) 2013.  \\r\\nHandbook of Methods </span>\n",
       "<span style=\"color: #008000; text-decoration-color: #008000\">(https://www.bls.gov/opub/hom/pdf/cpihom.pdf)  \\r\\nUnderstanding the CPI: Frequently Asked Questions </span>\n",
       "<span style=\"color: #008000; text-decoration-color: #008000\">(https://www.bls.gov/cpi/questions-and-answers.htm)'</span>\n",
       "<span style=\"font-weight: bold\">)</span>\n",
       "</pre>\n"
      ],
      "text/plain": [
       "\u001b[1;35mSeriesInfo\u001b[0m\u001b[1m(\u001b[0m\n",
       "    \u001b[33mid\u001b[0m=\u001b[32m'CPIAUCSL'\u001b[0m,\n",
       "    \u001b[33mrealtime_start\u001b[0m=\u001b[32m'2025-02-12'\u001b[0m,\n",
       "    \u001b[33mrealtime_end\u001b[0m=\u001b[32m'2025-02-12'\u001b[0m,\n",
       "    \u001b[33mtitle\u001b[0m=\u001b[32m'Consumer Price Index for All Urban Consumers: All Items in U.S. City Average'\u001b[0m,\n",
       "    \u001b[33mobservation_start\u001b[0m=\u001b[32m'1947-01-01'\u001b[0m,\n",
       "    \u001b[33mobservation_end\u001b[0m=\u001b[32m'2025-01-01'\u001b[0m,\n",
       "    \u001b[33mfrequency\u001b[0m=\u001b[32m'Monthly'\u001b[0m,\n",
       "    \u001b[33mfrequency_short\u001b[0m=\u001b[32m'M'\u001b[0m,\n",
       "    \u001b[33munits\u001b[0m=\u001b[32m'Index 1982-\u001b[0m\u001b[32m1984\u001b[0m\u001b[32m=\u001b[0m\u001b[32m100\u001b[0m\u001b[32m'\u001b[0m,\n",
       "    \u001b[33munits_short\u001b[0m=\u001b[32m'Index 1982-\u001b[0m\u001b[32m1984\u001b[0m\u001b[32m=\u001b[0m\u001b[32m100\u001b[0m\u001b[32m'\u001b[0m,\n",
       "    \u001b[33mseasonal_adjustment\u001b[0m=\u001b[32m'Seasonally Adjusted'\u001b[0m,\n",
       "    \u001b[33mseasonal_adjustment_short\u001b[0m=\u001b[32m'SA'\u001b[0m,\n",
       "    \u001b[33mlast_updated\u001b[0m=\u001b[32m'2025-02-12 07:43:49-06'\u001b[0m,\n",
       "    \u001b[33mpopularity\u001b[0m=\u001b[1;36m95\u001b[0m,\n",
       "    \u001b[33mnotes\u001b[0m=\u001b[32m'The Consumer Price Index for All Urban Consumers: All Items \u001b[0m\u001b[32m(\u001b[0m\u001b[32mCPIAUCSL\u001b[0m\u001b[32m)\u001b[0m\u001b[32m is a price index of a basket of \u001b[0m\n",
       "\u001b[32mgoods and services paid by urban consumers. Percent changes in the price index measure the inflation rate between \u001b[0m\n",
       "\u001b[32many two time periods. The most common inflation metric is the percent change from one year ago. It can also \u001b[0m\n",
       "\u001b[32mrepresent the buying habits of urban consumers. This particular index includes roughly 88 percent of the total \u001b[0m\n",
       "\u001b[32mpopulation, accounting for wage earners, clerical workers, technical workers, self-employed, short-term workers, \u001b[0m\n",
       "\u001b[32munemployed, retirees, and those not in the labor force.\\r\\n\\r\\nThe CPIs are based on prices for food, clothing, \u001b[0m\n",
       "\u001b[32mshelter, and fuels; transportation fares; service fees \u001b[0m\u001b[32m(\u001b[0m\u001b[32me.g., water and sewer service\u001b[0m\u001b[32m)\u001b[0m\u001b[32m; and sales taxes. Prices are\u001b[0m\n",
       "\u001b[32mcollected monthly from about 4,000 housing units and approximately 26,000 retail establishments across 87 urban \u001b[0m\n",
       "\u001b[32mareas. To calculate the index, price changes are averaged with weights representing their importance in the \u001b[0m\n",
       "\u001b[32mspending of the particular group. The index measures price changes \u001b[0m\u001b[32m(\u001b[0m\u001b[32mas a percent change\u001b[0m\u001b[32m)\u001b[0m\u001b[32m from a predetermined \u001b[0m\n",
       "\u001b[32mreference date. In addition to the original unadjusted index distributed, the Bureau of Labor Statistics also \u001b[0m\n",
       "\u001b[32mreleases a seasonally adjusted index. The unadjusted series reflects all factors that may influence a change in \u001b[0m\n",
       "\u001b[32mprices. However, it can be very useful to look at the seasonally adjusted CPI, which removes the effects of \u001b[0m\n",
       "\u001b[32mseasonal changes, such as weather, school year, production cycles, and holidays.\\r\\n\\r\\nThe CPI can be used to \u001b[0m\n",
       "\u001b[32mrecognize periods of inflation and deflation. Significant increases in the CPI within a short time frame might \u001b[0m\n",
       "\u001b[32mindicate a period of inflation, and significant decreases in CPI within a short time frame might indicate a period \u001b[0m\n",
       "\u001b[32mof deflation. However, because the CPI includes volatile food and oil prices, it might not be a reliable measure of\u001b[0m\n",
       "\u001b[32minflationary and deflationary periods. For a more accurate detection, the core CPI \u001b[0m\u001b[32m(\u001b[0m\u001b[32mCPILFESL \u001b[0m\n",
       "\u001b[32m(\u001b[0m\u001b[32mhttps://fred.stlouisfed.org/series/CPILFESL\u001b[0m\u001b[32m)\u001b[0m\u001b[32m)\u001b[0m\u001b[32m is often used. When using the CPI, please note that it is not \u001b[0m\n",
       "\u001b[32mapplicable to all consumers and should not be used to determine relative living costs. Additionally, the CPI is a \u001b[0m\n",
       "\u001b[32mstatistical measure vulnerable to sampling error since it is based on a sample of prices and not the complete \u001b[0m\n",
       "\u001b[32maverage.\\r\\n\\r\\nFor more information on the consumer price indexes, see:  \\r\\nBureau of Economic Analysis. \"CPI \u001b[0m\n",
       "\u001b[32mDetailed Report.\" \u001b[0m\u001b[32m(\u001b[0m\u001b[32mhttps://www.bls.gov/cpi/\u001b[0m\u001b[32m)\u001b[0m\u001b[32m 2013.  \\r\\nHandbook of Methods \u001b[0m\n",
       "\u001b[32m(\u001b[0m\u001b[32mhttps://www.bls.gov/opub/hom/pdf/cpihom.pdf\u001b[0m\u001b[32m)\u001b[0m\u001b[32m  \\r\\nUnderstanding the CPI: Frequently Asked Questions \u001b[0m\n",
       "\u001b[32m(\u001b[0m\u001b[32mhttps://www.bls.gov/cpi/questions-and-answers.htm\u001b[0m\u001b[32m)\u001b[0m\u001b[32m'\u001b[0m\n",
       "\u001b[1m)\u001b[0m\n"
      ]
     },
     "metadata": {},
     "output_type": "display_data"
    }
   ],
   "source": [
    "cpiaucsl_info = pf.get_series_info(series_id=\"CPIAUCSL\")\n",
    "rprint(cpiaucsl_info)"
   ]
  },
  {
   "cell_type": "markdown",
   "metadata": {},
   "source": [
    "### CPIAUCSL series"
   ]
  },
  {
   "cell_type": "code",
   "execution_count": 39,
   "metadata": {},
   "outputs": [
    {
     "data": {
      "text/html": [
       "<pre style=\"white-space:pre;overflow-x:auto;line-height:normal;font-family:Menlo,'DejaVu Sans Mono',consolas,'Courier New',monospace\"><span style=\"font-weight: bold\">[</span>\n",
       "<span style=\"color: #7fbf7f; text-decoration-color: #7fbf7f\">│   </span><span style=\"font-weight: bold\">{</span><span style=\"color: #008000; text-decoration-color: #008000\">'realtime_start'</span>: <span style=\"color: #008000; text-decoration-color: #008000\">'2025-02-14'</span>, <span style=\"color: #008000; text-decoration-color: #008000\">'realtime_end'</span>: <span style=\"color: #008000; text-decoration-color: #008000\">'2025-02-14'</span>, <span style=\"color: #008000; text-decoration-color: #008000\">'date'</span>: <span style=\"color: #008000; text-decoration-color: #008000\">'2024-01-01'</span>, <span style=\"color: #008000; text-decoration-color: #008000\">'value'</span>: <span style=\"color: #008000; text-decoration-color: #008000\">'309.794'</span><span style=\"font-weight: bold\">}</span>,\n",
       "<span style=\"color: #7fbf7f; text-decoration-color: #7fbf7f\">│   </span><span style=\"font-weight: bold\">{</span><span style=\"color: #008000; text-decoration-color: #008000\">'realtime_start'</span>: <span style=\"color: #008000; text-decoration-color: #008000\">'2025-02-14'</span>, <span style=\"color: #008000; text-decoration-color: #008000\">'realtime_end'</span>: <span style=\"color: #008000; text-decoration-color: #008000\">'2025-02-14'</span>, <span style=\"color: #008000; text-decoration-color: #008000\">'date'</span>: <span style=\"color: #008000; text-decoration-color: #008000\">'2024-02-01'</span>, <span style=\"color: #008000; text-decoration-color: #008000\">'value'</span>: <span style=\"color: #008000; text-decoration-color: #008000\">'311.022'</span><span style=\"font-weight: bold\">}</span>,\n",
       "<span style=\"color: #7fbf7f; text-decoration-color: #7fbf7f\">│   </span><span style=\"font-weight: bold\">{</span><span style=\"color: #008000; text-decoration-color: #008000\">'realtime_start'</span>: <span style=\"color: #008000; text-decoration-color: #008000\">'2025-02-14'</span>, <span style=\"color: #008000; text-decoration-color: #008000\">'realtime_end'</span>: <span style=\"color: #008000; text-decoration-color: #008000\">'2025-02-14'</span>, <span style=\"color: #008000; text-decoration-color: #008000\">'date'</span>: <span style=\"color: #008000; text-decoration-color: #008000\">'2024-03-01'</span>, <span style=\"color: #008000; text-decoration-color: #008000\">'value'</span>: <span style=\"color: #008000; text-decoration-color: #008000\">'312.107'</span><span style=\"font-weight: bold\">}</span>,\n",
       "<span style=\"color: #7fbf7f; text-decoration-color: #7fbf7f\">│   </span><span style=\"font-weight: bold\">{</span><span style=\"color: #008000; text-decoration-color: #008000\">'realtime_start'</span>: <span style=\"color: #008000; text-decoration-color: #008000\">'2025-02-14'</span>, <span style=\"color: #008000; text-decoration-color: #008000\">'realtime_end'</span>: <span style=\"color: #008000; text-decoration-color: #008000\">'2025-02-14'</span>, <span style=\"color: #008000; text-decoration-color: #008000\">'date'</span>: <span style=\"color: #008000; text-decoration-color: #008000\">'2024-04-01'</span>, <span style=\"color: #008000; text-decoration-color: #008000\">'value'</span>: <span style=\"color: #008000; text-decoration-color: #008000\">'313.016'</span><span style=\"font-weight: bold\">}</span>,\n",
       "<span style=\"color: #7fbf7f; text-decoration-color: #7fbf7f\">│   </span><span style=\"font-weight: bold\">{</span><span style=\"color: #008000; text-decoration-color: #008000\">'realtime_start'</span>: <span style=\"color: #008000; text-decoration-color: #008000\">'2025-02-14'</span>, <span style=\"color: #008000; text-decoration-color: #008000\">'realtime_end'</span>: <span style=\"color: #008000; text-decoration-color: #008000\">'2025-02-14'</span>, <span style=\"color: #008000; text-decoration-color: #008000\">'date'</span>: <span style=\"color: #008000; text-decoration-color: #008000\">'2024-05-01'</span>, <span style=\"color: #008000; text-decoration-color: #008000\">'value'</span>: <span style=\"color: #008000; text-decoration-color: #008000\">'313.140'</span><span style=\"font-weight: bold\">}</span>,\n",
       "<span style=\"color: #7fbf7f; text-decoration-color: #7fbf7f\">│   </span><span style=\"font-weight: bold\">{</span><span style=\"color: #008000; text-decoration-color: #008000\">'realtime_start'</span>: <span style=\"color: #008000; text-decoration-color: #008000\">'2025-02-14'</span>, <span style=\"color: #008000; text-decoration-color: #008000\">'realtime_end'</span>: <span style=\"color: #008000; text-decoration-color: #008000\">'2025-02-14'</span>, <span style=\"color: #008000; text-decoration-color: #008000\">'date'</span>: <span style=\"color: #008000; text-decoration-color: #008000\">'2024-06-01'</span>, <span style=\"color: #008000; text-decoration-color: #008000\">'value'</span>: <span style=\"color: #008000; text-decoration-color: #008000\">'313.131'</span><span style=\"font-weight: bold\">}</span>,\n",
       "<span style=\"color: #7fbf7f; text-decoration-color: #7fbf7f\">│   </span><span style=\"font-weight: bold\">{</span><span style=\"color: #008000; text-decoration-color: #008000\">'realtime_start'</span>: <span style=\"color: #008000; text-decoration-color: #008000\">'2025-02-14'</span>, <span style=\"color: #008000; text-decoration-color: #008000\">'realtime_end'</span>: <span style=\"color: #008000; text-decoration-color: #008000\">'2025-02-14'</span>, <span style=\"color: #008000; text-decoration-color: #008000\">'date'</span>: <span style=\"color: #008000; text-decoration-color: #008000\">'2024-07-01'</span>, <span style=\"color: #008000; text-decoration-color: #008000\">'value'</span>: <span style=\"color: #008000; text-decoration-color: #008000\">'313.566'</span><span style=\"font-weight: bold\">}</span>,\n",
       "<span style=\"color: #7fbf7f; text-decoration-color: #7fbf7f\">│   </span><span style=\"font-weight: bold\">{</span><span style=\"color: #008000; text-decoration-color: #008000\">'realtime_start'</span>: <span style=\"color: #008000; text-decoration-color: #008000\">'2025-02-14'</span>, <span style=\"color: #008000; text-decoration-color: #008000\">'realtime_end'</span>: <span style=\"color: #008000; text-decoration-color: #008000\">'2025-02-14'</span>, <span style=\"color: #008000; text-decoration-color: #008000\">'date'</span>: <span style=\"color: #008000; text-decoration-color: #008000\">'2024-08-01'</span>, <span style=\"color: #008000; text-decoration-color: #008000\">'value'</span>: <span style=\"color: #008000; text-decoration-color: #008000\">'314.131'</span><span style=\"font-weight: bold\">}</span>,\n",
       "<span style=\"color: #7fbf7f; text-decoration-color: #7fbf7f\">│   </span><span style=\"font-weight: bold\">{</span><span style=\"color: #008000; text-decoration-color: #008000\">'realtime_start'</span>: <span style=\"color: #008000; text-decoration-color: #008000\">'2025-02-14'</span>, <span style=\"color: #008000; text-decoration-color: #008000\">'realtime_end'</span>: <span style=\"color: #008000; text-decoration-color: #008000\">'2025-02-14'</span>, <span style=\"color: #008000; text-decoration-color: #008000\">'date'</span>: <span style=\"color: #008000; text-decoration-color: #008000\">'2024-09-01'</span>, <span style=\"color: #008000; text-decoration-color: #008000\">'value'</span>: <span style=\"color: #008000; text-decoration-color: #008000\">'314.851'</span><span style=\"font-weight: bold\">}</span>,\n",
       "<span style=\"color: #7fbf7f; text-decoration-color: #7fbf7f\">│   </span><span style=\"font-weight: bold\">{</span><span style=\"color: #008000; text-decoration-color: #008000\">'realtime_start'</span>: <span style=\"color: #008000; text-decoration-color: #008000\">'2025-02-14'</span>, <span style=\"color: #008000; text-decoration-color: #008000\">'realtime_end'</span>: <span style=\"color: #008000; text-decoration-color: #008000\">'2025-02-14'</span>, <span style=\"color: #008000; text-decoration-color: #008000\">'date'</span>: <span style=\"color: #008000; text-decoration-color: #008000\">'2024-10-01'</span>, <span style=\"color: #008000; text-decoration-color: #008000\">'value'</span>: <span style=\"color: #008000; text-decoration-color: #008000\">'315.564'</span><span style=\"font-weight: bold\">}</span>,\n",
       "<span style=\"color: #7fbf7f; text-decoration-color: #7fbf7f\">│   </span><span style=\"font-weight: bold\">{</span><span style=\"color: #008000; text-decoration-color: #008000\">'realtime_start'</span>: <span style=\"color: #008000; text-decoration-color: #008000\">'2025-02-14'</span>, <span style=\"color: #008000; text-decoration-color: #008000\">'realtime_end'</span>: <span style=\"color: #008000; text-decoration-color: #008000\">'2025-02-14'</span>, <span style=\"color: #008000; text-decoration-color: #008000\">'date'</span>: <span style=\"color: #008000; text-decoration-color: #008000\">'2024-11-01'</span>, <span style=\"color: #008000; text-decoration-color: #008000\">'value'</span>: <span style=\"color: #008000; text-decoration-color: #008000\">'316.449'</span><span style=\"font-weight: bold\">}</span>,\n",
       "<span style=\"color: #7fbf7f; text-decoration-color: #7fbf7f\">│   </span><span style=\"font-weight: bold\">{</span><span style=\"color: #008000; text-decoration-color: #008000\">'realtime_start'</span>: <span style=\"color: #008000; text-decoration-color: #008000\">'2025-02-14'</span>, <span style=\"color: #008000; text-decoration-color: #008000\">'realtime_end'</span>: <span style=\"color: #008000; text-decoration-color: #008000\">'2025-02-14'</span>, <span style=\"color: #008000; text-decoration-color: #008000\">'date'</span>: <span style=\"color: #008000; text-decoration-color: #008000\">'2024-12-01'</span>, <span style=\"color: #008000; text-decoration-color: #008000\">'value'</span>: <span style=\"color: #008000; text-decoration-color: #008000\">'317.603'</span><span style=\"font-weight: bold\">}</span>,\n",
       "<span style=\"color: #7fbf7f; text-decoration-color: #7fbf7f\">│   </span><span style=\"font-weight: bold\">{</span><span style=\"color: #008000; text-decoration-color: #008000\">'realtime_start'</span>: <span style=\"color: #008000; text-decoration-color: #008000\">'2025-02-14'</span>, <span style=\"color: #008000; text-decoration-color: #008000\">'realtime_end'</span>: <span style=\"color: #008000; text-decoration-color: #008000\">'2025-02-14'</span>, <span style=\"color: #008000; text-decoration-color: #008000\">'date'</span>: <span style=\"color: #008000; text-decoration-color: #008000\">'2025-01-01'</span>, <span style=\"color: #008000; text-decoration-color: #008000\">'value'</span>: <span style=\"color: #008000; text-decoration-color: #008000\">'319.086'</span><span style=\"font-weight: bold\">}</span>\n",
       "<span style=\"font-weight: bold\">]</span>\n",
       "</pre>\n"
      ],
      "text/plain": [
       "\u001b[1m[\u001b[0m\n",
       "\u001b[2;32m│   \u001b[0m\u001b[1m{\u001b[0m\u001b[32m'realtime_start'\u001b[0m: \u001b[32m'2025-02-14'\u001b[0m, \u001b[32m'realtime_end'\u001b[0m: \u001b[32m'2025-02-14'\u001b[0m, \u001b[32m'date'\u001b[0m: \u001b[32m'2024-01-01'\u001b[0m, \u001b[32m'value'\u001b[0m: \u001b[32m'309.794'\u001b[0m\u001b[1m}\u001b[0m,\n",
       "\u001b[2;32m│   \u001b[0m\u001b[1m{\u001b[0m\u001b[32m'realtime_start'\u001b[0m: \u001b[32m'2025-02-14'\u001b[0m, \u001b[32m'realtime_end'\u001b[0m: \u001b[32m'2025-02-14'\u001b[0m, \u001b[32m'date'\u001b[0m: \u001b[32m'2024-02-01'\u001b[0m, \u001b[32m'value'\u001b[0m: \u001b[32m'311.022'\u001b[0m\u001b[1m}\u001b[0m,\n",
       "\u001b[2;32m│   \u001b[0m\u001b[1m{\u001b[0m\u001b[32m'realtime_start'\u001b[0m: \u001b[32m'2025-02-14'\u001b[0m, \u001b[32m'realtime_end'\u001b[0m: \u001b[32m'2025-02-14'\u001b[0m, \u001b[32m'date'\u001b[0m: \u001b[32m'2024-03-01'\u001b[0m, \u001b[32m'value'\u001b[0m: \u001b[32m'312.107'\u001b[0m\u001b[1m}\u001b[0m,\n",
       "\u001b[2;32m│   \u001b[0m\u001b[1m{\u001b[0m\u001b[32m'realtime_start'\u001b[0m: \u001b[32m'2025-02-14'\u001b[0m, \u001b[32m'realtime_end'\u001b[0m: \u001b[32m'2025-02-14'\u001b[0m, \u001b[32m'date'\u001b[0m: \u001b[32m'2024-04-01'\u001b[0m, \u001b[32m'value'\u001b[0m: \u001b[32m'313.016'\u001b[0m\u001b[1m}\u001b[0m,\n",
       "\u001b[2;32m│   \u001b[0m\u001b[1m{\u001b[0m\u001b[32m'realtime_start'\u001b[0m: \u001b[32m'2025-02-14'\u001b[0m, \u001b[32m'realtime_end'\u001b[0m: \u001b[32m'2025-02-14'\u001b[0m, \u001b[32m'date'\u001b[0m: \u001b[32m'2024-05-01'\u001b[0m, \u001b[32m'value'\u001b[0m: \u001b[32m'313.140'\u001b[0m\u001b[1m}\u001b[0m,\n",
       "\u001b[2;32m│   \u001b[0m\u001b[1m{\u001b[0m\u001b[32m'realtime_start'\u001b[0m: \u001b[32m'2025-02-14'\u001b[0m, \u001b[32m'realtime_end'\u001b[0m: \u001b[32m'2025-02-14'\u001b[0m, \u001b[32m'date'\u001b[0m: \u001b[32m'2024-06-01'\u001b[0m, \u001b[32m'value'\u001b[0m: \u001b[32m'313.131'\u001b[0m\u001b[1m}\u001b[0m,\n",
       "\u001b[2;32m│   \u001b[0m\u001b[1m{\u001b[0m\u001b[32m'realtime_start'\u001b[0m: \u001b[32m'2025-02-14'\u001b[0m, \u001b[32m'realtime_end'\u001b[0m: \u001b[32m'2025-02-14'\u001b[0m, \u001b[32m'date'\u001b[0m: \u001b[32m'2024-07-01'\u001b[0m, \u001b[32m'value'\u001b[0m: \u001b[32m'313.566'\u001b[0m\u001b[1m}\u001b[0m,\n",
       "\u001b[2;32m│   \u001b[0m\u001b[1m{\u001b[0m\u001b[32m'realtime_start'\u001b[0m: \u001b[32m'2025-02-14'\u001b[0m, \u001b[32m'realtime_end'\u001b[0m: \u001b[32m'2025-02-14'\u001b[0m, \u001b[32m'date'\u001b[0m: \u001b[32m'2024-08-01'\u001b[0m, \u001b[32m'value'\u001b[0m: \u001b[32m'314.131'\u001b[0m\u001b[1m}\u001b[0m,\n",
       "\u001b[2;32m│   \u001b[0m\u001b[1m{\u001b[0m\u001b[32m'realtime_start'\u001b[0m: \u001b[32m'2025-02-14'\u001b[0m, \u001b[32m'realtime_end'\u001b[0m: \u001b[32m'2025-02-14'\u001b[0m, \u001b[32m'date'\u001b[0m: \u001b[32m'2024-09-01'\u001b[0m, \u001b[32m'value'\u001b[0m: \u001b[32m'314.851'\u001b[0m\u001b[1m}\u001b[0m,\n",
       "\u001b[2;32m│   \u001b[0m\u001b[1m{\u001b[0m\u001b[32m'realtime_start'\u001b[0m: \u001b[32m'2025-02-14'\u001b[0m, \u001b[32m'realtime_end'\u001b[0m: \u001b[32m'2025-02-14'\u001b[0m, \u001b[32m'date'\u001b[0m: \u001b[32m'2024-10-01'\u001b[0m, \u001b[32m'value'\u001b[0m: \u001b[32m'315.564'\u001b[0m\u001b[1m}\u001b[0m,\n",
       "\u001b[2;32m│   \u001b[0m\u001b[1m{\u001b[0m\u001b[32m'realtime_start'\u001b[0m: \u001b[32m'2025-02-14'\u001b[0m, \u001b[32m'realtime_end'\u001b[0m: \u001b[32m'2025-02-14'\u001b[0m, \u001b[32m'date'\u001b[0m: \u001b[32m'2024-11-01'\u001b[0m, \u001b[32m'value'\u001b[0m: \u001b[32m'316.449'\u001b[0m\u001b[1m}\u001b[0m,\n",
       "\u001b[2;32m│   \u001b[0m\u001b[1m{\u001b[0m\u001b[32m'realtime_start'\u001b[0m: \u001b[32m'2025-02-14'\u001b[0m, \u001b[32m'realtime_end'\u001b[0m: \u001b[32m'2025-02-14'\u001b[0m, \u001b[32m'date'\u001b[0m: \u001b[32m'2024-12-01'\u001b[0m, \u001b[32m'value'\u001b[0m: \u001b[32m'317.603'\u001b[0m\u001b[1m}\u001b[0m,\n",
       "\u001b[2;32m│   \u001b[0m\u001b[1m{\u001b[0m\u001b[32m'realtime_start'\u001b[0m: \u001b[32m'2025-02-14'\u001b[0m, \u001b[32m'realtime_end'\u001b[0m: \u001b[32m'2025-02-14'\u001b[0m, \u001b[32m'date'\u001b[0m: \u001b[32m'2025-01-01'\u001b[0m, \u001b[32m'value'\u001b[0m: \u001b[32m'319.086'\u001b[0m\u001b[1m}\u001b[0m\n",
       "\u001b[1m]\u001b[0m\n"
      ]
     },
     "metadata": {},
     "output_type": "display_data"
    }
   ],
   "source": [
    "# Fetch the GDP series data for the current year\n",
    "cpiaucsl_json = pf.get_series(series_id=\"CPIAUCSL\", **extra_parameters, return_format=\"json\")\n",
    "pprint(cpiaucsl_json, max_length=20)"
   ]
  },
  {
   "cell_type": "markdown",
   "metadata": {},
   "source": [
    "#### 10-Year Breakeven Inflation Rate (T10YIE)\n",
    "\n",
    "https://fred.stlouisfed.org/series/T10YIE\n",
    "\n",
    "Source: Federal Reserve Bank of St. Louis  Release: Interest Rate Spreads\n",
    "Units:  Percent, Not Seasonally Adjusted\n",
    "\n",
    "Frequency:  Daily\n",
    "\n",
    "Notes:\n",
    "The breakeven inflation rate represents a measure of expected inflation derived from 10-Year Treasury Constant Maturity Securities (BC_10YEAR) and 10-Year Treasury Inflation-Indexed Constant Maturity Securities (TC_10YEAR). The latest value implies what market participants expect inflation to be in the next 10 years, on average.\n",
    "Starting with the update on June 21, 2019, the Treasury bond data used in calculating interest rate spreads is obtained directly from the U.S. Treasury Department.\n",
    "\n",
    "Suggested Citation:\n",
    "Federal Reserve Bank of St. Louis, 10-Year Breakeven Inflation Rate [T10YIE], retrieved from FRED, Federal Reserve Bank of St. Louis; https://fred.stlouisfed.org/series/T10YIE, February 14, 2025."
   ]
  },
  {
   "cell_type": "code",
   "execution_count": 40,
   "metadata": {},
   "outputs": [
    {
     "data": {
      "text/html": [
       "<pre style=\"white-space:pre;overflow-x:auto;line-height:normal;font-family:Menlo,'DejaVu Sans Mono',consolas,'Courier New',monospace\"><span style=\"color: #800080; text-decoration-color: #800080; font-weight: bold\">SeriesInfo</span><span style=\"font-weight: bold\">(</span>\n",
       "    <span style=\"color: #808000; text-decoration-color: #808000\">id</span>=<span style=\"color: #008000; text-decoration-color: #008000\">'T10YIE'</span>,\n",
       "    <span style=\"color: #808000; text-decoration-color: #808000\">realtime_start</span>=<span style=\"color: #008000; text-decoration-color: #008000\">'2025-02-13'</span>,\n",
       "    <span style=\"color: #808000; text-decoration-color: #808000\">realtime_end</span>=<span style=\"color: #008000; text-decoration-color: #008000\">'2025-02-13'</span>,\n",
       "    <span style=\"color: #808000; text-decoration-color: #808000\">title</span>=<span style=\"color: #008000; text-decoration-color: #008000\">'10-Year Breakeven Inflation Rate'</span>,\n",
       "    <span style=\"color: #808000; text-decoration-color: #808000\">observation_start</span>=<span style=\"color: #008000; text-decoration-color: #008000\">'2003-01-02'</span>,\n",
       "    <span style=\"color: #808000; text-decoration-color: #808000\">observation_end</span>=<span style=\"color: #008000; text-decoration-color: #008000\">'2025-02-13'</span>,\n",
       "    <span style=\"color: #808000; text-decoration-color: #808000\">frequency</span>=<span style=\"color: #008000; text-decoration-color: #008000\">'Daily'</span>,\n",
       "    <span style=\"color: #808000; text-decoration-color: #808000\">frequency_short</span>=<span style=\"color: #008000; text-decoration-color: #008000\">'D'</span>,\n",
       "    <span style=\"color: #808000; text-decoration-color: #808000\">units</span>=<span style=\"color: #008000; text-decoration-color: #008000\">'Percent'</span>,\n",
       "    <span style=\"color: #808000; text-decoration-color: #808000\">units_short</span>=<span style=\"color: #008000; text-decoration-color: #008000\">'%'</span>,\n",
       "    <span style=\"color: #808000; text-decoration-color: #808000\">seasonal_adjustment</span>=<span style=\"color: #008000; text-decoration-color: #008000\">'Not Seasonally Adjusted'</span>,\n",
       "    <span style=\"color: #808000; text-decoration-color: #808000\">seasonal_adjustment_short</span>=<span style=\"color: #008000; text-decoration-color: #008000\">'NSA'</span>,\n",
       "    <span style=\"color: #808000; text-decoration-color: #808000\">last_updated</span>=<span style=\"color: #008000; text-decoration-color: #008000\">'2025-02-13 16:01:05-06'</span>,\n",
       "    <span style=\"color: #808000; text-decoration-color: #808000\">popularity</span>=<span style=\"color: #008080; text-decoration-color: #008080; font-weight: bold\">89</span>,\n",
       "    <span style=\"color: #808000; text-decoration-color: #808000\">notes</span>=<span style=\"color: #008000; text-decoration-color: #008000\">'The breakeven inflation rate represents a measure of expected inflation derived from 10-Year Treasury </span>\n",
       "<span style=\"color: #008000; text-decoration-color: #008000\">Constant Maturity Securities (BC_10YEAR) and 10-Year Treasury Inflation-Indexed Constant Maturity Securities </span>\n",
       "<span style=\"color: #008000; text-decoration-color: #008000\">(TC_10YEAR). The latest value implies what market participants expect inflation to be in the next 10 years, on </span>\n",
       "<span style=\"color: #008000; text-decoration-color: #008000\">average.\\nStarting with the update on June 21, 2019, the Treasury bond data used in calculating interest rate </span>\n",
       "<span style=\"color: #008000; text-decoration-color: #008000\">spreads is obtained directly from the U.S. Treasury Department </span>\n",
       "<span style=\"color: #008000; text-decoration-color: #008000\">(https://www.treasury.gov/resource-center/data-chart-center/interest-rates/Pages/TextView.aspx?data=yield).'</span>\n",
       "<span style=\"font-weight: bold\">)</span>\n",
       "</pre>\n"
      ],
      "text/plain": [
       "\u001b[1;35mSeriesInfo\u001b[0m\u001b[1m(\u001b[0m\n",
       "    \u001b[33mid\u001b[0m=\u001b[32m'T10YIE'\u001b[0m,\n",
       "    \u001b[33mrealtime_start\u001b[0m=\u001b[32m'2025-02-13'\u001b[0m,\n",
       "    \u001b[33mrealtime_end\u001b[0m=\u001b[32m'2025-02-13'\u001b[0m,\n",
       "    \u001b[33mtitle\u001b[0m=\u001b[32m'10-Year Breakeven Inflation Rate'\u001b[0m,\n",
       "    \u001b[33mobservation_start\u001b[0m=\u001b[32m'2003-01-02'\u001b[0m,\n",
       "    \u001b[33mobservation_end\u001b[0m=\u001b[32m'2025-02-13'\u001b[0m,\n",
       "    \u001b[33mfrequency\u001b[0m=\u001b[32m'Daily'\u001b[0m,\n",
       "    \u001b[33mfrequency_short\u001b[0m=\u001b[32m'D'\u001b[0m,\n",
       "    \u001b[33munits\u001b[0m=\u001b[32m'Percent'\u001b[0m,\n",
       "    \u001b[33munits_short\u001b[0m=\u001b[32m'%'\u001b[0m,\n",
       "    \u001b[33mseasonal_adjustment\u001b[0m=\u001b[32m'Not Seasonally Adjusted'\u001b[0m,\n",
       "    \u001b[33mseasonal_adjustment_short\u001b[0m=\u001b[32m'NSA'\u001b[0m,\n",
       "    \u001b[33mlast_updated\u001b[0m=\u001b[32m'2025-02-13 16:01:05-06'\u001b[0m,\n",
       "    \u001b[33mpopularity\u001b[0m=\u001b[1;36m89\u001b[0m,\n",
       "    \u001b[33mnotes\u001b[0m=\u001b[32m'The breakeven inflation rate represents a measure of expected inflation derived from 10-Year Treasury \u001b[0m\n",
       "\u001b[32mConstant Maturity Securities \u001b[0m\u001b[32m(\u001b[0m\u001b[32mBC_10YEAR\u001b[0m\u001b[32m)\u001b[0m\u001b[32m and 10-Year Treasury Inflation-Indexed Constant Maturity Securities \u001b[0m\n",
       "\u001b[32m(\u001b[0m\u001b[32mTC_10YEAR\u001b[0m\u001b[32m)\u001b[0m\u001b[32m. The latest value implies what market participants expect inflation to be in the next 10 years, on \u001b[0m\n",
       "\u001b[32maverage.\\nStarting with the update on June 21, 2019, the Treasury bond data used in calculating interest rate \u001b[0m\n",
       "\u001b[32mspreads is obtained directly from the U.S. Treasury Department \u001b[0m\n",
       "\u001b[32m(\u001b[0m\u001b[32mhttps://www.treasury.gov/resource-center/data-chart-center/interest-rates/Pages/TextView.aspx?\u001b[0m\u001b[32mdata\u001b[0m\u001b[32m=\u001b[0m\u001b[32myield\u001b[0m\u001b[32m)\u001b[0m\u001b[32m.'\u001b[0m\n",
       "\u001b[1m)\u001b[0m\n"
      ]
     },
     "metadata": {},
     "output_type": "display_data"
    }
   ],
   "source": [
    "t10yie_info = pf.get_series_info(series_id=\"T10YIE\")\n",
    "\n",
    "# Using rich to pretty print the SeriesInfo\n",
    "rprint(t10yie_info)"
   ]
  },
  {
   "cell_type": "markdown",
   "metadata": {},
   "source": [
    "### T10YIE series"
   ]
  },
  {
   "cell_type": "code",
   "execution_count": 41,
   "metadata": {},
   "outputs": [
    {
     "data": {
      "text/html": [
       "<pre style=\"white-space:pre;overflow-x:auto;line-height:normal;font-family:Menlo,'DejaVu Sans Mono',consolas,'Courier New',monospace\"><span style=\"font-weight: bold\">[</span>\n",
       "<span style=\"color: #7fbf7f; text-decoration-color: #7fbf7f\">│   </span><span style=\"font-weight: bold\">{</span><span style=\"color: #008000; text-decoration-color: #008000\">'realtime_start'</span>: <span style=\"color: #008000; text-decoration-color: #008000\">'2025-02-14'</span>, <span style=\"color: #008000; text-decoration-color: #008000\">'realtime_end'</span>: <span style=\"color: #008000; text-decoration-color: #008000\">'2025-02-14'</span>, <span style=\"color: #008000; text-decoration-color: #008000\">'date'</span>: <span style=\"color: #008000; text-decoration-color: #008000\">'2024-01-01'</span>, <span style=\"color: #008000; text-decoration-color: #008000\">'value'</span>: <span style=\"color: #008000; text-decoration-color: #008000\">'.'</span><span style=\"font-weight: bold\">}</span>,\n",
       "<span style=\"color: #7fbf7f; text-decoration-color: #7fbf7f\">│   </span><span style=\"font-weight: bold\">{</span><span style=\"color: #008000; text-decoration-color: #008000\">'realtime_start'</span>: <span style=\"color: #008000; text-decoration-color: #008000\">'2025-02-14'</span>, <span style=\"color: #008000; text-decoration-color: #008000\">'realtime_end'</span>: <span style=\"color: #008000; text-decoration-color: #008000\">'2025-02-14'</span>, <span style=\"color: #008000; text-decoration-color: #008000\">'date'</span>: <span style=\"color: #008000; text-decoration-color: #008000\">'2024-01-02'</span>, <span style=\"color: #008000; text-decoration-color: #008000\">'value'</span>: <span style=\"color: #008000; text-decoration-color: #008000\">'2.21'</span><span style=\"font-weight: bold\">}</span>,\n",
       "<span style=\"color: #7fbf7f; text-decoration-color: #7fbf7f\">│   </span><span style=\"font-weight: bold\">{</span><span style=\"color: #008000; text-decoration-color: #008000\">'realtime_start'</span>: <span style=\"color: #008000; text-decoration-color: #008000\">'2025-02-14'</span>, <span style=\"color: #008000; text-decoration-color: #008000\">'realtime_end'</span>: <span style=\"color: #008000; text-decoration-color: #008000\">'2025-02-14'</span>, <span style=\"color: #008000; text-decoration-color: #008000\">'date'</span>: <span style=\"color: #008000; text-decoration-color: #008000\">'2024-01-03'</span>, <span style=\"color: #008000; text-decoration-color: #008000\">'value'</span>: <span style=\"color: #008000; text-decoration-color: #008000\">'2.2'</span><span style=\"font-weight: bold\">}</span>,\n",
       "<span style=\"color: #7fbf7f; text-decoration-color: #7fbf7f\">│   </span><span style=\"font-weight: bold\">{</span><span style=\"color: #008000; text-decoration-color: #008000\">'realtime_start'</span>: <span style=\"color: #008000; text-decoration-color: #008000\">'2025-02-14'</span>, <span style=\"color: #008000; text-decoration-color: #008000\">'realtime_end'</span>: <span style=\"color: #008000; text-decoration-color: #008000\">'2025-02-14'</span>, <span style=\"color: #008000; text-decoration-color: #008000\">'date'</span>: <span style=\"color: #008000; text-decoration-color: #008000\">'2024-01-04'</span>, <span style=\"color: #008000; text-decoration-color: #008000\">'value'</span>: <span style=\"color: #008000; text-decoration-color: #008000\">'2.22'</span><span style=\"font-weight: bold\">}</span>,\n",
       "<span style=\"color: #7fbf7f; text-decoration-color: #7fbf7f\">│   </span><span style=\"font-weight: bold\">{</span><span style=\"color: #008000; text-decoration-color: #008000\">'realtime_start'</span>: <span style=\"color: #008000; text-decoration-color: #008000\">'2025-02-14'</span>, <span style=\"color: #008000; text-decoration-color: #008000\">'realtime_end'</span>: <span style=\"color: #008000; text-decoration-color: #008000\">'2025-02-14'</span>, <span style=\"color: #008000; text-decoration-color: #008000\">'date'</span>: <span style=\"color: #008000; text-decoration-color: #008000\">'2024-01-05'</span>, <span style=\"color: #008000; text-decoration-color: #008000\">'value'</span>: <span style=\"color: #008000; text-decoration-color: #008000\">'2.22'</span><span style=\"font-weight: bold\">}</span>,\n",
       "<span style=\"color: #7fbf7f; text-decoration-color: #7fbf7f\">│   </span><span style=\"font-weight: bold\">{</span><span style=\"color: #008000; text-decoration-color: #008000\">'realtime_start'</span>: <span style=\"color: #008000; text-decoration-color: #008000\">'2025-02-14'</span>, <span style=\"color: #008000; text-decoration-color: #008000\">'realtime_end'</span>: <span style=\"color: #008000; text-decoration-color: #008000\">'2025-02-14'</span>, <span style=\"color: #008000; text-decoration-color: #008000\">'date'</span>: <span style=\"color: #008000; text-decoration-color: #008000\">'2024-01-08'</span>, <span style=\"color: #008000; text-decoration-color: #008000\">'value'</span>: <span style=\"color: #008000; text-decoration-color: #008000\">'2.22'</span><span style=\"font-weight: bold\">}</span>,\n",
       "<span style=\"color: #7fbf7f; text-decoration-color: #7fbf7f\">│   </span><span style=\"font-weight: bold\">{</span><span style=\"color: #008000; text-decoration-color: #008000\">'realtime_start'</span>: <span style=\"color: #008000; text-decoration-color: #008000\">'2025-02-14'</span>, <span style=\"color: #008000; text-decoration-color: #008000\">'realtime_end'</span>: <span style=\"color: #008000; text-decoration-color: #008000\">'2025-02-14'</span>, <span style=\"color: #008000; text-decoration-color: #008000\">'date'</span>: <span style=\"color: #008000; text-decoration-color: #008000\">'2024-01-09'</span>, <span style=\"color: #008000; text-decoration-color: #008000\">'value'</span>: <span style=\"color: #008000; text-decoration-color: #008000\">'2.22'</span><span style=\"font-weight: bold\">}</span>,\n",
       "<span style=\"color: #7fbf7f; text-decoration-color: #7fbf7f\">│   </span><span style=\"font-weight: bold\">{</span><span style=\"color: #008000; text-decoration-color: #008000\">'realtime_start'</span>: <span style=\"color: #008000; text-decoration-color: #008000\">'2025-02-14'</span>, <span style=\"color: #008000; text-decoration-color: #008000\">'realtime_end'</span>: <span style=\"color: #008000; text-decoration-color: #008000\">'2025-02-14'</span>, <span style=\"color: #008000; text-decoration-color: #008000\">'date'</span>: <span style=\"color: #008000; text-decoration-color: #008000\">'2024-01-10'</span>, <span style=\"color: #008000; text-decoration-color: #008000\">'value'</span>: <span style=\"color: #008000; text-decoration-color: #008000\">'2.22'</span><span style=\"font-weight: bold\">}</span>,\n",
       "<span style=\"color: #7fbf7f; text-decoration-color: #7fbf7f\">│   </span><span style=\"font-weight: bold\">{</span><span style=\"color: #008000; text-decoration-color: #008000\">'realtime_start'</span>: <span style=\"color: #008000; text-decoration-color: #008000\">'2025-02-14'</span>, <span style=\"color: #008000; text-decoration-color: #008000\">'realtime_end'</span>: <span style=\"color: #008000; text-decoration-color: #008000\">'2025-02-14'</span>, <span style=\"color: #008000; text-decoration-color: #008000\">'date'</span>: <span style=\"color: #008000; text-decoration-color: #008000\">'2024-01-11'</span>, <span style=\"color: #008000; text-decoration-color: #008000\">'value'</span>: <span style=\"color: #008000; text-decoration-color: #008000\">'2.22'</span><span style=\"font-weight: bold\">}</span>,\n",
       "<span style=\"color: #7fbf7f; text-decoration-color: #7fbf7f\">│   </span><span style=\"font-weight: bold\">{</span><span style=\"color: #008000; text-decoration-color: #008000\">'realtime_start'</span>: <span style=\"color: #008000; text-decoration-color: #008000\">'2025-02-14'</span>, <span style=\"color: #008000; text-decoration-color: #008000\">'realtime_end'</span>: <span style=\"color: #008000; text-decoration-color: #008000\">'2025-02-14'</span>, <span style=\"color: #008000; text-decoration-color: #008000\">'date'</span>: <span style=\"color: #008000; text-decoration-color: #008000\">'2024-01-12'</span>, <span style=\"color: #008000; text-decoration-color: #008000\">'value'</span>: <span style=\"color: #008000; text-decoration-color: #008000\">'2.27'</span><span style=\"font-weight: bold\">}</span>,\n",
       "<span style=\"color: #7fbf7f; text-decoration-color: #7fbf7f\">│   </span><span style=\"font-weight: bold\">{</span><span style=\"color: #008000; text-decoration-color: #008000\">'realtime_start'</span>: <span style=\"color: #008000; text-decoration-color: #008000\">'2025-02-14'</span>, <span style=\"color: #008000; text-decoration-color: #008000\">'realtime_end'</span>: <span style=\"color: #008000; text-decoration-color: #008000\">'2025-02-14'</span>, <span style=\"color: #008000; text-decoration-color: #008000\">'date'</span>: <span style=\"color: #008000; text-decoration-color: #008000\">'2024-01-15'</span>, <span style=\"color: #008000; text-decoration-color: #008000\">'value'</span>: <span style=\"color: #008000; text-decoration-color: #008000\">'.'</span><span style=\"font-weight: bold\">}</span>,\n",
       "<span style=\"color: #7fbf7f; text-decoration-color: #7fbf7f\">│   </span><span style=\"font-weight: bold\">{</span><span style=\"color: #008000; text-decoration-color: #008000\">'realtime_start'</span>: <span style=\"color: #008000; text-decoration-color: #008000\">'2025-02-14'</span>, <span style=\"color: #008000; text-decoration-color: #008000\">'realtime_end'</span>: <span style=\"color: #008000; text-decoration-color: #008000\">'2025-02-14'</span>, <span style=\"color: #008000; text-decoration-color: #008000\">'date'</span>: <span style=\"color: #008000; text-decoration-color: #008000\">'2024-01-16'</span>, <span style=\"color: #008000; text-decoration-color: #008000\">'value'</span>: <span style=\"color: #008000; text-decoration-color: #008000\">'2.3'</span><span style=\"font-weight: bold\">}</span>,\n",
       "<span style=\"color: #7fbf7f; text-decoration-color: #7fbf7f\">│   </span><span style=\"font-weight: bold\">{</span><span style=\"color: #008000; text-decoration-color: #008000\">'realtime_start'</span>: <span style=\"color: #008000; text-decoration-color: #008000\">'2025-02-14'</span>, <span style=\"color: #008000; text-decoration-color: #008000\">'realtime_end'</span>: <span style=\"color: #008000; text-decoration-color: #008000\">'2025-02-14'</span>, <span style=\"color: #008000; text-decoration-color: #008000\">'date'</span>: <span style=\"color: #008000; text-decoration-color: #008000\">'2024-01-17'</span>, <span style=\"color: #008000; text-decoration-color: #008000\">'value'</span>: <span style=\"color: #008000; text-decoration-color: #008000\">'2.3'</span><span style=\"font-weight: bold\">}</span>,\n",
       "<span style=\"color: #7fbf7f; text-decoration-color: #7fbf7f\">│   </span><span style=\"font-weight: bold\">{</span><span style=\"color: #008000; text-decoration-color: #008000\">'realtime_start'</span>: <span style=\"color: #008000; text-decoration-color: #008000\">'2025-02-14'</span>, <span style=\"color: #008000; text-decoration-color: #008000\">'realtime_end'</span>: <span style=\"color: #008000; text-decoration-color: #008000\">'2025-02-14'</span>, <span style=\"color: #008000; text-decoration-color: #008000\">'date'</span>: <span style=\"color: #008000; text-decoration-color: #008000\">'2024-01-18'</span>, <span style=\"color: #008000; text-decoration-color: #008000\">'value'</span>: <span style=\"color: #008000; text-decoration-color: #008000\">'2.34'</span><span style=\"font-weight: bold\">}</span>,\n",
       "<span style=\"color: #7fbf7f; text-decoration-color: #7fbf7f\">│   </span><span style=\"font-weight: bold\">{</span><span style=\"color: #008000; text-decoration-color: #008000\">'realtime_start'</span>: <span style=\"color: #008000; text-decoration-color: #008000\">'2025-02-14'</span>, <span style=\"color: #008000; text-decoration-color: #008000\">'realtime_end'</span>: <span style=\"color: #008000; text-decoration-color: #008000\">'2025-02-14'</span>, <span style=\"color: #008000; text-decoration-color: #008000\">'date'</span>: <span style=\"color: #008000; text-decoration-color: #008000\">'2024-01-19'</span>, <span style=\"color: #008000; text-decoration-color: #008000\">'value'</span>: <span style=\"color: #008000; text-decoration-color: #008000\">'2.34'</span><span style=\"font-weight: bold\">}</span>,\n",
       "<span style=\"color: #7fbf7f; text-decoration-color: #7fbf7f\">│   </span><span style=\"font-weight: bold\">{</span><span style=\"color: #008000; text-decoration-color: #008000\">'realtime_start'</span>: <span style=\"color: #008000; text-decoration-color: #008000\">'2025-02-14'</span>, <span style=\"color: #008000; text-decoration-color: #008000\">'realtime_end'</span>: <span style=\"color: #008000; text-decoration-color: #008000\">'2025-02-14'</span>, <span style=\"color: #008000; text-decoration-color: #008000\">'date'</span>: <span style=\"color: #008000; text-decoration-color: #008000\">'2024-01-22'</span>, <span style=\"color: #008000; text-decoration-color: #008000\">'value'</span>: <span style=\"color: #008000; text-decoration-color: #008000\">'2.31'</span><span style=\"font-weight: bold\">}</span>,\n",
       "<span style=\"color: #7fbf7f; text-decoration-color: #7fbf7f\">│   </span><span style=\"font-weight: bold\">{</span><span style=\"color: #008000; text-decoration-color: #008000\">'realtime_start'</span>: <span style=\"color: #008000; text-decoration-color: #008000\">'2025-02-14'</span>, <span style=\"color: #008000; text-decoration-color: #008000\">'realtime_end'</span>: <span style=\"color: #008000; text-decoration-color: #008000\">'2025-02-14'</span>, <span style=\"color: #008000; text-decoration-color: #008000\">'date'</span>: <span style=\"color: #008000; text-decoration-color: #008000\">'2024-01-23'</span>, <span style=\"color: #008000; text-decoration-color: #008000\">'value'</span>: <span style=\"color: #008000; text-decoration-color: #008000\">'2.29'</span><span style=\"font-weight: bold\">}</span>,\n",
       "<span style=\"color: #7fbf7f; text-decoration-color: #7fbf7f\">│   </span><span style=\"font-weight: bold\">{</span><span style=\"color: #008000; text-decoration-color: #008000\">'realtime_start'</span>: <span style=\"color: #008000; text-decoration-color: #008000\">'2025-02-14'</span>, <span style=\"color: #008000; text-decoration-color: #008000\">'realtime_end'</span>: <span style=\"color: #008000; text-decoration-color: #008000\">'2025-02-14'</span>, <span style=\"color: #008000; text-decoration-color: #008000\">'date'</span>: <span style=\"color: #008000; text-decoration-color: #008000\">'2024-01-24'</span>, <span style=\"color: #008000; text-decoration-color: #008000\">'value'</span>: <span style=\"color: #008000; text-decoration-color: #008000\">'2.3'</span><span style=\"font-weight: bold\">}</span>,\n",
       "<span style=\"color: #7fbf7f; text-decoration-color: #7fbf7f\">│   </span><span style=\"font-weight: bold\">{</span><span style=\"color: #008000; text-decoration-color: #008000\">'realtime_start'</span>: <span style=\"color: #008000; text-decoration-color: #008000\">'2025-02-14'</span>, <span style=\"color: #008000; text-decoration-color: #008000\">'realtime_end'</span>: <span style=\"color: #008000; text-decoration-color: #008000\">'2025-02-14'</span>, <span style=\"color: #008000; text-decoration-color: #008000\">'date'</span>: <span style=\"color: #008000; text-decoration-color: #008000\">'2024-01-25'</span>, <span style=\"color: #008000; text-decoration-color: #008000\">'value'</span>: <span style=\"color: #008000; text-decoration-color: #008000\">'2.29'</span><span style=\"font-weight: bold\">}</span>,\n",
       "<span style=\"color: #7fbf7f; text-decoration-color: #7fbf7f\">│   </span><span style=\"font-weight: bold\">{</span><span style=\"color: #008000; text-decoration-color: #008000\">'realtime_start'</span>: <span style=\"color: #008000; text-decoration-color: #008000\">'2025-02-14'</span>, <span style=\"color: #008000; text-decoration-color: #008000\">'realtime_end'</span>: <span style=\"color: #008000; text-decoration-color: #008000\">'2025-02-14'</span>, <span style=\"color: #008000; text-decoration-color: #008000\">'date'</span>: <span style=\"color: #008000; text-decoration-color: #008000\">'2024-01-26'</span>, <span style=\"color: #008000; text-decoration-color: #008000\">'value'</span>: <span style=\"color: #008000; text-decoration-color: #008000\">'2.3'</span><span style=\"font-weight: bold\">}</span>,\n",
       "<span style=\"color: #7fbf7f; text-decoration-color: #7fbf7f\">│   </span><span style=\"color: #808000; text-decoration-color: #808000\">...</span> +<span style=\"color: #008080; text-decoration-color: #008080; font-weight: bold\">274</span>\n",
       "<span style=\"font-weight: bold\">]</span>\n",
       "</pre>\n"
      ],
      "text/plain": [
       "\u001b[1m[\u001b[0m\n",
       "\u001b[2;32m│   \u001b[0m\u001b[1m{\u001b[0m\u001b[32m'realtime_start'\u001b[0m: \u001b[32m'2025-02-14'\u001b[0m, \u001b[32m'realtime_end'\u001b[0m: \u001b[32m'2025-02-14'\u001b[0m, \u001b[32m'date'\u001b[0m: \u001b[32m'2024-01-01'\u001b[0m, \u001b[32m'value'\u001b[0m: \u001b[32m'.'\u001b[0m\u001b[1m}\u001b[0m,\n",
       "\u001b[2;32m│   \u001b[0m\u001b[1m{\u001b[0m\u001b[32m'realtime_start'\u001b[0m: \u001b[32m'2025-02-14'\u001b[0m, \u001b[32m'realtime_end'\u001b[0m: \u001b[32m'2025-02-14'\u001b[0m, \u001b[32m'date'\u001b[0m: \u001b[32m'2024-01-02'\u001b[0m, \u001b[32m'value'\u001b[0m: \u001b[32m'2.21'\u001b[0m\u001b[1m}\u001b[0m,\n",
       "\u001b[2;32m│   \u001b[0m\u001b[1m{\u001b[0m\u001b[32m'realtime_start'\u001b[0m: \u001b[32m'2025-02-14'\u001b[0m, \u001b[32m'realtime_end'\u001b[0m: \u001b[32m'2025-02-14'\u001b[0m, \u001b[32m'date'\u001b[0m: \u001b[32m'2024-01-03'\u001b[0m, \u001b[32m'value'\u001b[0m: \u001b[32m'2.2'\u001b[0m\u001b[1m}\u001b[0m,\n",
       "\u001b[2;32m│   \u001b[0m\u001b[1m{\u001b[0m\u001b[32m'realtime_start'\u001b[0m: \u001b[32m'2025-02-14'\u001b[0m, \u001b[32m'realtime_end'\u001b[0m: \u001b[32m'2025-02-14'\u001b[0m, \u001b[32m'date'\u001b[0m: \u001b[32m'2024-01-04'\u001b[0m, \u001b[32m'value'\u001b[0m: \u001b[32m'2.22'\u001b[0m\u001b[1m}\u001b[0m,\n",
       "\u001b[2;32m│   \u001b[0m\u001b[1m{\u001b[0m\u001b[32m'realtime_start'\u001b[0m: \u001b[32m'2025-02-14'\u001b[0m, \u001b[32m'realtime_end'\u001b[0m: \u001b[32m'2025-02-14'\u001b[0m, \u001b[32m'date'\u001b[0m: \u001b[32m'2024-01-05'\u001b[0m, \u001b[32m'value'\u001b[0m: \u001b[32m'2.22'\u001b[0m\u001b[1m}\u001b[0m,\n",
       "\u001b[2;32m│   \u001b[0m\u001b[1m{\u001b[0m\u001b[32m'realtime_start'\u001b[0m: \u001b[32m'2025-02-14'\u001b[0m, \u001b[32m'realtime_end'\u001b[0m: \u001b[32m'2025-02-14'\u001b[0m, \u001b[32m'date'\u001b[0m: \u001b[32m'2024-01-08'\u001b[0m, \u001b[32m'value'\u001b[0m: \u001b[32m'2.22'\u001b[0m\u001b[1m}\u001b[0m,\n",
       "\u001b[2;32m│   \u001b[0m\u001b[1m{\u001b[0m\u001b[32m'realtime_start'\u001b[0m: \u001b[32m'2025-02-14'\u001b[0m, \u001b[32m'realtime_end'\u001b[0m: \u001b[32m'2025-02-14'\u001b[0m, \u001b[32m'date'\u001b[0m: \u001b[32m'2024-01-09'\u001b[0m, \u001b[32m'value'\u001b[0m: \u001b[32m'2.22'\u001b[0m\u001b[1m}\u001b[0m,\n",
       "\u001b[2;32m│   \u001b[0m\u001b[1m{\u001b[0m\u001b[32m'realtime_start'\u001b[0m: \u001b[32m'2025-02-14'\u001b[0m, \u001b[32m'realtime_end'\u001b[0m: \u001b[32m'2025-02-14'\u001b[0m, \u001b[32m'date'\u001b[0m: \u001b[32m'2024-01-10'\u001b[0m, \u001b[32m'value'\u001b[0m: \u001b[32m'2.22'\u001b[0m\u001b[1m}\u001b[0m,\n",
       "\u001b[2;32m│   \u001b[0m\u001b[1m{\u001b[0m\u001b[32m'realtime_start'\u001b[0m: \u001b[32m'2025-02-14'\u001b[0m, \u001b[32m'realtime_end'\u001b[0m: \u001b[32m'2025-02-14'\u001b[0m, \u001b[32m'date'\u001b[0m: \u001b[32m'2024-01-11'\u001b[0m, \u001b[32m'value'\u001b[0m: \u001b[32m'2.22'\u001b[0m\u001b[1m}\u001b[0m,\n",
       "\u001b[2;32m│   \u001b[0m\u001b[1m{\u001b[0m\u001b[32m'realtime_start'\u001b[0m: \u001b[32m'2025-02-14'\u001b[0m, \u001b[32m'realtime_end'\u001b[0m: \u001b[32m'2025-02-14'\u001b[0m, \u001b[32m'date'\u001b[0m: \u001b[32m'2024-01-12'\u001b[0m, \u001b[32m'value'\u001b[0m: \u001b[32m'2.27'\u001b[0m\u001b[1m}\u001b[0m,\n",
       "\u001b[2;32m│   \u001b[0m\u001b[1m{\u001b[0m\u001b[32m'realtime_start'\u001b[0m: \u001b[32m'2025-02-14'\u001b[0m, \u001b[32m'realtime_end'\u001b[0m: \u001b[32m'2025-02-14'\u001b[0m, \u001b[32m'date'\u001b[0m: \u001b[32m'2024-01-15'\u001b[0m, \u001b[32m'value'\u001b[0m: \u001b[32m'.'\u001b[0m\u001b[1m}\u001b[0m,\n",
       "\u001b[2;32m│   \u001b[0m\u001b[1m{\u001b[0m\u001b[32m'realtime_start'\u001b[0m: \u001b[32m'2025-02-14'\u001b[0m, \u001b[32m'realtime_end'\u001b[0m: \u001b[32m'2025-02-14'\u001b[0m, \u001b[32m'date'\u001b[0m: \u001b[32m'2024-01-16'\u001b[0m, \u001b[32m'value'\u001b[0m: \u001b[32m'2.3'\u001b[0m\u001b[1m}\u001b[0m,\n",
       "\u001b[2;32m│   \u001b[0m\u001b[1m{\u001b[0m\u001b[32m'realtime_start'\u001b[0m: \u001b[32m'2025-02-14'\u001b[0m, \u001b[32m'realtime_end'\u001b[0m: \u001b[32m'2025-02-14'\u001b[0m, \u001b[32m'date'\u001b[0m: \u001b[32m'2024-01-17'\u001b[0m, \u001b[32m'value'\u001b[0m: \u001b[32m'2.3'\u001b[0m\u001b[1m}\u001b[0m,\n",
       "\u001b[2;32m│   \u001b[0m\u001b[1m{\u001b[0m\u001b[32m'realtime_start'\u001b[0m: \u001b[32m'2025-02-14'\u001b[0m, \u001b[32m'realtime_end'\u001b[0m: \u001b[32m'2025-02-14'\u001b[0m, \u001b[32m'date'\u001b[0m: \u001b[32m'2024-01-18'\u001b[0m, \u001b[32m'value'\u001b[0m: \u001b[32m'2.34'\u001b[0m\u001b[1m}\u001b[0m,\n",
       "\u001b[2;32m│   \u001b[0m\u001b[1m{\u001b[0m\u001b[32m'realtime_start'\u001b[0m: \u001b[32m'2025-02-14'\u001b[0m, \u001b[32m'realtime_end'\u001b[0m: \u001b[32m'2025-02-14'\u001b[0m, \u001b[32m'date'\u001b[0m: \u001b[32m'2024-01-19'\u001b[0m, \u001b[32m'value'\u001b[0m: \u001b[32m'2.34'\u001b[0m\u001b[1m}\u001b[0m,\n",
       "\u001b[2;32m│   \u001b[0m\u001b[1m{\u001b[0m\u001b[32m'realtime_start'\u001b[0m: \u001b[32m'2025-02-14'\u001b[0m, \u001b[32m'realtime_end'\u001b[0m: \u001b[32m'2025-02-14'\u001b[0m, \u001b[32m'date'\u001b[0m: \u001b[32m'2024-01-22'\u001b[0m, \u001b[32m'value'\u001b[0m: \u001b[32m'2.31'\u001b[0m\u001b[1m}\u001b[0m,\n",
       "\u001b[2;32m│   \u001b[0m\u001b[1m{\u001b[0m\u001b[32m'realtime_start'\u001b[0m: \u001b[32m'2025-02-14'\u001b[0m, \u001b[32m'realtime_end'\u001b[0m: \u001b[32m'2025-02-14'\u001b[0m, \u001b[32m'date'\u001b[0m: \u001b[32m'2024-01-23'\u001b[0m, \u001b[32m'value'\u001b[0m: \u001b[32m'2.29'\u001b[0m\u001b[1m}\u001b[0m,\n",
       "\u001b[2;32m│   \u001b[0m\u001b[1m{\u001b[0m\u001b[32m'realtime_start'\u001b[0m: \u001b[32m'2025-02-14'\u001b[0m, \u001b[32m'realtime_end'\u001b[0m: \u001b[32m'2025-02-14'\u001b[0m, \u001b[32m'date'\u001b[0m: \u001b[32m'2024-01-24'\u001b[0m, \u001b[32m'value'\u001b[0m: \u001b[32m'2.3'\u001b[0m\u001b[1m}\u001b[0m,\n",
       "\u001b[2;32m│   \u001b[0m\u001b[1m{\u001b[0m\u001b[32m'realtime_start'\u001b[0m: \u001b[32m'2025-02-14'\u001b[0m, \u001b[32m'realtime_end'\u001b[0m: \u001b[32m'2025-02-14'\u001b[0m, \u001b[32m'date'\u001b[0m: \u001b[32m'2024-01-25'\u001b[0m, \u001b[32m'value'\u001b[0m: \u001b[32m'2.29'\u001b[0m\u001b[1m}\u001b[0m,\n",
       "\u001b[2;32m│   \u001b[0m\u001b[1m{\u001b[0m\u001b[32m'realtime_start'\u001b[0m: \u001b[32m'2025-02-14'\u001b[0m, \u001b[32m'realtime_end'\u001b[0m: \u001b[32m'2025-02-14'\u001b[0m, \u001b[32m'date'\u001b[0m: \u001b[32m'2024-01-26'\u001b[0m, \u001b[32m'value'\u001b[0m: \u001b[32m'2.3'\u001b[0m\u001b[1m}\u001b[0m,\n",
       "\u001b[2;32m│   \u001b[0m\u001b[33m...\u001b[0m +\u001b[1;36m274\u001b[0m\n",
       "\u001b[1m]\u001b[0m\n"
      ]
     },
     "metadata": {},
     "output_type": "display_data"
    }
   ],
   "source": [
    "# Fetch the GDP series data for the current year\n",
    "t10yie_json = pf.get_series(series_id=\"T10YIE\", **extra_parameters, return_format=\"json\")\n",
    "pprint(t10yie_json, max_length=20)"
   ]
  },
  {
   "cell_type": "markdown",
   "metadata": {},
   "source": [
    "### U.S. Unemployment Rate\n",
    "\n",
    "https://fred.stlouisfed.org/series/UNRATE\n",
    "\n",
    "Source: U.S. Bureau of Labor Statistics  Release: Employment Situation  \n",
    "Units:  Percent, Seasonally Adjusted\n",
    "\n",
    "Frequency:  Monthly\n",
    "\n",
    "Notes:\n",
    "The unemployment rate represents the number of unemployed as a percentage of the labor force. Labor force data are restricted to people 16 years of age and older, who currently reside in 1 of the 50 states or the District of Columbia, who do not reside in institutions (e.g., penal and mental facilities, homes for the aged), and who are not on active duty in the Armed Forces.\n",
    "\n",
    "This rate is also defined as the U-3 measure of labor underutilization.\n",
    "\n",
    "The series comes from the 'Current Population Survey (Household Survey)'\n",
    "\n",
    "The source code is: LNS14000000\n",
    "\n",
    "Suggested Citation:\n",
    "U.S. Bureau of Labor Statistics, Unemployment Rate [UNRATE], retrieved from FRED, Federal Reserve Bank of St. Louis; https://fred.stlouisfed.org/series/UNRATE, February 14, 2025."
   ]
  },
  {
   "cell_type": "code",
   "execution_count": 42,
   "metadata": {},
   "outputs": [
    {
     "data": {
      "text/html": [
       "<pre style=\"white-space:pre;overflow-x:auto;line-height:normal;font-family:Menlo,'DejaVu Sans Mono',consolas,'Courier New',monospace\"><span style=\"color: #800080; text-decoration-color: #800080; font-weight: bold\">SeriesInfo</span><span style=\"font-weight: bold\">(</span>\n",
       "    <span style=\"color: #808000; text-decoration-color: #808000\">id</span>=<span style=\"color: #008000; text-decoration-color: #008000\">'UNRATE'</span>,\n",
       "    <span style=\"color: #808000; text-decoration-color: #808000\">realtime_start</span>=<span style=\"color: #008000; text-decoration-color: #008000\">'2025-02-12'</span>,\n",
       "    <span style=\"color: #808000; text-decoration-color: #808000\">realtime_end</span>=<span style=\"color: #008000; text-decoration-color: #008000\">'2025-02-12'</span>,\n",
       "    <span style=\"color: #808000; text-decoration-color: #808000\">title</span>=<span style=\"color: #008000; text-decoration-color: #008000\">'Unemployment Rate'</span>,\n",
       "    <span style=\"color: #808000; text-decoration-color: #808000\">observation_start</span>=<span style=\"color: #008000; text-decoration-color: #008000\">'1948-01-01'</span>,\n",
       "    <span style=\"color: #808000; text-decoration-color: #808000\">observation_end</span>=<span style=\"color: #008000; text-decoration-color: #008000\">'2025-01-01'</span>,\n",
       "    <span style=\"color: #808000; text-decoration-color: #808000\">frequency</span>=<span style=\"color: #008000; text-decoration-color: #008000\">'Monthly'</span>,\n",
       "    <span style=\"color: #808000; text-decoration-color: #808000\">frequency_short</span>=<span style=\"color: #008000; text-decoration-color: #008000\">'M'</span>,\n",
       "    <span style=\"color: #808000; text-decoration-color: #808000\">units</span>=<span style=\"color: #008000; text-decoration-color: #008000\">'Percent'</span>,\n",
       "    <span style=\"color: #808000; text-decoration-color: #808000\">units_short</span>=<span style=\"color: #008000; text-decoration-color: #008000\">'%'</span>,\n",
       "    <span style=\"color: #808000; text-decoration-color: #808000\">seasonal_adjustment</span>=<span style=\"color: #008000; text-decoration-color: #008000\">'Seasonally Adjusted'</span>,\n",
       "    <span style=\"color: #808000; text-decoration-color: #808000\">seasonal_adjustment_short</span>=<span style=\"color: #008000; text-decoration-color: #008000\">'SA'</span>,\n",
       "    <span style=\"color: #808000; text-decoration-color: #808000\">last_updated</span>=<span style=\"color: #008000; text-decoration-color: #008000\">'2025-02-07 07:47:42-06'</span>,\n",
       "    <span style=\"color: #808000; text-decoration-color: #808000\">popularity</span>=<span style=\"color: #008080; text-decoration-color: #008080; font-weight: bold\">95</span>,\n",
       "    <span style=\"color: #808000; text-decoration-color: #808000\">notes</span>=<span style=\"color: #008000; text-decoration-color: #008000\">\"The unemployment rate represents the number of unemployed as a percentage of the labor force. Labor </span>\n",
       "<span style=\"color: #008000; text-decoration-color: #008000\">force data are restricted to people 16 years of age and older, who currently reside in 1 of the 50 states or the </span>\n",
       "<span style=\"color: #008000; text-decoration-color: #008000\">District of Columbia, who do not reside in institutions (e.g., penal and mental facilities, homes for the aged), </span>\n",
       "<span style=\"color: #008000; text-decoration-color: #008000\">and who are not on active duty in the Armed Forces.\\r\\n\\r\\nThis rate is also defined as the U-3 measure of labor </span>\n",
       "<span style=\"color: #008000; text-decoration-color: #008000\">underutilization.\\r\\n\\r\\nThe series comes from the 'Current Population Survey (Household Survey)'\\r\\n\\r\\nThe source</span>\n",
       "<span style=\"color: #008000; text-decoration-color: #008000\">code is: LNS14000000\"</span>\n",
       "<span style=\"font-weight: bold\">)</span>\n",
       "</pre>\n"
      ],
      "text/plain": [
       "\u001b[1;35mSeriesInfo\u001b[0m\u001b[1m(\u001b[0m\n",
       "    \u001b[33mid\u001b[0m=\u001b[32m'UNRATE'\u001b[0m,\n",
       "    \u001b[33mrealtime_start\u001b[0m=\u001b[32m'2025-02-12'\u001b[0m,\n",
       "    \u001b[33mrealtime_end\u001b[0m=\u001b[32m'2025-02-12'\u001b[0m,\n",
       "    \u001b[33mtitle\u001b[0m=\u001b[32m'Unemployment Rate'\u001b[0m,\n",
       "    \u001b[33mobservation_start\u001b[0m=\u001b[32m'1948-01-01'\u001b[0m,\n",
       "    \u001b[33mobservation_end\u001b[0m=\u001b[32m'2025-01-01'\u001b[0m,\n",
       "    \u001b[33mfrequency\u001b[0m=\u001b[32m'Monthly'\u001b[0m,\n",
       "    \u001b[33mfrequency_short\u001b[0m=\u001b[32m'M'\u001b[0m,\n",
       "    \u001b[33munits\u001b[0m=\u001b[32m'Percent'\u001b[0m,\n",
       "    \u001b[33munits_short\u001b[0m=\u001b[32m'%'\u001b[0m,\n",
       "    \u001b[33mseasonal_adjustment\u001b[0m=\u001b[32m'Seasonally Adjusted'\u001b[0m,\n",
       "    \u001b[33mseasonal_adjustment_short\u001b[0m=\u001b[32m'SA'\u001b[0m,\n",
       "    \u001b[33mlast_updated\u001b[0m=\u001b[32m'2025-02-07 07:47:42-06'\u001b[0m,\n",
       "    \u001b[33mpopularity\u001b[0m=\u001b[1;36m95\u001b[0m,\n",
       "    \u001b[33mnotes\u001b[0m=\u001b[32m\"The\u001b[0m\u001b[32m unemployment rate represents the number of unemployed as a percentage of the labor force. Labor \u001b[0m\n",
       "\u001b[32mforce data are restricted to people 16 years of age and older, who currently reside in 1 of the 50 states or the \u001b[0m\n",
       "\u001b[32mDistrict of Columbia, who do not reside in institutions \u001b[0m\u001b[32m(\u001b[0m\u001b[32me.g., penal and mental facilities, homes for the aged\u001b[0m\u001b[32m)\u001b[0m\u001b[32m, \u001b[0m\n",
       "\u001b[32mand who are not on active duty in the Armed Forces.\\r\\n\\r\\nThis rate is also defined as the U-3 measure of labor \u001b[0m\n",
       "\u001b[32munderutilization.\\r\\n\\r\\nThe series comes from the 'Current Population Survey \u001b[0m\u001b[32m(\u001b[0m\u001b[32mHousehold Survey\u001b[0m\u001b[32m)\u001b[0m\u001b[32m'\\r\\n\\r\\nThe source\u001b[0m\n",
       "\u001b[32mcode is: LNS14000000\"\u001b[0m\n",
       "\u001b[1m)\u001b[0m\n"
      ]
     },
     "metadata": {},
     "output_type": "display_data"
    }
   ],
   "source": [
    "unrate_info = pf.get_series_info(series_id=\"UNRATE\")\n",
    "\n",
    "# Using rich to pretty print the SeriesInfo\n",
    "rprint(unrate_info)"
   ]
  },
  {
   "cell_type": "markdown",
   "metadata": {},
   "source": [
    "### UNRATE series"
   ]
  },
  {
   "cell_type": "code",
   "execution_count": 43,
   "metadata": {},
   "outputs": [
    {
     "data": {
      "text/html": [
       "<pre style=\"white-space:pre;overflow-x:auto;line-height:normal;font-family:Menlo,'DejaVu Sans Mono',consolas,'Courier New',monospace\"><span style=\"font-weight: bold\">[</span>\n",
       "<span style=\"color: #7fbf7f; text-decoration-color: #7fbf7f\">│   </span><span style=\"font-weight: bold\">{</span><span style=\"color: #008000; text-decoration-color: #008000\">'realtime_start'</span>: <span style=\"color: #008000; text-decoration-color: #008000\">'2025-02-14'</span>, <span style=\"color: #008000; text-decoration-color: #008000\">'realtime_end'</span>: <span style=\"color: #008000; text-decoration-color: #008000\">'2025-02-14'</span>, <span style=\"color: #008000; text-decoration-color: #008000\">'date'</span>: <span style=\"color: #008000; text-decoration-color: #008000\">'2024-01-01'</span>, <span style=\"color: #008000; text-decoration-color: #008000\">'value'</span>: <span style=\"color: #008000; text-decoration-color: #008000\">'3.7'</span><span style=\"font-weight: bold\">}</span>,\n",
       "<span style=\"color: #7fbf7f; text-decoration-color: #7fbf7f\">│   </span><span style=\"font-weight: bold\">{</span><span style=\"color: #008000; text-decoration-color: #008000\">'realtime_start'</span>: <span style=\"color: #008000; text-decoration-color: #008000\">'2025-02-14'</span>, <span style=\"color: #008000; text-decoration-color: #008000\">'realtime_end'</span>: <span style=\"color: #008000; text-decoration-color: #008000\">'2025-02-14'</span>, <span style=\"color: #008000; text-decoration-color: #008000\">'date'</span>: <span style=\"color: #008000; text-decoration-color: #008000\">'2024-02-01'</span>, <span style=\"color: #008000; text-decoration-color: #008000\">'value'</span>: <span style=\"color: #008000; text-decoration-color: #008000\">'3.9'</span><span style=\"font-weight: bold\">}</span>,\n",
       "<span style=\"color: #7fbf7f; text-decoration-color: #7fbf7f\">│   </span><span style=\"font-weight: bold\">{</span><span style=\"color: #008000; text-decoration-color: #008000\">'realtime_start'</span>: <span style=\"color: #008000; text-decoration-color: #008000\">'2025-02-14'</span>, <span style=\"color: #008000; text-decoration-color: #008000\">'realtime_end'</span>: <span style=\"color: #008000; text-decoration-color: #008000\">'2025-02-14'</span>, <span style=\"color: #008000; text-decoration-color: #008000\">'date'</span>: <span style=\"color: #008000; text-decoration-color: #008000\">'2024-03-01'</span>, <span style=\"color: #008000; text-decoration-color: #008000\">'value'</span>: <span style=\"color: #008000; text-decoration-color: #008000\">'3.9'</span><span style=\"font-weight: bold\">}</span>,\n",
       "<span style=\"color: #7fbf7f; text-decoration-color: #7fbf7f\">│   </span><span style=\"font-weight: bold\">{</span><span style=\"color: #008000; text-decoration-color: #008000\">'realtime_start'</span>: <span style=\"color: #008000; text-decoration-color: #008000\">'2025-02-14'</span>, <span style=\"color: #008000; text-decoration-color: #008000\">'realtime_end'</span>: <span style=\"color: #008000; text-decoration-color: #008000\">'2025-02-14'</span>, <span style=\"color: #008000; text-decoration-color: #008000\">'date'</span>: <span style=\"color: #008000; text-decoration-color: #008000\">'2024-04-01'</span>, <span style=\"color: #008000; text-decoration-color: #008000\">'value'</span>: <span style=\"color: #008000; text-decoration-color: #008000\">'3.9'</span><span style=\"font-weight: bold\">}</span>,\n",
       "<span style=\"color: #7fbf7f; text-decoration-color: #7fbf7f\">│   </span><span style=\"font-weight: bold\">{</span><span style=\"color: #008000; text-decoration-color: #008000\">'realtime_start'</span>: <span style=\"color: #008000; text-decoration-color: #008000\">'2025-02-14'</span>, <span style=\"color: #008000; text-decoration-color: #008000\">'realtime_end'</span>: <span style=\"color: #008000; text-decoration-color: #008000\">'2025-02-14'</span>, <span style=\"color: #008000; text-decoration-color: #008000\">'date'</span>: <span style=\"color: #008000; text-decoration-color: #008000\">'2024-05-01'</span>, <span style=\"color: #008000; text-decoration-color: #008000\">'value'</span>: <span style=\"color: #008000; text-decoration-color: #008000\">'4.0'</span><span style=\"font-weight: bold\">}</span>,\n",
       "<span style=\"color: #7fbf7f; text-decoration-color: #7fbf7f\">│   </span><span style=\"font-weight: bold\">{</span><span style=\"color: #008000; text-decoration-color: #008000\">'realtime_start'</span>: <span style=\"color: #008000; text-decoration-color: #008000\">'2025-02-14'</span>, <span style=\"color: #008000; text-decoration-color: #008000\">'realtime_end'</span>: <span style=\"color: #008000; text-decoration-color: #008000\">'2025-02-14'</span>, <span style=\"color: #008000; text-decoration-color: #008000\">'date'</span>: <span style=\"color: #008000; text-decoration-color: #008000\">'2024-06-01'</span>, <span style=\"color: #008000; text-decoration-color: #008000\">'value'</span>: <span style=\"color: #008000; text-decoration-color: #008000\">'4.1'</span><span style=\"font-weight: bold\">}</span>,\n",
       "<span style=\"color: #7fbf7f; text-decoration-color: #7fbf7f\">│   </span><span style=\"font-weight: bold\">{</span><span style=\"color: #008000; text-decoration-color: #008000\">'realtime_start'</span>: <span style=\"color: #008000; text-decoration-color: #008000\">'2025-02-14'</span>, <span style=\"color: #008000; text-decoration-color: #008000\">'realtime_end'</span>: <span style=\"color: #008000; text-decoration-color: #008000\">'2025-02-14'</span>, <span style=\"color: #008000; text-decoration-color: #008000\">'date'</span>: <span style=\"color: #008000; text-decoration-color: #008000\">'2024-07-01'</span>, <span style=\"color: #008000; text-decoration-color: #008000\">'value'</span>: <span style=\"color: #008000; text-decoration-color: #008000\">'4.2'</span><span style=\"font-weight: bold\">}</span>,\n",
       "<span style=\"color: #7fbf7f; text-decoration-color: #7fbf7f\">│   </span><span style=\"font-weight: bold\">{</span><span style=\"color: #008000; text-decoration-color: #008000\">'realtime_start'</span>: <span style=\"color: #008000; text-decoration-color: #008000\">'2025-02-14'</span>, <span style=\"color: #008000; text-decoration-color: #008000\">'realtime_end'</span>: <span style=\"color: #008000; text-decoration-color: #008000\">'2025-02-14'</span>, <span style=\"color: #008000; text-decoration-color: #008000\">'date'</span>: <span style=\"color: #008000; text-decoration-color: #008000\">'2024-08-01'</span>, <span style=\"color: #008000; text-decoration-color: #008000\">'value'</span>: <span style=\"color: #008000; text-decoration-color: #008000\">'4.2'</span><span style=\"font-weight: bold\">}</span>,\n",
       "<span style=\"color: #7fbf7f; text-decoration-color: #7fbf7f\">│   </span><span style=\"font-weight: bold\">{</span><span style=\"color: #008000; text-decoration-color: #008000\">'realtime_start'</span>: <span style=\"color: #008000; text-decoration-color: #008000\">'2025-02-14'</span>, <span style=\"color: #008000; text-decoration-color: #008000\">'realtime_end'</span>: <span style=\"color: #008000; text-decoration-color: #008000\">'2025-02-14'</span>, <span style=\"color: #008000; text-decoration-color: #008000\">'date'</span>: <span style=\"color: #008000; text-decoration-color: #008000\">'2024-09-01'</span>, <span style=\"color: #008000; text-decoration-color: #008000\">'value'</span>: <span style=\"color: #008000; text-decoration-color: #008000\">'4.1'</span><span style=\"font-weight: bold\">}</span>,\n",
       "<span style=\"color: #7fbf7f; text-decoration-color: #7fbf7f\">│   </span><span style=\"font-weight: bold\">{</span><span style=\"color: #008000; text-decoration-color: #008000\">'realtime_start'</span>: <span style=\"color: #008000; text-decoration-color: #008000\">'2025-02-14'</span>, <span style=\"color: #008000; text-decoration-color: #008000\">'realtime_end'</span>: <span style=\"color: #008000; text-decoration-color: #008000\">'2025-02-14'</span>, <span style=\"color: #008000; text-decoration-color: #008000\">'date'</span>: <span style=\"color: #008000; text-decoration-color: #008000\">'2024-10-01'</span>, <span style=\"color: #008000; text-decoration-color: #008000\">'value'</span>: <span style=\"color: #008000; text-decoration-color: #008000\">'4.1'</span><span style=\"font-weight: bold\">}</span>,\n",
       "<span style=\"color: #7fbf7f; text-decoration-color: #7fbf7f\">│   </span><span style=\"font-weight: bold\">{</span><span style=\"color: #008000; text-decoration-color: #008000\">'realtime_start'</span>: <span style=\"color: #008000; text-decoration-color: #008000\">'2025-02-14'</span>, <span style=\"color: #008000; text-decoration-color: #008000\">'realtime_end'</span>: <span style=\"color: #008000; text-decoration-color: #008000\">'2025-02-14'</span>, <span style=\"color: #008000; text-decoration-color: #008000\">'date'</span>: <span style=\"color: #008000; text-decoration-color: #008000\">'2024-11-01'</span>, <span style=\"color: #008000; text-decoration-color: #008000\">'value'</span>: <span style=\"color: #008000; text-decoration-color: #008000\">'4.2'</span><span style=\"font-weight: bold\">}</span>,\n",
       "<span style=\"color: #7fbf7f; text-decoration-color: #7fbf7f\">│   </span><span style=\"font-weight: bold\">{</span><span style=\"color: #008000; text-decoration-color: #008000\">'realtime_start'</span>: <span style=\"color: #008000; text-decoration-color: #008000\">'2025-02-14'</span>, <span style=\"color: #008000; text-decoration-color: #008000\">'realtime_end'</span>: <span style=\"color: #008000; text-decoration-color: #008000\">'2025-02-14'</span>, <span style=\"color: #008000; text-decoration-color: #008000\">'date'</span>: <span style=\"color: #008000; text-decoration-color: #008000\">'2024-12-01'</span>, <span style=\"color: #008000; text-decoration-color: #008000\">'value'</span>: <span style=\"color: #008000; text-decoration-color: #008000\">'4.1'</span><span style=\"font-weight: bold\">}</span>,\n",
       "<span style=\"color: #7fbf7f; text-decoration-color: #7fbf7f\">│   </span><span style=\"font-weight: bold\">{</span><span style=\"color: #008000; text-decoration-color: #008000\">'realtime_start'</span>: <span style=\"color: #008000; text-decoration-color: #008000\">'2025-02-14'</span>, <span style=\"color: #008000; text-decoration-color: #008000\">'realtime_end'</span>: <span style=\"color: #008000; text-decoration-color: #008000\">'2025-02-14'</span>, <span style=\"color: #008000; text-decoration-color: #008000\">'date'</span>: <span style=\"color: #008000; text-decoration-color: #008000\">'2025-01-01'</span>, <span style=\"color: #008000; text-decoration-color: #008000\">'value'</span>: <span style=\"color: #008000; text-decoration-color: #008000\">'4.0'</span><span style=\"font-weight: bold\">}</span>\n",
       "<span style=\"font-weight: bold\">]</span>\n",
       "</pre>\n"
      ],
      "text/plain": [
       "\u001b[1m[\u001b[0m\n",
       "\u001b[2;32m│   \u001b[0m\u001b[1m{\u001b[0m\u001b[32m'realtime_start'\u001b[0m: \u001b[32m'2025-02-14'\u001b[0m, \u001b[32m'realtime_end'\u001b[0m: \u001b[32m'2025-02-14'\u001b[0m, \u001b[32m'date'\u001b[0m: \u001b[32m'2024-01-01'\u001b[0m, \u001b[32m'value'\u001b[0m: \u001b[32m'3.7'\u001b[0m\u001b[1m}\u001b[0m,\n",
       "\u001b[2;32m│   \u001b[0m\u001b[1m{\u001b[0m\u001b[32m'realtime_start'\u001b[0m: \u001b[32m'2025-02-14'\u001b[0m, \u001b[32m'realtime_end'\u001b[0m: \u001b[32m'2025-02-14'\u001b[0m, \u001b[32m'date'\u001b[0m: \u001b[32m'2024-02-01'\u001b[0m, \u001b[32m'value'\u001b[0m: \u001b[32m'3.9'\u001b[0m\u001b[1m}\u001b[0m,\n",
       "\u001b[2;32m│   \u001b[0m\u001b[1m{\u001b[0m\u001b[32m'realtime_start'\u001b[0m: \u001b[32m'2025-02-14'\u001b[0m, \u001b[32m'realtime_end'\u001b[0m: \u001b[32m'2025-02-14'\u001b[0m, \u001b[32m'date'\u001b[0m: \u001b[32m'2024-03-01'\u001b[0m, \u001b[32m'value'\u001b[0m: \u001b[32m'3.9'\u001b[0m\u001b[1m}\u001b[0m,\n",
       "\u001b[2;32m│   \u001b[0m\u001b[1m{\u001b[0m\u001b[32m'realtime_start'\u001b[0m: \u001b[32m'2025-02-14'\u001b[0m, \u001b[32m'realtime_end'\u001b[0m: \u001b[32m'2025-02-14'\u001b[0m, \u001b[32m'date'\u001b[0m: \u001b[32m'2024-04-01'\u001b[0m, \u001b[32m'value'\u001b[0m: \u001b[32m'3.9'\u001b[0m\u001b[1m}\u001b[0m,\n",
       "\u001b[2;32m│   \u001b[0m\u001b[1m{\u001b[0m\u001b[32m'realtime_start'\u001b[0m: \u001b[32m'2025-02-14'\u001b[0m, \u001b[32m'realtime_end'\u001b[0m: \u001b[32m'2025-02-14'\u001b[0m, \u001b[32m'date'\u001b[0m: \u001b[32m'2024-05-01'\u001b[0m, \u001b[32m'value'\u001b[0m: \u001b[32m'4.0'\u001b[0m\u001b[1m}\u001b[0m,\n",
       "\u001b[2;32m│   \u001b[0m\u001b[1m{\u001b[0m\u001b[32m'realtime_start'\u001b[0m: \u001b[32m'2025-02-14'\u001b[0m, \u001b[32m'realtime_end'\u001b[0m: \u001b[32m'2025-02-14'\u001b[0m, \u001b[32m'date'\u001b[0m: \u001b[32m'2024-06-01'\u001b[0m, \u001b[32m'value'\u001b[0m: \u001b[32m'4.1'\u001b[0m\u001b[1m}\u001b[0m,\n",
       "\u001b[2;32m│   \u001b[0m\u001b[1m{\u001b[0m\u001b[32m'realtime_start'\u001b[0m: \u001b[32m'2025-02-14'\u001b[0m, \u001b[32m'realtime_end'\u001b[0m: \u001b[32m'2025-02-14'\u001b[0m, \u001b[32m'date'\u001b[0m: \u001b[32m'2024-07-01'\u001b[0m, \u001b[32m'value'\u001b[0m: \u001b[32m'4.2'\u001b[0m\u001b[1m}\u001b[0m,\n",
       "\u001b[2;32m│   \u001b[0m\u001b[1m{\u001b[0m\u001b[32m'realtime_start'\u001b[0m: \u001b[32m'2025-02-14'\u001b[0m, \u001b[32m'realtime_end'\u001b[0m: \u001b[32m'2025-02-14'\u001b[0m, \u001b[32m'date'\u001b[0m: \u001b[32m'2024-08-01'\u001b[0m, \u001b[32m'value'\u001b[0m: \u001b[32m'4.2'\u001b[0m\u001b[1m}\u001b[0m,\n",
       "\u001b[2;32m│   \u001b[0m\u001b[1m{\u001b[0m\u001b[32m'realtime_start'\u001b[0m: \u001b[32m'2025-02-14'\u001b[0m, \u001b[32m'realtime_end'\u001b[0m: \u001b[32m'2025-02-14'\u001b[0m, \u001b[32m'date'\u001b[0m: \u001b[32m'2024-09-01'\u001b[0m, \u001b[32m'value'\u001b[0m: \u001b[32m'4.1'\u001b[0m\u001b[1m}\u001b[0m,\n",
       "\u001b[2;32m│   \u001b[0m\u001b[1m{\u001b[0m\u001b[32m'realtime_start'\u001b[0m: \u001b[32m'2025-02-14'\u001b[0m, \u001b[32m'realtime_end'\u001b[0m: \u001b[32m'2025-02-14'\u001b[0m, \u001b[32m'date'\u001b[0m: \u001b[32m'2024-10-01'\u001b[0m, \u001b[32m'value'\u001b[0m: \u001b[32m'4.1'\u001b[0m\u001b[1m}\u001b[0m,\n",
       "\u001b[2;32m│   \u001b[0m\u001b[1m{\u001b[0m\u001b[32m'realtime_start'\u001b[0m: \u001b[32m'2025-02-14'\u001b[0m, \u001b[32m'realtime_end'\u001b[0m: \u001b[32m'2025-02-14'\u001b[0m, \u001b[32m'date'\u001b[0m: \u001b[32m'2024-11-01'\u001b[0m, \u001b[32m'value'\u001b[0m: \u001b[32m'4.2'\u001b[0m\u001b[1m}\u001b[0m,\n",
       "\u001b[2;32m│   \u001b[0m\u001b[1m{\u001b[0m\u001b[32m'realtime_start'\u001b[0m: \u001b[32m'2025-02-14'\u001b[0m, \u001b[32m'realtime_end'\u001b[0m: \u001b[32m'2025-02-14'\u001b[0m, \u001b[32m'date'\u001b[0m: \u001b[32m'2024-12-01'\u001b[0m, \u001b[32m'value'\u001b[0m: \u001b[32m'4.1'\u001b[0m\u001b[1m}\u001b[0m,\n",
       "\u001b[2;32m│   \u001b[0m\u001b[1m{\u001b[0m\u001b[32m'realtime_start'\u001b[0m: \u001b[32m'2025-02-14'\u001b[0m, \u001b[32m'realtime_end'\u001b[0m: \u001b[32m'2025-02-14'\u001b[0m, \u001b[32m'date'\u001b[0m: \u001b[32m'2025-01-01'\u001b[0m, \u001b[32m'value'\u001b[0m: \u001b[32m'4.0'\u001b[0m\u001b[1m}\u001b[0m\n",
       "\u001b[1m]\u001b[0m\n"
      ]
     },
     "metadata": {},
     "output_type": "display_data"
    }
   ],
   "source": [
    "# Fetch the UNRATE series data for the current year\n",
    "unrate_json = pf.get_series(series_id=\"UNRATE\", **extra_parameters, return_format=\"json\")\n",
    "pprint(unrate_json, max_length=20)"
   ]
  }
 ],
 "metadata": {
  "kernelspec": {
   "display_name": ".venv",
   "language": "python",
   "name": "python3"
  },
  "language_info": {
   "codemirror_mode": {
    "name": "ipython",
    "version": 3
   },
   "file_extension": ".py",
   "mimetype": "text/x-python",
   "name": "python",
   "nbconvert_exporter": "python",
   "pygments_lexer": "ipython3",
   "version": "3.10.15"
  }
 },
 "nbformat": 4,
 "nbformat_minor": 2
}
