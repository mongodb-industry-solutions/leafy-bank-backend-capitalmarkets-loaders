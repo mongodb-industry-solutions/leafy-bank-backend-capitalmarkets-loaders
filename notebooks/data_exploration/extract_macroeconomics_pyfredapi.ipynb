{
 "cells": [
  {
   "cell_type": "markdown",
   "metadata": {},
   "source": [
    "# pyfredapi\n",
    "\n",
    "A Python library for the Federal Reserve Economic Data (FRED) API: \n",
    "https://fred.stlouisfed.org/docs/api/fred/\n",
    "\n",
    "## Github\n",
    "\n",
    "https://github.com/gw-moore/pyfredapi\n",
    "\n",
    "## Documentation\n",
    "\n",
    "https://pyfredapi.readthedocs.io/en/latest/\n",
    "\n",
    "## Description\n",
    "\n",
    "pyfredapi is a Python library that makes it is easy to retrieve data from the FRED API web service.\n",
    "\n",
    "pyfredapi covers all the FRED API endpoints, and can retrieve data from FRED and ALFRED. Data can be returned as a pandas dataframe or as json. Requests to the FRED API can be customized according to the parameters made available by the web service endpoints."
   ]
  },
  {
   "cell_type": "code",
   "execution_count": null,
   "metadata": {},
   "outputs": [
    {
     "name": "stdout",
     "output_type": "stream",
     "text": [
      "Requirement already satisfied: python-dotenv in /Users/julian.boronat/Github/mongodb/mongodb-industry-solutions/leafy-bank-backend-capitalmarkets/.venv/lib/python3.10/site-packages (1.0.1)\n",
      "Note: you may need to restart the kernel to use updated packages.\n"
     ]
    }
   ],
   "source": [
    "# Install dependencies\n",
    "%pip install python-dotenv"
   ]
  },
  {
   "cell_type": "code",
   "execution_count": null,
   "metadata": {},
   "outputs": [],
   "source": [
    "from dotenv import load_dotenv\n",
    "import os\n",
    "\n",
    "# Load environment variables\n",
    "load_dotenv()\n",
    "\n",
    "# FRED API key\n",
    "FRED_API_KEY = \"YOUR_API_KEY\"\n",
    "\n",
    "if not os.environ.get(\"FRED_API_KEY\"):\n",
    "    os.environ[\"FRED_API_KEY\"] = FRED_API_KEY"
   ]
  },
  {
   "cell_type": "code",
   "execution_count": 3,
   "metadata": {},
   "outputs": [
    {
     "name": "stdout",
     "output_type": "stream",
     "text": [
      "Requirement already satisfied: pyfredapi in /Users/julian.boronat/Github/mongodb/mongodb-industry-solutions/leafy-bank-backend-capitalmarkets/.venv/lib/python3.10/site-packages (0.9.1)\n",
      "Requirement already satisfied: rprint in /Users/julian.boronat/Github/mongodb/mongodb-industry-solutions/leafy-bank-backend-capitalmarkets/.venv/lib/python3.10/site-packages (0.0.8)\n",
      "Collecting numpy<2.0.0,>=1.0.0 (from pyfredapi)\n",
      "  Using cached numpy-1.26.4-cp310-cp310-macosx_11_0_arm64.whl.metadata (61 kB)\n",
      "Requirement already satisfied: pandas<3.0.0,>=1.0.0 in /Users/julian.boronat/Github/mongodb/mongodb-industry-solutions/leafy-bank-backend-capitalmarkets/.venv/lib/python3.10/site-packages (from pyfredapi) (2.2.3)\n",
      "Requirement already satisfied: pydantic<3.0.0,>=2.0.0 in /Users/julian.boronat/Github/mongodb/mongodb-industry-solutions/leafy-bank-backend-capitalmarkets/.venv/lib/python3.10/site-packages (from pyfredapi) (2.10.6)\n",
      "Requirement already satisfied: requests<3.0.0,>=2.0.0 in /Users/julian.boronat/Github/mongodb/mongodb-industry-solutions/leafy-bank-backend-capitalmarkets/.venv/lib/python3.10/site-packages (from pyfredapi) (2.32.3)\n",
      "Requirement already satisfied: rich<14.0.0,>=13.0.0 in /Users/julian.boronat/Github/mongodb/mongodb-industry-solutions/leafy-bank-backend-capitalmarkets/.venv/lib/python3.10/site-packages (from pyfredapi) (13.9.4)\n",
      "Requirement already satisfied: python-dateutil>=2.8.2 in /Users/julian.boronat/Github/mongodb/mongodb-industry-solutions/leafy-bank-backend-capitalmarkets/.venv/lib/python3.10/site-packages (from pandas<3.0.0,>=1.0.0->pyfredapi) (2.9.0.post0)\n",
      "Requirement already satisfied: pytz>=2020.1 in /Users/julian.boronat/Github/mongodb/mongodb-industry-solutions/leafy-bank-backend-capitalmarkets/.venv/lib/python3.10/site-packages (from pandas<3.0.0,>=1.0.0->pyfredapi) (2025.1)\n",
      "Requirement already satisfied: tzdata>=2022.7 in /Users/julian.boronat/Github/mongodb/mongodb-industry-solutions/leafy-bank-backend-capitalmarkets/.venv/lib/python3.10/site-packages (from pandas<3.0.0,>=1.0.0->pyfredapi) (2025.1)\n",
      "Requirement already satisfied: annotated-types>=0.6.0 in /Users/julian.boronat/Github/mongodb/mongodb-industry-solutions/leafy-bank-backend-capitalmarkets/.venv/lib/python3.10/site-packages (from pydantic<3.0.0,>=2.0.0->pyfredapi) (0.7.0)\n",
      "Requirement already satisfied: pydantic-core==2.27.2 in /Users/julian.boronat/Github/mongodb/mongodb-industry-solutions/leafy-bank-backend-capitalmarkets/.venv/lib/python3.10/site-packages (from pydantic<3.0.0,>=2.0.0->pyfredapi) (2.27.2)\n",
      "Requirement already satisfied: typing-extensions>=4.12.2 in /Users/julian.boronat/Github/mongodb/mongodb-industry-solutions/leafy-bank-backend-capitalmarkets/.venv/lib/python3.10/site-packages (from pydantic<3.0.0,>=2.0.0->pyfredapi) (4.12.2)\n",
      "Requirement already satisfied: charset-normalizer<4,>=2 in /Users/julian.boronat/Github/mongodb/mongodb-industry-solutions/leafy-bank-backend-capitalmarkets/.venv/lib/python3.10/site-packages (from requests<3.0.0,>=2.0.0->pyfredapi) (3.4.1)\n",
      "Requirement already satisfied: idna<4,>=2.5 in /Users/julian.boronat/Github/mongodb/mongodb-industry-solutions/leafy-bank-backend-capitalmarkets/.venv/lib/python3.10/site-packages (from requests<3.0.0,>=2.0.0->pyfredapi) (3.10)\n",
      "Requirement already satisfied: urllib3<3,>=1.21.1 in /Users/julian.boronat/Github/mongodb/mongodb-industry-solutions/leafy-bank-backend-capitalmarkets/.venv/lib/python3.10/site-packages (from requests<3.0.0,>=2.0.0->pyfredapi) (2.3.0)\n",
      "Requirement already satisfied: certifi>=2017.4.17 in /Users/julian.boronat/Github/mongodb/mongodb-industry-solutions/leafy-bank-backend-capitalmarkets/.venv/lib/python3.10/site-packages (from requests<3.0.0,>=2.0.0->pyfredapi) (2025.1.31)\n",
      "Requirement already satisfied: markdown-it-py>=2.2.0 in /Users/julian.boronat/Github/mongodb/mongodb-industry-solutions/leafy-bank-backend-capitalmarkets/.venv/lib/python3.10/site-packages (from rich<14.0.0,>=13.0.0->pyfredapi) (3.0.0)\n",
      "Requirement already satisfied: pygments<3.0.0,>=2.13.0 in /Users/julian.boronat/Github/mongodb/mongodb-industry-solutions/leafy-bank-backend-capitalmarkets/.venv/lib/python3.10/site-packages (from rich<14.0.0,>=13.0.0->pyfredapi) (2.19.1)\n",
      "Requirement already satisfied: mdurl~=0.1 in /Users/julian.boronat/Github/mongodb/mongodb-industry-solutions/leafy-bank-backend-capitalmarkets/.venv/lib/python3.10/site-packages (from markdown-it-py>=2.2.0->rich<14.0.0,>=13.0.0->pyfredapi) (0.1.2)\n",
      "Requirement already satisfied: six>=1.5 in /Users/julian.boronat/Github/mongodb/mongodb-industry-solutions/leafy-bank-backend-capitalmarkets/.venv/lib/python3.10/site-packages (from python-dateutil>=2.8.2->pandas<3.0.0,>=1.0.0->pyfredapi) (1.17.0)\n",
      "Using cached numpy-1.26.4-cp310-cp310-macosx_11_0_arm64.whl (14.0 MB)\n",
      "Installing collected packages: numpy\n",
      "  Attempting uninstall: numpy\n",
      "    Found existing installation: numpy 2.2.3\n",
      "    Uninstalling numpy-2.2.3:\n",
      "      Successfully uninstalled numpy-2.2.3\n",
      "Successfully installed numpy-1.26.4\n",
      "Note: you may need to restart the kernel to use updated packages.\n"
     ]
    }
   ],
   "source": [
    "# Install packages\n",
    "%pip install pyfredapi rprint"
   ]
  },
  {
   "cell_type": "code",
   "execution_count": 4,
   "metadata": {},
   "outputs": [],
   "source": [
    "from rich import print as rprint\n",
    "from rich.pretty import pprint\n",
    "\n",
    "import pyfredapi as pf"
   ]
  },
  {
   "cell_type": "markdown",
   "metadata": {},
   "source": [
    "## Macroeconomic Parameters: \n",
    "\n",
    "### - GDP (https://fred.stlouisfed.org/series/GDP)\n",
    "### - Interest rate (https://fred.stlouisfed.org/series/REAINTRATREARAT10Y)\n",
    "### - Unemployment rate (https://fred.stlouisfed.org/series/UNRATE)"
   ]
  },
  {
   "cell_type": "markdown",
   "metadata": {},
   "source": [
    "## Series Metadata\n",
    "\n",
    "Before looking at series data, it is helpful to understand the pyfredapi's get_series_info function and SeriesInfo object. Each series published by FRED has associated metadata such as:\n",
    "\n",
    "- Start and end dates\n",
    "- Publish frequency\n",
    "- Unit of measure\n",
    "\n",
    "You can query a series' information directly with get_series_info. The get_series_info function returns a SeriesInfo object that contains all the metadata for the given series.\n",
    "\n",
    "In the below example, we request information for the U.S. GDP series. From the result, we can see that the GDP series is\n",
    "\n",
    "- Published quarterly\n",
    "- The earliest data available is 1947-01-01\n",
    "- The unit of measure is Billions of Dollars"
   ]
  },
  {
   "cell_type": "code",
   "execution_count": 5,
   "metadata": {},
   "outputs": [],
   "source": [
    "from datetime import datetime\n",
    "\n",
    "# Get the current year\n",
    "current_year = datetime.now().year\n",
    "\n",
    "# Get past year\n",
    "three_years = current_year - 3\n",
    "\n",
    "# Define the observation start and end dates for the current year\n",
    "# https://pyfredapi.readthedocs.io/en/latest/tutorials/series/#get-releases-as-of-date\n",
    "extra_parameters = {\n",
    "    \"observation_start\": f\"{three_years}-01-01\",\n",
    "    \"observation_end\": f\"{current_year}-12-31\",\n",
    "}"
   ]
  },
  {
   "cell_type": "markdown",
   "metadata": {},
   "source": [
    "### Gross Domestic Product (GDP)\n",
    "\n",
    "Source: U.S. Bureau of Economic Analysis  Release: Gross Domestic Product  \n",
    "Units:  Billions of Dollars, Seasonally Adjusted Annual Rate\n",
    "\n",
    "Frequency:  Quarterly\n",
    "\n",
    "Notes:\n",
    "BEA Account Code: A191RC\n",
    "\n",
    "Gross domestic product (GDP), the featured measure of U.S. output, is the market value of the goods and services produced by labor and property located in the United States.For more information, see the Guide to the National Income and Product Accounts of the United States (NIPA) and the Bureau of Economic Analysis.\n",
    "\n",
    "Suggested Citation:\n",
    "U.S. Bureau of Economic Analysis, Gross Domestic Product [GDP], retrieved from FRED, Federal Reserve Bank of St. Louis; https://fred.stlouisfed.org/series/GDP, March 4, 2025."
   ]
  },
  {
   "cell_type": "markdown",
   "metadata": {},
   "source": [
    "### U.S. GDP series"
   ]
  },
  {
   "cell_type": "code",
   "execution_count": 6,
   "metadata": {},
   "outputs": [
    {
     "data": {
      "text/html": [
       "<pre style=\"white-space:pre;overflow-x:auto;line-height:normal;font-family:Menlo,'DejaVu Sans Mono',consolas,'Courier New',monospace\"><span style=\"color: #800080; text-decoration-color: #800080; font-weight: bold\">SeriesInfo</span><span style=\"font-weight: bold\">(</span>\n",
       "    <span style=\"color: #808000; text-decoration-color: #808000\">id</span>=<span style=\"color: #008000; text-decoration-color: #008000\">'GDP'</span>,\n",
       "    <span style=\"color: #808000; text-decoration-color: #808000\">realtime_start</span>=<span style=\"color: #008000; text-decoration-color: #008000\">'2025-02-27'</span>,\n",
       "    <span style=\"color: #808000; text-decoration-color: #808000\">realtime_end</span>=<span style=\"color: #008000; text-decoration-color: #008000\">'2025-02-27'</span>,\n",
       "    <span style=\"color: #808000; text-decoration-color: #808000\">title</span>=<span style=\"color: #008000; text-decoration-color: #008000\">'Gross Domestic Product'</span>,\n",
       "    <span style=\"color: #808000; text-decoration-color: #808000\">observation_start</span>=<span style=\"color: #008000; text-decoration-color: #008000\">'1947-01-01'</span>,\n",
       "    <span style=\"color: #808000; text-decoration-color: #808000\">observation_end</span>=<span style=\"color: #008000; text-decoration-color: #008000\">'2024-10-01'</span>,\n",
       "    <span style=\"color: #808000; text-decoration-color: #808000\">frequency</span>=<span style=\"color: #008000; text-decoration-color: #008000\">'Quarterly'</span>,\n",
       "    <span style=\"color: #808000; text-decoration-color: #808000\">frequency_short</span>=<span style=\"color: #008000; text-decoration-color: #008000\">'Q'</span>,\n",
       "    <span style=\"color: #808000; text-decoration-color: #808000\">units</span>=<span style=\"color: #008000; text-decoration-color: #008000\">'Billions of Dollars'</span>,\n",
       "    <span style=\"color: #808000; text-decoration-color: #808000\">units_short</span>=<span style=\"color: #008000; text-decoration-color: #008000\">'Bil. of $'</span>,\n",
       "    <span style=\"color: #808000; text-decoration-color: #808000\">seasonal_adjustment</span>=<span style=\"color: #008000; text-decoration-color: #008000\">'Seasonally Adjusted Annual Rate'</span>,\n",
       "    <span style=\"color: #808000; text-decoration-color: #808000\">seasonal_adjustment_short</span>=<span style=\"color: #008000; text-decoration-color: #008000\">'SAAR'</span>,\n",
       "    <span style=\"color: #808000; text-decoration-color: #808000\">last_updated</span>=<span style=\"color: #008000; text-decoration-color: #008000\">'2025-02-27 07:58:40-06'</span>,\n",
       "    <span style=\"color: #808000; text-decoration-color: #808000\">popularity</span>=<span style=\"color: #008080; text-decoration-color: #008080; font-weight: bold\">93</span>,\n",
       "    <span style=\"color: #808000; text-decoration-color: #808000\">notes</span>=<span style=\"color: #008000; text-decoration-color: #008000\">'BEA Account Code: A191RC\\n\\nGross domestic product (GDP), the featured measure of U.S. output, is the </span>\n",
       "<span style=\"color: #008000; text-decoration-color: #008000\">market value of the goods and services produced by labor and property located in the United States.For more </span>\n",
       "<span style=\"color: #008000; text-decoration-color: #008000\">information, see the Guide to the National Income and Product Accounts of the United States (NIPA) and the Bureau </span>\n",
       "<span style=\"color: #008000; text-decoration-color: #008000\">of Economic Analysis (http://www.bea.gov/national/pdf/nipaguid.pdf).'</span>\n",
       "<span style=\"font-weight: bold\">)</span>\n",
       "</pre>\n"
      ],
      "text/plain": [
       "\u001b[1;35mSeriesInfo\u001b[0m\u001b[1m(\u001b[0m\n",
       "    \u001b[33mid\u001b[0m=\u001b[32m'GDP'\u001b[0m,\n",
       "    \u001b[33mrealtime_start\u001b[0m=\u001b[32m'2025-02-27'\u001b[0m,\n",
       "    \u001b[33mrealtime_end\u001b[0m=\u001b[32m'2025-02-27'\u001b[0m,\n",
       "    \u001b[33mtitle\u001b[0m=\u001b[32m'Gross Domestic Product'\u001b[0m,\n",
       "    \u001b[33mobservation_start\u001b[0m=\u001b[32m'1947-01-01'\u001b[0m,\n",
       "    \u001b[33mobservation_end\u001b[0m=\u001b[32m'2024-10-01'\u001b[0m,\n",
       "    \u001b[33mfrequency\u001b[0m=\u001b[32m'Quarterly'\u001b[0m,\n",
       "    \u001b[33mfrequency_short\u001b[0m=\u001b[32m'Q'\u001b[0m,\n",
       "    \u001b[33munits\u001b[0m=\u001b[32m'Billions of Dollars'\u001b[0m,\n",
       "    \u001b[33munits_short\u001b[0m=\u001b[32m'Bil. of $'\u001b[0m,\n",
       "    \u001b[33mseasonal_adjustment\u001b[0m=\u001b[32m'Seasonally Adjusted Annual Rate'\u001b[0m,\n",
       "    \u001b[33mseasonal_adjustment_short\u001b[0m=\u001b[32m'SAAR'\u001b[0m,\n",
       "    \u001b[33mlast_updated\u001b[0m=\u001b[32m'2025-02-27 07:58:40-06'\u001b[0m,\n",
       "    \u001b[33mpopularity\u001b[0m=\u001b[1;36m93\u001b[0m,\n",
       "    \u001b[33mnotes\u001b[0m=\u001b[32m'BEA Account Code: A191RC\\n\\nGross domestic product \u001b[0m\u001b[32m(\u001b[0m\u001b[32mGDP\u001b[0m\u001b[32m)\u001b[0m\u001b[32m, the featured measure of U.S. output, is the \u001b[0m\n",
       "\u001b[32mmarket value of the goods and services produced by labor and property located in the United States.For more \u001b[0m\n",
       "\u001b[32minformation, see the Guide to the National Income and Product Accounts of the United States \u001b[0m\u001b[32m(\u001b[0m\u001b[32mNIPA\u001b[0m\u001b[32m)\u001b[0m\u001b[32m and the Bureau \u001b[0m\n",
       "\u001b[32mof Economic Analysis \u001b[0m\u001b[32m(\u001b[0m\u001b[32mhttp://www.bea.gov/national/pdf/nipaguid.pdf\u001b[0m\u001b[32m)\u001b[0m\u001b[32m.'\u001b[0m\n",
       "\u001b[1m)\u001b[0m\n"
      ]
     },
     "metadata": {},
     "output_type": "display_data"
    }
   ],
   "source": [
    "gdp_info = pf.get_series_info(series_id=\"GDP\", api_key=FRED_API_KEY)\n",
    "\n",
    "# Using rich to pretty print the SeriesInfo\n",
    "rprint(gdp_info)"
   ]
  },
  {
   "cell_type": "code",
   "execution_count": 7,
   "metadata": {},
   "outputs": [],
   "source": [
    "# https://pyfredapi.readthedocs.io/en/latest/tutorials/series/#pandas-dataframe\n",
    "gdp_df = pf.get_series(series_id=\"GDP\", **extra_parameters)"
   ]
  },
  {
   "cell_type": "code",
   "execution_count": 8,
   "metadata": {},
   "outputs": [
    {
     "data": {
      "text/plain": [
       "realtime_start            object\n",
       "realtime_end              object\n",
       "date              datetime64[ns]\n",
       "value                    float64\n",
       "dtype: object"
      ]
     },
     "execution_count": 8,
     "metadata": {},
     "output_type": "execute_result"
    }
   ],
   "source": [
    "gdp_df.dtypes"
   ]
  },
  {
   "cell_type": "code",
   "execution_count": 9,
   "metadata": {},
   "outputs": [
    {
     "data": {
      "text/html": [
       "<div>\n",
       "<style scoped>\n",
       "    .dataframe tbody tr th:only-of-type {\n",
       "        vertical-align: middle;\n",
       "    }\n",
       "\n",
       "    .dataframe tbody tr th {\n",
       "        vertical-align: top;\n",
       "    }\n",
       "\n",
       "    .dataframe thead th {\n",
       "        text-align: right;\n",
       "    }\n",
       "</style>\n",
       "<table border=\"1\" class=\"dataframe\">\n",
       "  <thead>\n",
       "    <tr style=\"text-align: right;\">\n",
       "      <th></th>\n",
       "      <th>realtime_start</th>\n",
       "      <th>realtime_end</th>\n",
       "      <th>date</th>\n",
       "      <th>value</th>\n",
       "    </tr>\n",
       "  </thead>\n",
       "  <tbody>\n",
       "    <tr>\n",
       "      <th>0</th>\n",
       "      <td>2025-03-04</td>\n",
       "      <td>2025-03-04</td>\n",
       "      <td>2022-01-01</td>\n",
       "      <td>25215.491</td>\n",
       "    </tr>\n",
       "    <tr>\n",
       "      <th>1</th>\n",
       "      <td>2025-03-04</td>\n",
       "      <td>2025-03-04</td>\n",
       "      <td>2022-04-01</td>\n",
       "      <td>25805.791</td>\n",
       "    </tr>\n",
       "    <tr>\n",
       "      <th>2</th>\n",
       "      <td>2025-03-04</td>\n",
       "      <td>2025-03-04</td>\n",
       "      <td>2022-07-01</td>\n",
       "      <td>26272.011</td>\n",
       "    </tr>\n",
       "    <tr>\n",
       "      <th>3</th>\n",
       "      <td>2025-03-04</td>\n",
       "      <td>2025-03-04</td>\n",
       "      <td>2022-10-01</td>\n",
       "      <td>26734.277</td>\n",
       "    </tr>\n",
       "    <tr>\n",
       "      <th>4</th>\n",
       "      <td>2025-03-04</td>\n",
       "      <td>2025-03-04</td>\n",
       "      <td>2023-01-01</td>\n",
       "      <td>27164.359</td>\n",
       "    </tr>\n",
       "  </tbody>\n",
       "</table>\n",
       "</div>"
      ],
      "text/plain": [
       "  realtime_start realtime_end       date      value\n",
       "0     2025-03-04   2025-03-04 2022-01-01  25215.491\n",
       "1     2025-03-04   2025-03-04 2022-04-01  25805.791\n",
       "2     2025-03-04   2025-03-04 2022-07-01  26272.011\n",
       "3     2025-03-04   2025-03-04 2022-10-01  26734.277\n",
       "4     2025-03-04   2025-03-04 2023-01-01  27164.359"
      ]
     },
     "execution_count": 9,
     "metadata": {},
     "output_type": "execute_result"
    }
   ],
   "source": [
    "gdp_df.head(5)"
   ]
  },
  {
   "cell_type": "code",
   "execution_count": 10,
   "metadata": {},
   "outputs": [
    {
     "data": {
      "text/html": [
       "<div>\n",
       "<style scoped>\n",
       "    .dataframe tbody tr th:only-of-type {\n",
       "        vertical-align: middle;\n",
       "    }\n",
       "\n",
       "    .dataframe tbody tr th {\n",
       "        vertical-align: top;\n",
       "    }\n",
       "\n",
       "    .dataframe thead th {\n",
       "        text-align: right;\n",
       "    }\n",
       "</style>\n",
       "<table border=\"1\" class=\"dataframe\">\n",
       "  <thead>\n",
       "    <tr style=\"text-align: right;\">\n",
       "      <th></th>\n",
       "      <th>realtime_start</th>\n",
       "      <th>realtime_end</th>\n",
       "      <th>date</th>\n",
       "      <th>value</th>\n",
       "    </tr>\n",
       "  </thead>\n",
       "  <tbody>\n",
       "    <tr>\n",
       "      <th>7</th>\n",
       "      <td>2025-03-04</td>\n",
       "      <td>2025-03-04</td>\n",
       "      <td>2023-10-01</td>\n",
       "      <td>28296.967</td>\n",
       "    </tr>\n",
       "    <tr>\n",
       "      <th>8</th>\n",
       "      <td>2025-03-04</td>\n",
       "      <td>2025-03-04</td>\n",
       "      <td>2024-01-01</td>\n",
       "      <td>28624.069</td>\n",
       "    </tr>\n",
       "    <tr>\n",
       "      <th>9</th>\n",
       "      <td>2025-03-04</td>\n",
       "      <td>2025-03-04</td>\n",
       "      <td>2024-04-01</td>\n",
       "      <td>29016.714</td>\n",
       "    </tr>\n",
       "    <tr>\n",
       "      <th>10</th>\n",
       "      <td>2025-03-04</td>\n",
       "      <td>2025-03-04</td>\n",
       "      <td>2024-07-01</td>\n",
       "      <td>29374.914</td>\n",
       "    </tr>\n",
       "    <tr>\n",
       "      <th>11</th>\n",
       "      <td>2025-03-04</td>\n",
       "      <td>2025-03-04</td>\n",
       "      <td>2024-10-01</td>\n",
       "      <td>29719.647</td>\n",
       "    </tr>\n",
       "  </tbody>\n",
       "</table>\n",
       "</div>"
      ],
      "text/plain": [
       "   realtime_start realtime_end       date      value\n",
       "7      2025-03-04   2025-03-04 2023-10-01  28296.967\n",
       "8      2025-03-04   2025-03-04 2024-01-01  28624.069\n",
       "9      2025-03-04   2025-03-04 2024-04-01  29016.714\n",
       "10     2025-03-04   2025-03-04 2024-07-01  29374.914\n",
       "11     2025-03-04   2025-03-04 2024-10-01  29719.647"
      ]
     },
     "execution_count": 10,
     "metadata": {},
     "output_type": "execute_result"
    }
   ],
   "source": [
    "gdp_df.tail(5)"
   ]
  },
  {
   "cell_type": "code",
   "execution_count": 11,
   "metadata": {},
   "outputs": [],
   "source": [
    "gdp_df.to_csv(\"gdp_index_historical.csv\", index=False)"
   ]
  },
  {
   "cell_type": "code",
   "execution_count": 12,
   "metadata": {},
   "outputs": [],
   "source": [
    "gdp_json = pf.get_series(series_id=\"GDP\", return_format=\"json\", **extra_parameters)"
   ]
  },
  {
   "cell_type": "code",
   "execution_count": 13,
   "metadata": {},
   "outputs": [
    {
     "data": {
      "text/html": [
       "<pre style=\"white-space:pre;overflow-x:auto;line-height:normal;font-family:Menlo,'DejaVu Sans Mono',consolas,'Courier New',monospace\"><span style=\"font-weight: bold\">[</span>\n",
       "<span style=\"color: #7fbf7f; text-decoration-color: #7fbf7f\">│   </span><span style=\"font-weight: bold\">{</span><span style=\"color: #008000; text-decoration-color: #008000\">'realtime_start'</span>: <span style=\"color: #008000; text-decoration-color: #008000\">'2025-03-04'</span>, <span style=\"color: #008000; text-decoration-color: #008000\">'realtime_end'</span>: <span style=\"color: #008000; text-decoration-color: #008000\">'2025-03-04'</span>, <span style=\"color: #008000; text-decoration-color: #008000\">'date'</span>: <span style=\"color: #008000; text-decoration-color: #008000\">'2022-01-01'</span>, <span style=\"color: #008000; text-decoration-color: #008000\">'value'</span>: <span style=\"color: #008000; text-decoration-color: #008000\">'25215.491'</span><span style=\"font-weight: bold\">}</span>,\n",
       "<span style=\"color: #7fbf7f; text-decoration-color: #7fbf7f\">│   </span><span style=\"font-weight: bold\">{</span><span style=\"color: #008000; text-decoration-color: #008000\">'realtime_start'</span>: <span style=\"color: #008000; text-decoration-color: #008000\">'2025-03-04'</span>, <span style=\"color: #008000; text-decoration-color: #008000\">'realtime_end'</span>: <span style=\"color: #008000; text-decoration-color: #008000\">'2025-03-04'</span>, <span style=\"color: #008000; text-decoration-color: #008000\">'date'</span>: <span style=\"color: #008000; text-decoration-color: #008000\">'2022-04-01'</span>, <span style=\"color: #008000; text-decoration-color: #008000\">'value'</span>: <span style=\"color: #008000; text-decoration-color: #008000\">'25805.791'</span><span style=\"font-weight: bold\">}</span>,\n",
       "<span style=\"color: #7fbf7f; text-decoration-color: #7fbf7f\">│   </span><span style=\"font-weight: bold\">{</span><span style=\"color: #008000; text-decoration-color: #008000\">'realtime_start'</span>: <span style=\"color: #008000; text-decoration-color: #008000\">'2025-03-04'</span>, <span style=\"color: #008000; text-decoration-color: #008000\">'realtime_end'</span>: <span style=\"color: #008000; text-decoration-color: #008000\">'2025-03-04'</span>, <span style=\"color: #008000; text-decoration-color: #008000\">'date'</span>: <span style=\"color: #008000; text-decoration-color: #008000\">'2022-07-01'</span>, <span style=\"color: #008000; text-decoration-color: #008000\">'value'</span>: <span style=\"color: #008000; text-decoration-color: #008000\">'26272.011'</span><span style=\"font-weight: bold\">}</span>,\n",
       "<span style=\"color: #7fbf7f; text-decoration-color: #7fbf7f\">│   </span><span style=\"font-weight: bold\">{</span><span style=\"color: #008000; text-decoration-color: #008000\">'realtime_start'</span>: <span style=\"color: #008000; text-decoration-color: #008000\">'2025-03-04'</span>, <span style=\"color: #008000; text-decoration-color: #008000\">'realtime_end'</span>: <span style=\"color: #008000; text-decoration-color: #008000\">'2025-03-04'</span>, <span style=\"color: #008000; text-decoration-color: #008000\">'date'</span>: <span style=\"color: #008000; text-decoration-color: #008000\">'2022-10-01'</span>, <span style=\"color: #008000; text-decoration-color: #008000\">'value'</span>: <span style=\"color: #008000; text-decoration-color: #008000\">'26734.277'</span><span style=\"font-weight: bold\">}</span>,\n",
       "<span style=\"color: #7fbf7f; text-decoration-color: #7fbf7f\">│   </span><span style=\"font-weight: bold\">{</span><span style=\"color: #008000; text-decoration-color: #008000\">'realtime_start'</span>: <span style=\"color: #008000; text-decoration-color: #008000\">'2025-03-04'</span>, <span style=\"color: #008000; text-decoration-color: #008000\">'realtime_end'</span>: <span style=\"color: #008000; text-decoration-color: #008000\">'2025-03-04'</span>, <span style=\"color: #008000; text-decoration-color: #008000\">'date'</span>: <span style=\"color: #008000; text-decoration-color: #008000\">'2023-01-01'</span>, <span style=\"color: #008000; text-decoration-color: #008000\">'value'</span>: <span style=\"color: #008000; text-decoration-color: #008000\">'27164.359'</span><span style=\"font-weight: bold\">}</span>,\n",
       "<span style=\"color: #7fbf7f; text-decoration-color: #7fbf7f\">│   </span><span style=\"font-weight: bold\">{</span><span style=\"color: #008000; text-decoration-color: #008000\">'realtime_start'</span>: <span style=\"color: #008000; text-decoration-color: #008000\">'2025-03-04'</span>, <span style=\"color: #008000; text-decoration-color: #008000\">'realtime_end'</span>: <span style=\"color: #008000; text-decoration-color: #008000\">'2025-03-04'</span>, <span style=\"color: #008000; text-decoration-color: #008000\">'date'</span>: <span style=\"color: #008000; text-decoration-color: #008000\">'2023-04-01'</span>, <span style=\"color: #008000; text-decoration-color: #008000\">'value'</span>: <span style=\"color: #008000; text-decoration-color: #008000\">'27453.815'</span><span style=\"font-weight: bold\">}</span>,\n",
       "<span style=\"color: #7fbf7f; text-decoration-color: #7fbf7f\">│   </span><span style=\"font-weight: bold\">{</span><span style=\"color: #008000; text-decoration-color: #008000\">'realtime_start'</span>: <span style=\"color: #008000; text-decoration-color: #008000\">'2025-03-04'</span>, <span style=\"color: #008000; text-decoration-color: #008000\">'realtime_end'</span>: <span style=\"color: #008000; text-decoration-color: #008000\">'2025-03-04'</span>, <span style=\"color: #008000; text-decoration-color: #008000\">'date'</span>: <span style=\"color: #008000; text-decoration-color: #008000\">'2023-07-01'</span>, <span style=\"color: #008000; text-decoration-color: #008000\">'value'</span>: <span style=\"color: #008000; text-decoration-color: #008000\">'27967.697'</span><span style=\"font-weight: bold\">}</span>,\n",
       "<span style=\"color: #7fbf7f; text-decoration-color: #7fbf7f\">│   </span><span style=\"font-weight: bold\">{</span><span style=\"color: #008000; text-decoration-color: #008000\">'realtime_start'</span>: <span style=\"color: #008000; text-decoration-color: #008000\">'2025-03-04'</span>, <span style=\"color: #008000; text-decoration-color: #008000\">'realtime_end'</span>: <span style=\"color: #008000; text-decoration-color: #008000\">'2025-03-04'</span>, <span style=\"color: #008000; text-decoration-color: #008000\">'date'</span>: <span style=\"color: #008000; text-decoration-color: #008000\">'2023-10-01'</span>, <span style=\"color: #008000; text-decoration-color: #008000\">'value'</span>: <span style=\"color: #008000; text-decoration-color: #008000\">'28296.967'</span><span style=\"font-weight: bold\">}</span>,\n",
       "<span style=\"color: #7fbf7f; text-decoration-color: #7fbf7f\">│   </span><span style=\"font-weight: bold\">{</span><span style=\"color: #008000; text-decoration-color: #008000\">'realtime_start'</span>: <span style=\"color: #008000; text-decoration-color: #008000\">'2025-03-04'</span>, <span style=\"color: #008000; text-decoration-color: #008000\">'realtime_end'</span>: <span style=\"color: #008000; text-decoration-color: #008000\">'2025-03-04'</span>, <span style=\"color: #008000; text-decoration-color: #008000\">'date'</span>: <span style=\"color: #008000; text-decoration-color: #008000\">'2024-01-01'</span>, <span style=\"color: #008000; text-decoration-color: #008000\">'value'</span>: <span style=\"color: #008000; text-decoration-color: #008000\">'28624.069'</span><span style=\"font-weight: bold\">}</span>,\n",
       "<span style=\"color: #7fbf7f; text-decoration-color: #7fbf7f\">│   </span><span style=\"font-weight: bold\">{</span><span style=\"color: #008000; text-decoration-color: #008000\">'realtime_start'</span>: <span style=\"color: #008000; text-decoration-color: #008000\">'2025-03-04'</span>, <span style=\"color: #008000; text-decoration-color: #008000\">'realtime_end'</span>: <span style=\"color: #008000; text-decoration-color: #008000\">'2025-03-04'</span>, <span style=\"color: #008000; text-decoration-color: #008000\">'date'</span>: <span style=\"color: #008000; text-decoration-color: #008000\">'2024-04-01'</span>, <span style=\"color: #008000; text-decoration-color: #008000\">'value'</span>: <span style=\"color: #008000; text-decoration-color: #008000\">'29016.714'</span><span style=\"font-weight: bold\">}</span>,\n",
       "<span style=\"color: #7fbf7f; text-decoration-color: #7fbf7f\">│   </span><span style=\"color: #808000; text-decoration-color: #808000\">...</span> +<span style=\"color: #008080; text-decoration-color: #008080; font-weight: bold\">2</span>\n",
       "<span style=\"font-weight: bold\">]</span>\n",
       "</pre>\n"
      ],
      "text/plain": [
       "\u001b[1m[\u001b[0m\n",
       "\u001b[2;32m│   \u001b[0m\u001b[1m{\u001b[0m\u001b[32m'realtime_start'\u001b[0m: \u001b[32m'2025-03-04'\u001b[0m, \u001b[32m'realtime_end'\u001b[0m: \u001b[32m'2025-03-04'\u001b[0m, \u001b[32m'date'\u001b[0m: \u001b[32m'2022-01-01'\u001b[0m, \u001b[32m'value'\u001b[0m: \u001b[32m'25215.491'\u001b[0m\u001b[1m}\u001b[0m,\n",
       "\u001b[2;32m│   \u001b[0m\u001b[1m{\u001b[0m\u001b[32m'realtime_start'\u001b[0m: \u001b[32m'2025-03-04'\u001b[0m, \u001b[32m'realtime_end'\u001b[0m: \u001b[32m'2025-03-04'\u001b[0m, \u001b[32m'date'\u001b[0m: \u001b[32m'2022-04-01'\u001b[0m, \u001b[32m'value'\u001b[0m: \u001b[32m'25805.791'\u001b[0m\u001b[1m}\u001b[0m,\n",
       "\u001b[2;32m│   \u001b[0m\u001b[1m{\u001b[0m\u001b[32m'realtime_start'\u001b[0m: \u001b[32m'2025-03-04'\u001b[0m, \u001b[32m'realtime_end'\u001b[0m: \u001b[32m'2025-03-04'\u001b[0m, \u001b[32m'date'\u001b[0m: \u001b[32m'2022-07-01'\u001b[0m, \u001b[32m'value'\u001b[0m: \u001b[32m'26272.011'\u001b[0m\u001b[1m}\u001b[0m,\n",
       "\u001b[2;32m│   \u001b[0m\u001b[1m{\u001b[0m\u001b[32m'realtime_start'\u001b[0m: \u001b[32m'2025-03-04'\u001b[0m, \u001b[32m'realtime_end'\u001b[0m: \u001b[32m'2025-03-04'\u001b[0m, \u001b[32m'date'\u001b[0m: \u001b[32m'2022-10-01'\u001b[0m, \u001b[32m'value'\u001b[0m: \u001b[32m'26734.277'\u001b[0m\u001b[1m}\u001b[0m,\n",
       "\u001b[2;32m│   \u001b[0m\u001b[1m{\u001b[0m\u001b[32m'realtime_start'\u001b[0m: \u001b[32m'2025-03-04'\u001b[0m, \u001b[32m'realtime_end'\u001b[0m: \u001b[32m'2025-03-04'\u001b[0m, \u001b[32m'date'\u001b[0m: \u001b[32m'2023-01-01'\u001b[0m, \u001b[32m'value'\u001b[0m: \u001b[32m'27164.359'\u001b[0m\u001b[1m}\u001b[0m,\n",
       "\u001b[2;32m│   \u001b[0m\u001b[1m{\u001b[0m\u001b[32m'realtime_start'\u001b[0m: \u001b[32m'2025-03-04'\u001b[0m, \u001b[32m'realtime_end'\u001b[0m: \u001b[32m'2025-03-04'\u001b[0m, \u001b[32m'date'\u001b[0m: \u001b[32m'2023-04-01'\u001b[0m, \u001b[32m'value'\u001b[0m: \u001b[32m'27453.815'\u001b[0m\u001b[1m}\u001b[0m,\n",
       "\u001b[2;32m│   \u001b[0m\u001b[1m{\u001b[0m\u001b[32m'realtime_start'\u001b[0m: \u001b[32m'2025-03-04'\u001b[0m, \u001b[32m'realtime_end'\u001b[0m: \u001b[32m'2025-03-04'\u001b[0m, \u001b[32m'date'\u001b[0m: \u001b[32m'2023-07-01'\u001b[0m, \u001b[32m'value'\u001b[0m: \u001b[32m'27967.697'\u001b[0m\u001b[1m}\u001b[0m,\n",
       "\u001b[2;32m│   \u001b[0m\u001b[1m{\u001b[0m\u001b[32m'realtime_start'\u001b[0m: \u001b[32m'2025-03-04'\u001b[0m, \u001b[32m'realtime_end'\u001b[0m: \u001b[32m'2025-03-04'\u001b[0m, \u001b[32m'date'\u001b[0m: \u001b[32m'2023-10-01'\u001b[0m, \u001b[32m'value'\u001b[0m: \u001b[32m'28296.967'\u001b[0m\u001b[1m}\u001b[0m,\n",
       "\u001b[2;32m│   \u001b[0m\u001b[1m{\u001b[0m\u001b[32m'realtime_start'\u001b[0m: \u001b[32m'2025-03-04'\u001b[0m, \u001b[32m'realtime_end'\u001b[0m: \u001b[32m'2025-03-04'\u001b[0m, \u001b[32m'date'\u001b[0m: \u001b[32m'2024-01-01'\u001b[0m, \u001b[32m'value'\u001b[0m: \u001b[32m'28624.069'\u001b[0m\u001b[1m}\u001b[0m,\n",
       "\u001b[2;32m│   \u001b[0m\u001b[1m{\u001b[0m\u001b[32m'realtime_start'\u001b[0m: \u001b[32m'2025-03-04'\u001b[0m, \u001b[32m'realtime_end'\u001b[0m: \u001b[32m'2025-03-04'\u001b[0m, \u001b[32m'date'\u001b[0m: \u001b[32m'2024-04-01'\u001b[0m, \u001b[32m'value'\u001b[0m: \u001b[32m'29016.714'\u001b[0m\u001b[1m}\u001b[0m,\n",
       "\u001b[2;32m│   \u001b[0m\u001b[33m...\u001b[0m +\u001b[1;36m2\u001b[0m\n",
       "\u001b[1m]\u001b[0m\n"
      ]
     },
     "metadata": {},
     "output_type": "display_data"
    }
   ],
   "source": [
    "pprint(gdp_json, max_length=10)"
   ]
  },
  {
   "cell_type": "markdown",
   "metadata": {},
   "source": [
    "### Interest Rate\n",
    "\n",
    "### 10-Year Real Interest Rate (REAINTRATREARAT10Y)\n",
    "\n",
    "Source: Federal Reserve Bank of Cleveland  Release: Inflation Expectations  \n",
    "Units:  Percent, Not Seasonally Adjusted\n",
    "\n",
    "Frequency:  Monthly\n",
    "\n",
    "Notes:\n",
    "The Federal Reserve Bank of Cleveland estimates the expected rate of inflation over the next 30 years along with the inflation risk premium, the real risk premium, and the real interest rate.\n",
    "\n",
    "Their estimates are calculated with a model that uses Treasury yields, inflation data, inflation swaps, and survey-based measures of inflation expectations.\n",
    "\n",
    "For more information, please visit the Federal Reserve Bank of Cleveland.\n",
    "\n",
    "Suggested Citation:\n",
    "Federal Reserve Bank of Cleveland, 10-Year Real Interest Rate [REAINTRATREARAT10Y], retrieved from FRED, Federal Reserve Bank of St. Louis; https://fred.stlouisfed.org/series/REAINTRATREARAT10Y, March 4, 2025."
   ]
  },
  {
   "cell_type": "code",
   "execution_count": 14,
   "metadata": {},
   "outputs": [
    {
     "data": {
      "text/html": [
       "<pre style=\"white-space:pre;overflow-x:auto;line-height:normal;font-family:Menlo,'DejaVu Sans Mono',consolas,'Courier New',monospace\"><span style=\"color: #800080; text-decoration-color: #800080; font-weight: bold\">SeriesInfo</span><span style=\"font-weight: bold\">(</span>\n",
       "    <span style=\"color: #808000; text-decoration-color: #808000\">id</span>=<span style=\"color: #008000; text-decoration-color: #008000\">'REAINTRATREARAT10Y'</span>,\n",
       "    <span style=\"color: #808000; text-decoration-color: #808000\">realtime_start</span>=<span style=\"color: #008000; text-decoration-color: #008000\">'2025-02-13'</span>,\n",
       "    <span style=\"color: #808000; text-decoration-color: #808000\">realtime_end</span>=<span style=\"color: #008000; text-decoration-color: #008000\">'2025-02-13'</span>,\n",
       "    <span style=\"color: #808000; text-decoration-color: #808000\">title</span>=<span style=\"color: #008000; text-decoration-color: #008000\">'10-Year Real Interest Rate'</span>,\n",
       "    <span style=\"color: #808000; text-decoration-color: #808000\">observation_start</span>=<span style=\"color: #008000; text-decoration-color: #008000\">'1982-01-01'</span>,\n",
       "    <span style=\"color: #808000; text-decoration-color: #808000\">observation_end</span>=<span style=\"color: #008000; text-decoration-color: #008000\">'2025-02-01'</span>,\n",
       "    <span style=\"color: #808000; text-decoration-color: #808000\">frequency</span>=<span style=\"color: #008000; text-decoration-color: #008000\">'Monthly'</span>,\n",
       "    <span style=\"color: #808000; text-decoration-color: #808000\">frequency_short</span>=<span style=\"color: #008000; text-decoration-color: #008000\">'M'</span>,\n",
       "    <span style=\"color: #808000; text-decoration-color: #808000\">units</span>=<span style=\"color: #008000; text-decoration-color: #008000\">'Percent'</span>,\n",
       "    <span style=\"color: #808000; text-decoration-color: #808000\">units_short</span>=<span style=\"color: #008000; text-decoration-color: #008000\">'%'</span>,\n",
       "    <span style=\"color: #808000; text-decoration-color: #808000\">seasonal_adjustment</span>=<span style=\"color: #008000; text-decoration-color: #008000\">'Not Seasonally Adjusted'</span>,\n",
       "    <span style=\"color: #808000; text-decoration-color: #808000\">seasonal_adjustment_short</span>=<span style=\"color: #008000; text-decoration-color: #008000\">'NSA'</span>,\n",
       "    <span style=\"color: #808000; text-decoration-color: #808000\">last_updated</span>=<span style=\"color: #008000; text-decoration-color: #008000\">'2025-02-12 14:48:09-06'</span>,\n",
       "    <span style=\"color: #808000; text-decoration-color: #808000\">popularity</span>=<span style=\"color: #008080; text-decoration-color: #008080; font-weight: bold\">80</span>,\n",
       "    <span style=\"color: #808000; text-decoration-color: #808000\">notes</span>=<span style=\"color: #008000; text-decoration-color: #008000\">'The Federal Reserve Bank of Cleveland estimates the expected rate of inflation over the next 30 years </span>\n",
       "<span style=\"color: #008000; text-decoration-color: #008000\">along with the inflation risk premium, the real risk premium, and the real interest rate.\\n\\nTheir estimates are </span>\n",
       "<span style=\"color: #008000; text-decoration-color: #008000\">calculated with a model that uses Treasury yields, inflation data, inflation swaps, and survey-based measures of </span>\n",
       "<span style=\"color: #008000; text-decoration-color: #008000\">inflation expectations.\\n\\nFor more information, please visit the &lt;a </span>\n",
       "<span style=\"color: #008000; text-decoration-color: #008000\">href=\"https://www.clevelandfed.org/indicators-and-data/inflation-expectations#background\"&gt;Federal Reserve Bank of </span>\n",
       "<span style=\"color: #008000; text-decoration-color: #008000\">Cleveland&lt;a/&gt;.'</span>\n",
       "<span style=\"font-weight: bold\">)</span>\n",
       "</pre>\n"
      ],
      "text/plain": [
       "\u001b[1;35mSeriesInfo\u001b[0m\u001b[1m(\u001b[0m\n",
       "    \u001b[33mid\u001b[0m=\u001b[32m'REAINTRATREARAT10Y'\u001b[0m,\n",
       "    \u001b[33mrealtime_start\u001b[0m=\u001b[32m'2025-02-13'\u001b[0m,\n",
       "    \u001b[33mrealtime_end\u001b[0m=\u001b[32m'2025-02-13'\u001b[0m,\n",
       "    \u001b[33mtitle\u001b[0m=\u001b[32m'10-Year Real Interest Rate'\u001b[0m,\n",
       "    \u001b[33mobservation_start\u001b[0m=\u001b[32m'1982-01-01'\u001b[0m,\n",
       "    \u001b[33mobservation_end\u001b[0m=\u001b[32m'2025-02-01'\u001b[0m,\n",
       "    \u001b[33mfrequency\u001b[0m=\u001b[32m'Monthly'\u001b[0m,\n",
       "    \u001b[33mfrequency_short\u001b[0m=\u001b[32m'M'\u001b[0m,\n",
       "    \u001b[33munits\u001b[0m=\u001b[32m'Percent'\u001b[0m,\n",
       "    \u001b[33munits_short\u001b[0m=\u001b[32m'%'\u001b[0m,\n",
       "    \u001b[33mseasonal_adjustment\u001b[0m=\u001b[32m'Not Seasonally Adjusted'\u001b[0m,\n",
       "    \u001b[33mseasonal_adjustment_short\u001b[0m=\u001b[32m'NSA'\u001b[0m,\n",
       "    \u001b[33mlast_updated\u001b[0m=\u001b[32m'2025-02-12 14:48:09-06'\u001b[0m,\n",
       "    \u001b[33mpopularity\u001b[0m=\u001b[1;36m80\u001b[0m,\n",
       "    \u001b[33mnotes\u001b[0m=\u001b[32m'The Federal Reserve Bank of Cleveland estimates the expected rate of inflation over the next 30 years \u001b[0m\n",
       "\u001b[32malong with the inflation risk premium, the real risk premium, and the real interest rate.\\n\\nTheir estimates are \u001b[0m\n",
       "\u001b[32mcalculated with a model that uses Treasury yields, inflation data, inflation swaps, and survey-based measures of \u001b[0m\n",
       "\u001b[32minflation expectations.\\n\\nFor more information, please visit the \u001b[0m\u001b[32m<\u001b[0m\u001b[32ma\u001b[0m\u001b[32m \u001b[0m\n",
       "\u001b[32mhref\u001b[0m\u001b[32m=\u001b[0m\u001b[32m\"https\u001b[0m\u001b[32m://www.clevelandfed.org/indicators-and-data/inflation-expectations#background\">Federal Reserve Bank of \u001b[0m\n",
       "\u001b[32mCleveland<a/\u001b[0m\u001b[32m>\u001b[0m\u001b[32m.'\u001b[0m\n",
       "\u001b[1m)\u001b[0m\n"
      ]
     },
     "metadata": {},
     "output_type": "display_data"
    }
   ],
   "source": [
    "real_interest_rate_info = pf.get_series_info(series_id=\"REAINTRATREARAT10Y\", api_key=FRED_API_KEY)\n",
    "# Using rich to pretty print the SeriesInfo\n",
    "rprint(real_interest_rate_info)"
   ]
  },
  {
   "cell_type": "code",
   "execution_count": 15,
   "metadata": {},
   "outputs": [],
   "source": [
    "real_interest_rate_df = pf.get_series(series_id=\"REAINTRATREARAT10Y\", **extra_parameters)"
   ]
  },
  {
   "cell_type": "code",
   "execution_count": 16,
   "metadata": {},
   "outputs": [
    {
     "data": {
      "text/plain": [
       "realtime_start            object\n",
       "realtime_end              object\n",
       "date              datetime64[ns]\n",
       "value                    float64\n",
       "dtype: object"
      ]
     },
     "execution_count": 16,
     "metadata": {},
     "output_type": "execute_result"
    }
   ],
   "source": [
    "real_interest_rate_df.dtypes"
   ]
  },
  {
   "cell_type": "code",
   "execution_count": 17,
   "metadata": {},
   "outputs": [
    {
     "data": {
      "text/html": [
       "<div>\n",
       "<style scoped>\n",
       "    .dataframe tbody tr th:only-of-type {\n",
       "        vertical-align: middle;\n",
       "    }\n",
       "\n",
       "    .dataframe tbody tr th {\n",
       "        vertical-align: top;\n",
       "    }\n",
       "\n",
       "    .dataframe thead th {\n",
       "        text-align: right;\n",
       "    }\n",
       "</style>\n",
       "<table border=\"1\" class=\"dataframe\">\n",
       "  <thead>\n",
       "    <tr style=\"text-align: right;\">\n",
       "      <th></th>\n",
       "      <th>realtime_start</th>\n",
       "      <th>realtime_end</th>\n",
       "      <th>date</th>\n",
       "      <th>value</th>\n",
       "    </tr>\n",
       "  </thead>\n",
       "  <tbody>\n",
       "    <tr>\n",
       "      <th>33</th>\n",
       "      <td>2025-03-04</td>\n",
       "      <td>2025-03-04</td>\n",
       "      <td>2024-10-01</td>\n",
       "      <td>1.480148</td>\n",
       "    </tr>\n",
       "    <tr>\n",
       "      <th>34</th>\n",
       "      <td>2025-03-04</td>\n",
       "      <td>2025-03-04</td>\n",
       "      <td>2024-11-01</td>\n",
       "      <td>1.958417</td>\n",
       "    </tr>\n",
       "    <tr>\n",
       "      <th>35</th>\n",
       "      <td>2025-03-04</td>\n",
       "      <td>2025-03-04</td>\n",
       "      <td>2024-12-01</td>\n",
       "      <td>1.824369</td>\n",
       "    </tr>\n",
       "    <tr>\n",
       "      <th>36</th>\n",
       "      <td>2025-03-04</td>\n",
       "      <td>2025-03-04</td>\n",
       "      <td>2025-01-01</td>\n",
       "      <td>2.055532</td>\n",
       "    </tr>\n",
       "    <tr>\n",
       "      <th>37</th>\n",
       "      <td>2025-03-04</td>\n",
       "      <td>2025-03-04</td>\n",
       "      <td>2025-02-01</td>\n",
       "      <td>2.031282</td>\n",
       "    </tr>\n",
       "  </tbody>\n",
       "</table>\n",
       "</div>"
      ],
      "text/plain": [
       "   realtime_start realtime_end       date     value\n",
       "33     2025-03-04   2025-03-04 2024-10-01  1.480148\n",
       "34     2025-03-04   2025-03-04 2024-11-01  1.958417\n",
       "35     2025-03-04   2025-03-04 2024-12-01  1.824369\n",
       "36     2025-03-04   2025-03-04 2025-01-01  2.055532\n",
       "37     2025-03-04   2025-03-04 2025-02-01  2.031282"
      ]
     },
     "execution_count": 17,
     "metadata": {},
     "output_type": "execute_result"
    }
   ],
   "source": [
    "real_interest_rate_df.tail(5)"
   ]
  },
  {
   "cell_type": "code",
   "execution_count": 18,
   "metadata": {},
   "outputs": [
    {
     "data": {
      "text/html": [
       "<div>\n",
       "<style scoped>\n",
       "    .dataframe tbody tr th:only-of-type {\n",
       "        vertical-align: middle;\n",
       "    }\n",
       "\n",
       "    .dataframe tbody tr th {\n",
       "        vertical-align: top;\n",
       "    }\n",
       "\n",
       "    .dataframe thead th {\n",
       "        text-align: right;\n",
       "    }\n",
       "</style>\n",
       "<table border=\"1\" class=\"dataframe\">\n",
       "  <thead>\n",
       "    <tr style=\"text-align: right;\">\n",
       "      <th></th>\n",
       "      <th>realtime_start</th>\n",
       "      <th>realtime_end</th>\n",
       "      <th>date</th>\n",
       "      <th>value</th>\n",
       "    </tr>\n",
       "  </thead>\n",
       "  <tbody>\n",
       "    <tr>\n",
       "      <th>0</th>\n",
       "      <td>2025-03-04</td>\n",
       "      <td>2025-03-04</td>\n",
       "      <td>2022-01-01</td>\n",
       "      <td>0.319495</td>\n",
       "    </tr>\n",
       "    <tr>\n",
       "      <th>1</th>\n",
       "      <td>2025-03-04</td>\n",
       "      <td>2025-03-04</td>\n",
       "      <td>2022-02-01</td>\n",
       "      <td>0.441593</td>\n",
       "    </tr>\n",
       "    <tr>\n",
       "      <th>2</th>\n",
       "      <td>2025-03-04</td>\n",
       "      <td>2025-03-04</td>\n",
       "      <td>2022-03-01</td>\n",
       "      <td>0.347090</td>\n",
       "    </tr>\n",
       "    <tr>\n",
       "      <th>3</th>\n",
       "      <td>2025-03-04</td>\n",
       "      <td>2025-03-04</td>\n",
       "      <td>2022-04-01</td>\n",
       "      <td>0.949400</td>\n",
       "    </tr>\n",
       "    <tr>\n",
       "      <th>4</th>\n",
       "      <td>2025-03-04</td>\n",
       "      <td>2025-03-04</td>\n",
       "      <td>2022-05-01</td>\n",
       "      <td>1.203898</td>\n",
       "    </tr>\n",
       "  </tbody>\n",
       "</table>\n",
       "</div>"
      ],
      "text/plain": [
       "  realtime_start realtime_end       date     value\n",
       "0     2025-03-04   2025-03-04 2022-01-01  0.319495\n",
       "1     2025-03-04   2025-03-04 2022-02-01  0.441593\n",
       "2     2025-03-04   2025-03-04 2022-03-01  0.347090\n",
       "3     2025-03-04   2025-03-04 2022-04-01  0.949400\n",
       "4     2025-03-04   2025-03-04 2022-05-01  1.203898"
      ]
     },
     "execution_count": 18,
     "metadata": {},
     "output_type": "execute_result"
    }
   ],
   "source": [
    "real_interest_rate_df.head(5)"
   ]
  },
  {
   "cell_type": "code",
   "execution_count": 19,
   "metadata": {},
   "outputs": [],
   "source": [
    "real_interest_rate_df.to_csv(\"real_interest_rate_historical.csv\", index=False)"
   ]
  },
  {
   "cell_type": "code",
   "execution_count": 20,
   "metadata": {},
   "outputs": [
    {
     "data": {
      "text/html": [
       "<pre style=\"white-space:pre;overflow-x:auto;line-height:normal;font-family:Menlo,'DejaVu Sans Mono',consolas,'Courier New',monospace\"><span style=\"font-weight: bold\">[</span>\n",
       "<span style=\"color: #7fbf7f; text-decoration-color: #7fbf7f\">│   </span><span style=\"font-weight: bold\">{</span><span style=\"color: #008000; text-decoration-color: #008000\">'realtime_start'</span>: <span style=\"color: #008000; text-decoration-color: #008000\">'2025-03-04'</span>, <span style=\"color: #008000; text-decoration-color: #008000\">'realtime_end'</span>: <span style=\"color: #008000; text-decoration-color: #008000\">'2025-03-04'</span>, <span style=\"color: #008000; text-decoration-color: #008000\">'date'</span>: <span style=\"color: #008000; text-decoration-color: #008000\">'2022-01-01'</span>, <span style=\"color: #008000; text-decoration-color: #008000\">'value'</span>: <span style=\"color: #008000; text-decoration-color: #008000\">'0.3194951'</span><span style=\"font-weight: bold\">}</span>,\n",
       "<span style=\"color: #7fbf7f; text-decoration-color: #7fbf7f\">│   </span><span style=\"font-weight: bold\">{</span><span style=\"color: #008000; text-decoration-color: #008000\">'realtime_start'</span>: <span style=\"color: #008000; text-decoration-color: #008000\">'2025-03-04'</span>, <span style=\"color: #008000; text-decoration-color: #008000\">'realtime_end'</span>: <span style=\"color: #008000; text-decoration-color: #008000\">'2025-03-04'</span>, <span style=\"color: #008000; text-decoration-color: #008000\">'date'</span>: <span style=\"color: #008000; text-decoration-color: #008000\">'2022-02-01'</span>, <span style=\"color: #008000; text-decoration-color: #008000\">'value'</span>: <span style=\"color: #008000; text-decoration-color: #008000\">'0.44159289'</span><span style=\"font-weight: bold\">}</span>,\n",
       "<span style=\"color: #7fbf7f; text-decoration-color: #7fbf7f\">│   </span><span style=\"font-weight: bold\">{</span><span style=\"color: #008000; text-decoration-color: #008000\">'realtime_start'</span>: <span style=\"color: #008000; text-decoration-color: #008000\">'2025-03-04'</span>, <span style=\"color: #008000; text-decoration-color: #008000\">'realtime_end'</span>: <span style=\"color: #008000; text-decoration-color: #008000\">'2025-03-04'</span>, <span style=\"color: #008000; text-decoration-color: #008000\">'date'</span>: <span style=\"color: #008000; text-decoration-color: #008000\">'2022-03-01'</span>, <span style=\"color: #008000; text-decoration-color: #008000\">'value'</span>: <span style=\"color: #008000; text-decoration-color: #008000\">'0.34708992'</span><span style=\"font-weight: bold\">}</span>,\n",
       "<span style=\"color: #7fbf7f; text-decoration-color: #7fbf7f\">│   </span><span style=\"font-weight: bold\">{</span><span style=\"color: #008000; text-decoration-color: #008000\">'realtime_start'</span>: <span style=\"color: #008000; text-decoration-color: #008000\">'2025-03-04'</span>, <span style=\"color: #008000; text-decoration-color: #008000\">'realtime_end'</span>: <span style=\"color: #008000; text-decoration-color: #008000\">'2025-03-04'</span>, <span style=\"color: #008000; text-decoration-color: #008000\">'date'</span>: <span style=\"color: #008000; text-decoration-color: #008000\">'2022-04-01'</span>, <span style=\"color: #008000; text-decoration-color: #008000\">'value'</span>: <span style=\"color: #008000; text-decoration-color: #008000\">'0.94940027'</span><span style=\"font-weight: bold\">}</span>,\n",
       "<span style=\"color: #7fbf7f; text-decoration-color: #7fbf7f\">│   </span><span style=\"font-weight: bold\">{</span><span style=\"color: #008000; text-decoration-color: #008000\">'realtime_start'</span>: <span style=\"color: #008000; text-decoration-color: #008000\">'2025-03-04'</span>, <span style=\"color: #008000; text-decoration-color: #008000\">'realtime_end'</span>: <span style=\"color: #008000; text-decoration-color: #008000\">'2025-03-04'</span>, <span style=\"color: #008000; text-decoration-color: #008000\">'date'</span>: <span style=\"color: #008000; text-decoration-color: #008000\">'2022-05-01'</span>, <span style=\"color: #008000; text-decoration-color: #008000\">'value'</span>: <span style=\"color: #008000; text-decoration-color: #008000\">'1.20389776'</span><span style=\"font-weight: bold\">}</span>,\n",
       "<span style=\"color: #7fbf7f; text-decoration-color: #7fbf7f\">│   </span><span style=\"font-weight: bold\">{</span><span style=\"color: #008000; text-decoration-color: #008000\">'realtime_start'</span>: <span style=\"color: #008000; text-decoration-color: #008000\">'2025-03-04'</span>, <span style=\"color: #008000; text-decoration-color: #008000\">'realtime_end'</span>: <span style=\"color: #008000; text-decoration-color: #008000\">'2025-03-04'</span>, <span style=\"color: #008000; text-decoration-color: #008000\">'date'</span>: <span style=\"color: #008000; text-decoration-color: #008000\">'2022-06-01'</span>, <span style=\"color: #008000; text-decoration-color: #008000\">'value'</span>: <span style=\"color: #008000; text-decoration-color: #008000\">'1.02509351'</span><span style=\"font-weight: bold\">}</span>,\n",
       "<span style=\"color: #7fbf7f; text-decoration-color: #7fbf7f\">│   </span><span style=\"font-weight: bold\">{</span><span style=\"color: #008000; text-decoration-color: #008000\">'realtime_start'</span>: <span style=\"color: #008000; text-decoration-color: #008000\">'2025-03-04'</span>, <span style=\"color: #008000; text-decoration-color: #008000\">'realtime_end'</span>: <span style=\"color: #008000; text-decoration-color: #008000\">'2025-03-04'</span>, <span style=\"color: #008000; text-decoration-color: #008000\">'date'</span>: <span style=\"color: #008000; text-decoration-color: #008000\">'2022-07-01'</span>, <span style=\"color: #008000; text-decoration-color: #008000\">'value'</span>: <span style=\"color: #008000; text-decoration-color: #008000\">'1.06217493'</span><span style=\"font-weight: bold\">}</span>,\n",
       "<span style=\"color: #7fbf7f; text-decoration-color: #7fbf7f\">│   </span><span style=\"font-weight: bold\">{</span><span style=\"color: #008000; text-decoration-color: #008000\">'realtime_start'</span>: <span style=\"color: #008000; text-decoration-color: #008000\">'2025-03-04'</span>, <span style=\"color: #008000; text-decoration-color: #008000\">'realtime_end'</span>: <span style=\"color: #008000; text-decoration-color: #008000\">'2025-03-04'</span>, <span style=\"color: #008000; text-decoration-color: #008000\">'date'</span>: <span style=\"color: #008000; text-decoration-color: #008000\">'2022-08-01'</span>, <span style=\"color: #008000; text-decoration-color: #008000\">'value'</span>: <span style=\"color: #008000; text-decoration-color: #008000\">'0.8556253'</span><span style=\"font-weight: bold\">}</span>,\n",
       "<span style=\"color: #7fbf7f; text-decoration-color: #7fbf7f\">│   </span><span style=\"font-weight: bold\">{</span><span style=\"color: #008000; text-decoration-color: #008000\">'realtime_start'</span>: <span style=\"color: #008000; text-decoration-color: #008000\">'2025-03-04'</span>, <span style=\"color: #008000; text-decoration-color: #008000\">'realtime_end'</span>: <span style=\"color: #008000; text-decoration-color: #008000\">'2025-03-04'</span>, <span style=\"color: #008000; text-decoration-color: #008000\">'date'</span>: <span style=\"color: #008000; text-decoration-color: #008000\">'2022-09-01'</span>, <span style=\"color: #008000; text-decoration-color: #008000\">'value'</span>: <span style=\"color: #008000; text-decoration-color: #008000\">'1.20424868'</span><span style=\"font-weight: bold\">}</span>,\n",
       "<span style=\"color: #7fbf7f; text-decoration-color: #7fbf7f\">│   </span><span style=\"font-weight: bold\">{</span><span style=\"color: #008000; text-decoration-color: #008000\">'realtime_start'</span>: <span style=\"color: #008000; text-decoration-color: #008000\">'2025-03-04'</span>, <span style=\"color: #008000; text-decoration-color: #008000\">'realtime_end'</span>: <span style=\"color: #008000; text-decoration-color: #008000\">'2025-03-04'</span>, <span style=\"color: #008000; text-decoration-color: #008000\">'date'</span>: <span style=\"color: #008000; text-decoration-color: #008000\">'2022-10-01'</span>, <span style=\"color: #008000; text-decoration-color: #008000\">'value'</span>: <span style=\"color: #008000; text-decoration-color: #008000\">'1.79733203'</span><span style=\"font-weight: bold\">}</span>,\n",
       "<span style=\"color: #7fbf7f; text-decoration-color: #7fbf7f\">│   </span><span style=\"font-weight: bold\">{</span><span style=\"color: #008000; text-decoration-color: #008000\">'realtime_start'</span>: <span style=\"color: #008000; text-decoration-color: #008000\">'2025-03-04'</span>, <span style=\"color: #008000; text-decoration-color: #008000\">'realtime_end'</span>: <span style=\"color: #008000; text-decoration-color: #008000\">'2025-03-04'</span>, <span style=\"color: #008000; text-decoration-color: #008000\">'date'</span>: <span style=\"color: #008000; text-decoration-color: #008000\">'2022-11-01'</span>, <span style=\"color: #008000; text-decoration-color: #008000\">'value'</span>: <span style=\"color: #008000; text-decoration-color: #008000\">'1.93071305'</span><span style=\"font-weight: bold\">}</span>,\n",
       "<span style=\"color: #7fbf7f; text-decoration-color: #7fbf7f\">│   </span><span style=\"font-weight: bold\">{</span><span style=\"color: #008000; text-decoration-color: #008000\">'realtime_start'</span>: <span style=\"color: #008000; text-decoration-color: #008000\">'2025-03-04'</span>, <span style=\"color: #008000; text-decoration-color: #008000\">'realtime_end'</span>: <span style=\"color: #008000; text-decoration-color: #008000\">'2025-03-04'</span>, <span style=\"color: #008000; text-decoration-color: #008000\">'date'</span>: <span style=\"color: #008000; text-decoration-color: #008000\">'2022-12-01'</span>, <span style=\"color: #008000; text-decoration-color: #008000\">'value'</span>: <span style=\"color: #008000; text-decoration-color: #008000\">'1.57612515'</span><span style=\"font-weight: bold\">}</span>,\n",
       "<span style=\"color: #7fbf7f; text-decoration-color: #7fbf7f\">│   </span><span style=\"font-weight: bold\">{</span><span style=\"color: #008000; text-decoration-color: #008000\">'realtime_start'</span>: <span style=\"color: #008000; text-decoration-color: #008000\">'2025-03-04'</span>, <span style=\"color: #008000; text-decoration-color: #008000\">'realtime_end'</span>: <span style=\"color: #008000; text-decoration-color: #008000\">'2025-03-04'</span>, <span style=\"color: #008000; text-decoration-color: #008000\">'date'</span>: <span style=\"color: #008000; text-decoration-color: #008000\">'2023-01-01'</span>, <span style=\"color: #008000; text-decoration-color: #008000\">'value'</span>: <span style=\"color: #008000; text-decoration-color: #008000\">'1.78309897'</span><span style=\"font-weight: bold\">}</span>,\n",
       "<span style=\"color: #7fbf7f; text-decoration-color: #7fbf7f\">│   </span><span style=\"font-weight: bold\">{</span><span style=\"color: #008000; text-decoration-color: #008000\">'realtime_start'</span>: <span style=\"color: #008000; text-decoration-color: #008000\">'2025-03-04'</span>, <span style=\"color: #008000; text-decoration-color: #008000\">'realtime_end'</span>: <span style=\"color: #008000; text-decoration-color: #008000\">'2025-03-04'</span>, <span style=\"color: #008000; text-decoration-color: #008000\">'date'</span>: <span style=\"color: #008000; text-decoration-color: #008000\">'2023-02-01'</span>, <span style=\"color: #008000; text-decoration-color: #008000\">'value'</span>: <span style=\"color: #008000; text-decoration-color: #008000\">'1.42020217'</span><span style=\"font-weight: bold\">}</span>,\n",
       "<span style=\"color: #7fbf7f; text-decoration-color: #7fbf7f\">│   </span><span style=\"font-weight: bold\">{</span><span style=\"color: #008000; text-decoration-color: #008000\">'realtime_start'</span>: <span style=\"color: #008000; text-decoration-color: #008000\">'2025-03-04'</span>, <span style=\"color: #008000; text-decoration-color: #008000\">'realtime_end'</span>: <span style=\"color: #008000; text-decoration-color: #008000\">'2025-03-04'</span>, <span style=\"color: #008000; text-decoration-color: #008000\">'date'</span>: <span style=\"color: #008000; text-decoration-color: #008000\">'2023-03-01'</span>, <span style=\"color: #008000; text-decoration-color: #008000\">'value'</span>: <span style=\"color: #008000; text-decoration-color: #008000\">'2.05963636'</span><span style=\"font-weight: bold\">}</span>,\n",
       "<span style=\"color: #7fbf7f; text-decoration-color: #7fbf7f\">│   </span><span style=\"font-weight: bold\">{</span><span style=\"color: #008000; text-decoration-color: #008000\">'realtime_start'</span>: <span style=\"color: #008000; text-decoration-color: #008000\">'2025-03-04'</span>, <span style=\"color: #008000; text-decoration-color: #008000\">'realtime_end'</span>: <span style=\"color: #008000; text-decoration-color: #008000\">'2025-03-04'</span>, <span style=\"color: #008000; text-decoration-color: #008000\">'date'</span>: <span style=\"color: #008000; text-decoration-color: #008000\">'2023-04-01'</span>, <span style=\"color: #008000; text-decoration-color: #008000\">'value'</span>: <span style=\"color: #008000; text-decoration-color: #008000\">'1.44391386'</span><span style=\"font-weight: bold\">}</span>,\n",
       "<span style=\"color: #7fbf7f; text-decoration-color: #7fbf7f\">│   </span><span style=\"font-weight: bold\">{</span><span style=\"color: #008000; text-decoration-color: #008000\">'realtime_start'</span>: <span style=\"color: #008000; text-decoration-color: #008000\">'2025-03-04'</span>, <span style=\"color: #008000; text-decoration-color: #008000\">'realtime_end'</span>: <span style=\"color: #008000; text-decoration-color: #008000\">'2025-03-04'</span>, <span style=\"color: #008000; text-decoration-color: #008000\">'date'</span>: <span style=\"color: #008000; text-decoration-color: #008000\">'2023-05-01'</span>, <span style=\"color: #008000; text-decoration-color: #008000\">'value'</span>: <span style=\"color: #008000; text-decoration-color: #008000\">'1.53690406'</span><span style=\"font-weight: bold\">}</span>,\n",
       "<span style=\"color: #7fbf7f; text-decoration-color: #7fbf7f\">│   </span><span style=\"font-weight: bold\">{</span><span style=\"color: #008000; text-decoration-color: #008000\">'realtime_start'</span>: <span style=\"color: #008000; text-decoration-color: #008000\">'2025-03-04'</span>, <span style=\"color: #008000; text-decoration-color: #008000\">'realtime_end'</span>: <span style=\"color: #008000; text-decoration-color: #008000\">'2025-03-04'</span>, <span style=\"color: #008000; text-decoration-color: #008000\">'date'</span>: <span style=\"color: #008000; text-decoration-color: #008000\">'2023-06-01'</span>, <span style=\"color: #008000; text-decoration-color: #008000\">'value'</span>: <span style=\"color: #008000; text-decoration-color: #008000\">'1.06063107'</span><span style=\"font-weight: bold\">}</span>,\n",
       "<span style=\"color: #7fbf7f; text-decoration-color: #7fbf7f\">│   </span><span style=\"font-weight: bold\">{</span><span style=\"color: #008000; text-decoration-color: #008000\">'realtime_start'</span>: <span style=\"color: #008000; text-decoration-color: #008000\">'2025-03-04'</span>, <span style=\"color: #008000; text-decoration-color: #008000\">'realtime_end'</span>: <span style=\"color: #008000; text-decoration-color: #008000\">'2025-03-04'</span>, <span style=\"color: #008000; text-decoration-color: #008000\">'date'</span>: <span style=\"color: #008000; text-decoration-color: #008000\">'2023-07-01'</span>, <span style=\"color: #008000; text-decoration-color: #008000\">'value'</span>: <span style=\"color: #008000; text-decoration-color: #008000\">'1.4260473'</span><span style=\"font-weight: bold\">}</span>,\n",
       "<span style=\"color: #7fbf7f; text-decoration-color: #7fbf7f\">│   </span><span style=\"font-weight: bold\">{</span><span style=\"color: #008000; text-decoration-color: #008000\">'realtime_start'</span>: <span style=\"color: #008000; text-decoration-color: #008000\">'2025-03-04'</span>, <span style=\"color: #008000; text-decoration-color: #008000\">'realtime_end'</span>: <span style=\"color: #008000; text-decoration-color: #008000\">'2025-03-04'</span>, <span style=\"color: #008000; text-decoration-color: #008000\">'date'</span>: <span style=\"color: #008000; text-decoration-color: #008000\">'2023-08-01'</span>, <span style=\"color: #008000; text-decoration-color: #008000\">'value'</span>: <span style=\"color: #008000; text-decoration-color: #008000\">'1.60209539'</span><span style=\"font-weight: bold\">}</span>,\n",
       "<span style=\"color: #7fbf7f; text-decoration-color: #7fbf7f\">│   </span><span style=\"color: #808000; text-decoration-color: #808000\">...</span> +<span style=\"color: #008080; text-decoration-color: #008080; font-weight: bold\">18</span>\n",
       "<span style=\"font-weight: bold\">]</span>\n",
       "</pre>\n"
      ],
      "text/plain": [
       "\u001b[1m[\u001b[0m\n",
       "\u001b[2;32m│   \u001b[0m\u001b[1m{\u001b[0m\u001b[32m'realtime_start'\u001b[0m: \u001b[32m'2025-03-04'\u001b[0m, \u001b[32m'realtime_end'\u001b[0m: \u001b[32m'2025-03-04'\u001b[0m, \u001b[32m'date'\u001b[0m: \u001b[32m'2022-01-01'\u001b[0m, \u001b[32m'value'\u001b[0m: \u001b[32m'0.3194951'\u001b[0m\u001b[1m}\u001b[0m,\n",
       "\u001b[2;32m│   \u001b[0m\u001b[1m{\u001b[0m\u001b[32m'realtime_start'\u001b[0m: \u001b[32m'2025-03-04'\u001b[0m, \u001b[32m'realtime_end'\u001b[0m: \u001b[32m'2025-03-04'\u001b[0m, \u001b[32m'date'\u001b[0m: \u001b[32m'2022-02-01'\u001b[0m, \u001b[32m'value'\u001b[0m: \u001b[32m'0.44159289'\u001b[0m\u001b[1m}\u001b[0m,\n",
       "\u001b[2;32m│   \u001b[0m\u001b[1m{\u001b[0m\u001b[32m'realtime_start'\u001b[0m: \u001b[32m'2025-03-04'\u001b[0m, \u001b[32m'realtime_end'\u001b[0m: \u001b[32m'2025-03-04'\u001b[0m, \u001b[32m'date'\u001b[0m: \u001b[32m'2022-03-01'\u001b[0m, \u001b[32m'value'\u001b[0m: \u001b[32m'0.34708992'\u001b[0m\u001b[1m}\u001b[0m,\n",
       "\u001b[2;32m│   \u001b[0m\u001b[1m{\u001b[0m\u001b[32m'realtime_start'\u001b[0m: \u001b[32m'2025-03-04'\u001b[0m, \u001b[32m'realtime_end'\u001b[0m: \u001b[32m'2025-03-04'\u001b[0m, \u001b[32m'date'\u001b[0m: \u001b[32m'2022-04-01'\u001b[0m, \u001b[32m'value'\u001b[0m: \u001b[32m'0.94940027'\u001b[0m\u001b[1m}\u001b[0m,\n",
       "\u001b[2;32m│   \u001b[0m\u001b[1m{\u001b[0m\u001b[32m'realtime_start'\u001b[0m: \u001b[32m'2025-03-04'\u001b[0m, \u001b[32m'realtime_end'\u001b[0m: \u001b[32m'2025-03-04'\u001b[0m, \u001b[32m'date'\u001b[0m: \u001b[32m'2022-05-01'\u001b[0m, \u001b[32m'value'\u001b[0m: \u001b[32m'1.20389776'\u001b[0m\u001b[1m}\u001b[0m,\n",
       "\u001b[2;32m│   \u001b[0m\u001b[1m{\u001b[0m\u001b[32m'realtime_start'\u001b[0m: \u001b[32m'2025-03-04'\u001b[0m, \u001b[32m'realtime_end'\u001b[0m: \u001b[32m'2025-03-04'\u001b[0m, \u001b[32m'date'\u001b[0m: \u001b[32m'2022-06-01'\u001b[0m, \u001b[32m'value'\u001b[0m: \u001b[32m'1.02509351'\u001b[0m\u001b[1m}\u001b[0m,\n",
       "\u001b[2;32m│   \u001b[0m\u001b[1m{\u001b[0m\u001b[32m'realtime_start'\u001b[0m: \u001b[32m'2025-03-04'\u001b[0m, \u001b[32m'realtime_end'\u001b[0m: \u001b[32m'2025-03-04'\u001b[0m, \u001b[32m'date'\u001b[0m: \u001b[32m'2022-07-01'\u001b[0m, \u001b[32m'value'\u001b[0m: \u001b[32m'1.06217493'\u001b[0m\u001b[1m}\u001b[0m,\n",
       "\u001b[2;32m│   \u001b[0m\u001b[1m{\u001b[0m\u001b[32m'realtime_start'\u001b[0m: \u001b[32m'2025-03-04'\u001b[0m, \u001b[32m'realtime_end'\u001b[0m: \u001b[32m'2025-03-04'\u001b[0m, \u001b[32m'date'\u001b[0m: \u001b[32m'2022-08-01'\u001b[0m, \u001b[32m'value'\u001b[0m: \u001b[32m'0.8556253'\u001b[0m\u001b[1m}\u001b[0m,\n",
       "\u001b[2;32m│   \u001b[0m\u001b[1m{\u001b[0m\u001b[32m'realtime_start'\u001b[0m: \u001b[32m'2025-03-04'\u001b[0m, \u001b[32m'realtime_end'\u001b[0m: \u001b[32m'2025-03-04'\u001b[0m, \u001b[32m'date'\u001b[0m: \u001b[32m'2022-09-01'\u001b[0m, \u001b[32m'value'\u001b[0m: \u001b[32m'1.20424868'\u001b[0m\u001b[1m}\u001b[0m,\n",
       "\u001b[2;32m│   \u001b[0m\u001b[1m{\u001b[0m\u001b[32m'realtime_start'\u001b[0m: \u001b[32m'2025-03-04'\u001b[0m, \u001b[32m'realtime_end'\u001b[0m: \u001b[32m'2025-03-04'\u001b[0m, \u001b[32m'date'\u001b[0m: \u001b[32m'2022-10-01'\u001b[0m, \u001b[32m'value'\u001b[0m: \u001b[32m'1.79733203'\u001b[0m\u001b[1m}\u001b[0m,\n",
       "\u001b[2;32m│   \u001b[0m\u001b[1m{\u001b[0m\u001b[32m'realtime_start'\u001b[0m: \u001b[32m'2025-03-04'\u001b[0m, \u001b[32m'realtime_end'\u001b[0m: \u001b[32m'2025-03-04'\u001b[0m, \u001b[32m'date'\u001b[0m: \u001b[32m'2022-11-01'\u001b[0m, \u001b[32m'value'\u001b[0m: \u001b[32m'1.93071305'\u001b[0m\u001b[1m}\u001b[0m,\n",
       "\u001b[2;32m│   \u001b[0m\u001b[1m{\u001b[0m\u001b[32m'realtime_start'\u001b[0m: \u001b[32m'2025-03-04'\u001b[0m, \u001b[32m'realtime_end'\u001b[0m: \u001b[32m'2025-03-04'\u001b[0m, \u001b[32m'date'\u001b[0m: \u001b[32m'2022-12-01'\u001b[0m, \u001b[32m'value'\u001b[0m: \u001b[32m'1.57612515'\u001b[0m\u001b[1m}\u001b[0m,\n",
       "\u001b[2;32m│   \u001b[0m\u001b[1m{\u001b[0m\u001b[32m'realtime_start'\u001b[0m: \u001b[32m'2025-03-04'\u001b[0m, \u001b[32m'realtime_end'\u001b[0m: \u001b[32m'2025-03-04'\u001b[0m, \u001b[32m'date'\u001b[0m: \u001b[32m'2023-01-01'\u001b[0m, \u001b[32m'value'\u001b[0m: \u001b[32m'1.78309897'\u001b[0m\u001b[1m}\u001b[0m,\n",
       "\u001b[2;32m│   \u001b[0m\u001b[1m{\u001b[0m\u001b[32m'realtime_start'\u001b[0m: \u001b[32m'2025-03-04'\u001b[0m, \u001b[32m'realtime_end'\u001b[0m: \u001b[32m'2025-03-04'\u001b[0m, \u001b[32m'date'\u001b[0m: \u001b[32m'2023-02-01'\u001b[0m, \u001b[32m'value'\u001b[0m: \u001b[32m'1.42020217'\u001b[0m\u001b[1m}\u001b[0m,\n",
       "\u001b[2;32m│   \u001b[0m\u001b[1m{\u001b[0m\u001b[32m'realtime_start'\u001b[0m: \u001b[32m'2025-03-04'\u001b[0m, \u001b[32m'realtime_end'\u001b[0m: \u001b[32m'2025-03-04'\u001b[0m, \u001b[32m'date'\u001b[0m: \u001b[32m'2023-03-01'\u001b[0m, \u001b[32m'value'\u001b[0m: \u001b[32m'2.05963636'\u001b[0m\u001b[1m}\u001b[0m,\n",
       "\u001b[2;32m│   \u001b[0m\u001b[1m{\u001b[0m\u001b[32m'realtime_start'\u001b[0m: \u001b[32m'2025-03-04'\u001b[0m, \u001b[32m'realtime_end'\u001b[0m: \u001b[32m'2025-03-04'\u001b[0m, \u001b[32m'date'\u001b[0m: \u001b[32m'2023-04-01'\u001b[0m, \u001b[32m'value'\u001b[0m: \u001b[32m'1.44391386'\u001b[0m\u001b[1m}\u001b[0m,\n",
       "\u001b[2;32m│   \u001b[0m\u001b[1m{\u001b[0m\u001b[32m'realtime_start'\u001b[0m: \u001b[32m'2025-03-04'\u001b[0m, \u001b[32m'realtime_end'\u001b[0m: \u001b[32m'2025-03-04'\u001b[0m, \u001b[32m'date'\u001b[0m: \u001b[32m'2023-05-01'\u001b[0m, \u001b[32m'value'\u001b[0m: \u001b[32m'1.53690406'\u001b[0m\u001b[1m}\u001b[0m,\n",
       "\u001b[2;32m│   \u001b[0m\u001b[1m{\u001b[0m\u001b[32m'realtime_start'\u001b[0m: \u001b[32m'2025-03-04'\u001b[0m, \u001b[32m'realtime_end'\u001b[0m: \u001b[32m'2025-03-04'\u001b[0m, \u001b[32m'date'\u001b[0m: \u001b[32m'2023-06-01'\u001b[0m, \u001b[32m'value'\u001b[0m: \u001b[32m'1.06063107'\u001b[0m\u001b[1m}\u001b[0m,\n",
       "\u001b[2;32m│   \u001b[0m\u001b[1m{\u001b[0m\u001b[32m'realtime_start'\u001b[0m: \u001b[32m'2025-03-04'\u001b[0m, \u001b[32m'realtime_end'\u001b[0m: \u001b[32m'2025-03-04'\u001b[0m, \u001b[32m'date'\u001b[0m: \u001b[32m'2023-07-01'\u001b[0m, \u001b[32m'value'\u001b[0m: \u001b[32m'1.4260473'\u001b[0m\u001b[1m}\u001b[0m,\n",
       "\u001b[2;32m│   \u001b[0m\u001b[1m{\u001b[0m\u001b[32m'realtime_start'\u001b[0m: \u001b[32m'2025-03-04'\u001b[0m, \u001b[32m'realtime_end'\u001b[0m: \u001b[32m'2025-03-04'\u001b[0m, \u001b[32m'date'\u001b[0m: \u001b[32m'2023-08-01'\u001b[0m, \u001b[32m'value'\u001b[0m: \u001b[32m'1.60209539'\u001b[0m\u001b[1m}\u001b[0m,\n",
       "\u001b[2;32m│   \u001b[0m\u001b[33m...\u001b[0m +\u001b[1;36m18\u001b[0m\n",
       "\u001b[1m]\u001b[0m\n"
      ]
     },
     "metadata": {},
     "output_type": "display_data"
    }
   ],
   "source": [
    "real_interest_rate_json = pf.get_series(series_id=\"REAINTRATREARAT10Y\", return_format=\"json\", **extra_parameters)\n",
    "pprint(real_interest_rate_json, max_length=20)"
   ]
  },
  {
   "cell_type": "markdown",
   "metadata": {},
   "source": [
    "### U.S. Unemployment Rate\n",
    "\n",
    "https://fred.stlouisfed.org/series/UNRATE\n",
    "\n",
    "Source: U.S. Bureau of Labor Statistics  Release: Employment Situation  \n",
    "Units:  Percent, Seasonally Adjusted\n",
    "\n",
    "Frequency:  Monthly\n",
    "\n",
    "Notes:\n",
    "The unemployment rate represents the number of unemployed as a percentage of the labor force. Labor force data are restricted to people 16 years of age and older, who currently reside in 1 of the 50 states or the District of Columbia, who do not reside in institutions (e.g., penal and mental facilities, homes for the aged), and who are not on active duty in the Armed Forces.\n",
    "\n",
    "This rate is also defined as the U-3 measure of labor underutilization.\n",
    "\n",
    "The series comes from the 'Current Population Survey (Household Survey)'\n",
    "\n",
    "The source code is: LNS14000000\n",
    "\n",
    "Suggested Citation:\n",
    "U.S. Bureau of Labor Statistics, Unemployment Rate [UNRATE], retrieved from FRED, Federal Reserve Bank of St. Louis; https://fred.stlouisfed.org/series/UNRATE, February 14, 2025."
   ]
  },
  {
   "cell_type": "code",
   "execution_count": 21,
   "metadata": {},
   "outputs": [
    {
     "data": {
      "text/html": [
       "<pre style=\"white-space:pre;overflow-x:auto;line-height:normal;font-family:Menlo,'DejaVu Sans Mono',consolas,'Courier New',monospace\"><span style=\"color: #800080; text-decoration-color: #800080; font-weight: bold\">SeriesInfo</span><span style=\"font-weight: bold\">(</span>\n",
       "    <span style=\"color: #808000; text-decoration-color: #808000\">id</span>=<span style=\"color: #008000; text-decoration-color: #008000\">'UNRATE'</span>,\n",
       "    <span style=\"color: #808000; text-decoration-color: #808000\">realtime_start</span>=<span style=\"color: #008000; text-decoration-color: #008000\">'2025-02-07'</span>,\n",
       "    <span style=\"color: #808000; text-decoration-color: #808000\">realtime_end</span>=<span style=\"color: #008000; text-decoration-color: #008000\">'2025-02-07'</span>,\n",
       "    <span style=\"color: #808000; text-decoration-color: #808000\">title</span>=<span style=\"color: #008000; text-decoration-color: #008000\">'Unemployment Rate'</span>,\n",
       "    <span style=\"color: #808000; text-decoration-color: #808000\">observation_start</span>=<span style=\"color: #008000; text-decoration-color: #008000\">'1948-01-01'</span>,\n",
       "    <span style=\"color: #808000; text-decoration-color: #808000\">observation_end</span>=<span style=\"color: #008000; text-decoration-color: #008000\">'2025-01-01'</span>,\n",
       "    <span style=\"color: #808000; text-decoration-color: #808000\">frequency</span>=<span style=\"color: #008000; text-decoration-color: #008000\">'Monthly'</span>,\n",
       "    <span style=\"color: #808000; text-decoration-color: #808000\">frequency_short</span>=<span style=\"color: #008000; text-decoration-color: #008000\">'M'</span>,\n",
       "    <span style=\"color: #808000; text-decoration-color: #808000\">units</span>=<span style=\"color: #008000; text-decoration-color: #008000\">'Percent'</span>,\n",
       "    <span style=\"color: #808000; text-decoration-color: #808000\">units_short</span>=<span style=\"color: #008000; text-decoration-color: #008000\">'%'</span>,\n",
       "    <span style=\"color: #808000; text-decoration-color: #808000\">seasonal_adjustment</span>=<span style=\"color: #008000; text-decoration-color: #008000\">'Seasonally Adjusted'</span>,\n",
       "    <span style=\"color: #808000; text-decoration-color: #808000\">seasonal_adjustment_short</span>=<span style=\"color: #008000; text-decoration-color: #008000\">'SA'</span>,\n",
       "    <span style=\"color: #808000; text-decoration-color: #808000\">last_updated</span>=<span style=\"color: #008000; text-decoration-color: #008000\">'2025-02-07 07:47:42-06'</span>,\n",
       "    <span style=\"color: #808000; text-decoration-color: #808000\">popularity</span>=<span style=\"color: #008080; text-decoration-color: #008080; font-weight: bold\">95</span>,\n",
       "    <span style=\"color: #808000; text-decoration-color: #808000\">notes</span>=<span style=\"color: #008000; text-decoration-color: #008000\">\"The unemployment rate represents the number of unemployed as a percentage of the labor force. Labor </span>\n",
       "<span style=\"color: #008000; text-decoration-color: #008000\">force data are restricted to people 16 years of age and older, who currently reside in 1 of the 50 states or the </span>\n",
       "<span style=\"color: #008000; text-decoration-color: #008000\">District of Columbia, who do not reside in institutions (e.g., penal and mental facilities, homes for the aged), </span>\n",
       "<span style=\"color: #008000; text-decoration-color: #008000\">and who are not on active duty in the Armed Forces.\\r\\n\\r\\nThis rate is also defined as the U-3 measure of labor </span>\n",
       "<span style=\"color: #008000; text-decoration-color: #008000\">underutilization.\\r\\n\\r\\nThe series comes from the 'Current Population Survey (Household Survey)'\\r\\n\\r\\nThe source</span>\n",
       "<span style=\"color: #008000; text-decoration-color: #008000\">code is: LNS14000000\"</span>\n",
       "<span style=\"font-weight: bold\">)</span>\n",
       "</pre>\n"
      ],
      "text/plain": [
       "\u001b[1;35mSeriesInfo\u001b[0m\u001b[1m(\u001b[0m\n",
       "    \u001b[33mid\u001b[0m=\u001b[32m'UNRATE'\u001b[0m,\n",
       "    \u001b[33mrealtime_start\u001b[0m=\u001b[32m'2025-02-07'\u001b[0m,\n",
       "    \u001b[33mrealtime_end\u001b[0m=\u001b[32m'2025-02-07'\u001b[0m,\n",
       "    \u001b[33mtitle\u001b[0m=\u001b[32m'Unemployment Rate'\u001b[0m,\n",
       "    \u001b[33mobservation_start\u001b[0m=\u001b[32m'1948-01-01'\u001b[0m,\n",
       "    \u001b[33mobservation_end\u001b[0m=\u001b[32m'2025-01-01'\u001b[0m,\n",
       "    \u001b[33mfrequency\u001b[0m=\u001b[32m'Monthly'\u001b[0m,\n",
       "    \u001b[33mfrequency_short\u001b[0m=\u001b[32m'M'\u001b[0m,\n",
       "    \u001b[33munits\u001b[0m=\u001b[32m'Percent'\u001b[0m,\n",
       "    \u001b[33munits_short\u001b[0m=\u001b[32m'%'\u001b[0m,\n",
       "    \u001b[33mseasonal_adjustment\u001b[0m=\u001b[32m'Seasonally Adjusted'\u001b[0m,\n",
       "    \u001b[33mseasonal_adjustment_short\u001b[0m=\u001b[32m'SA'\u001b[0m,\n",
       "    \u001b[33mlast_updated\u001b[0m=\u001b[32m'2025-02-07 07:47:42-06'\u001b[0m,\n",
       "    \u001b[33mpopularity\u001b[0m=\u001b[1;36m95\u001b[0m,\n",
       "    \u001b[33mnotes\u001b[0m=\u001b[32m\"The\u001b[0m\u001b[32m unemployment rate represents the number of unemployed as a percentage of the labor force. Labor \u001b[0m\n",
       "\u001b[32mforce data are restricted to people 16 years of age and older, who currently reside in 1 of the 50 states or the \u001b[0m\n",
       "\u001b[32mDistrict of Columbia, who do not reside in institutions \u001b[0m\u001b[32m(\u001b[0m\u001b[32me.g., penal and mental facilities, homes for the aged\u001b[0m\u001b[32m)\u001b[0m\u001b[32m, \u001b[0m\n",
       "\u001b[32mand who are not on active duty in the Armed Forces.\\r\\n\\r\\nThis rate is also defined as the U-3 measure of labor \u001b[0m\n",
       "\u001b[32munderutilization.\\r\\n\\r\\nThe series comes from the 'Current Population Survey \u001b[0m\u001b[32m(\u001b[0m\u001b[32mHousehold Survey\u001b[0m\u001b[32m)\u001b[0m\u001b[32m'\\r\\n\\r\\nThe source\u001b[0m\n",
       "\u001b[32mcode is: LNS14000000\"\u001b[0m\n",
       "\u001b[1m)\u001b[0m\n"
      ]
     },
     "metadata": {},
     "output_type": "display_data"
    }
   ],
   "source": [
    "unrate_info = pf.get_series_info(series_id=\"UNRATE\")\n",
    "\n",
    "# Using rich to pretty print the SeriesInfo\n",
    "rprint(unrate_info)"
   ]
  },
  {
   "cell_type": "markdown",
   "metadata": {},
   "source": [
    "### UNRATE series"
   ]
  },
  {
   "cell_type": "code",
   "execution_count": 22,
   "metadata": {},
   "outputs": [],
   "source": [
    "# Fetch the UNRATE series data\n",
    "unrate_df = pf.get_series(series_id=\"UNRATE\", **extra_parameters)"
   ]
  },
  {
   "cell_type": "code",
   "execution_count": 23,
   "metadata": {},
   "outputs": [
    {
     "data": {
      "text/plain": [
       "realtime_start            object\n",
       "realtime_end              object\n",
       "date              datetime64[ns]\n",
       "value                    float64\n",
       "dtype: object"
      ]
     },
     "execution_count": 23,
     "metadata": {},
     "output_type": "execute_result"
    }
   ],
   "source": [
    "unrate_df.dtypes"
   ]
  },
  {
   "cell_type": "code",
   "execution_count": 24,
   "metadata": {},
   "outputs": [
    {
     "data": {
      "text/html": [
       "<div>\n",
       "<style scoped>\n",
       "    .dataframe tbody tr th:only-of-type {\n",
       "        vertical-align: middle;\n",
       "    }\n",
       "\n",
       "    .dataframe tbody tr th {\n",
       "        vertical-align: top;\n",
       "    }\n",
       "\n",
       "    .dataframe thead th {\n",
       "        text-align: right;\n",
       "    }\n",
       "</style>\n",
       "<table border=\"1\" class=\"dataframe\">\n",
       "  <thead>\n",
       "    <tr style=\"text-align: right;\">\n",
       "      <th></th>\n",
       "      <th>realtime_start</th>\n",
       "      <th>realtime_end</th>\n",
       "      <th>date</th>\n",
       "      <th>value</th>\n",
       "    </tr>\n",
       "  </thead>\n",
       "  <tbody>\n",
       "    <tr>\n",
       "      <th>0</th>\n",
       "      <td>2025-03-04</td>\n",
       "      <td>2025-03-04</td>\n",
       "      <td>2022-01-01</td>\n",
       "      <td>4.0</td>\n",
       "    </tr>\n",
       "    <tr>\n",
       "      <th>1</th>\n",
       "      <td>2025-03-04</td>\n",
       "      <td>2025-03-04</td>\n",
       "      <td>2022-02-01</td>\n",
       "      <td>3.8</td>\n",
       "    </tr>\n",
       "    <tr>\n",
       "      <th>2</th>\n",
       "      <td>2025-03-04</td>\n",
       "      <td>2025-03-04</td>\n",
       "      <td>2022-03-01</td>\n",
       "      <td>3.7</td>\n",
       "    </tr>\n",
       "    <tr>\n",
       "      <th>3</th>\n",
       "      <td>2025-03-04</td>\n",
       "      <td>2025-03-04</td>\n",
       "      <td>2022-04-01</td>\n",
       "      <td>3.7</td>\n",
       "    </tr>\n",
       "    <tr>\n",
       "      <th>4</th>\n",
       "      <td>2025-03-04</td>\n",
       "      <td>2025-03-04</td>\n",
       "      <td>2022-05-01</td>\n",
       "      <td>3.6</td>\n",
       "    </tr>\n",
       "  </tbody>\n",
       "</table>\n",
       "</div>"
      ],
      "text/plain": [
       "  realtime_start realtime_end       date  value\n",
       "0     2025-03-04   2025-03-04 2022-01-01    4.0\n",
       "1     2025-03-04   2025-03-04 2022-02-01    3.8\n",
       "2     2025-03-04   2025-03-04 2022-03-01    3.7\n",
       "3     2025-03-04   2025-03-04 2022-04-01    3.7\n",
       "4     2025-03-04   2025-03-04 2022-05-01    3.6"
      ]
     },
     "execution_count": 24,
     "metadata": {},
     "output_type": "execute_result"
    }
   ],
   "source": [
    "unrate_df.head(5)"
   ]
  },
  {
   "cell_type": "code",
   "execution_count": 25,
   "metadata": {},
   "outputs": [
    {
     "data": {
      "text/html": [
       "<div>\n",
       "<style scoped>\n",
       "    .dataframe tbody tr th:only-of-type {\n",
       "        vertical-align: middle;\n",
       "    }\n",
       "\n",
       "    .dataframe tbody tr th {\n",
       "        vertical-align: top;\n",
       "    }\n",
       "\n",
       "    .dataframe thead th {\n",
       "        text-align: right;\n",
       "    }\n",
       "</style>\n",
       "<table border=\"1\" class=\"dataframe\">\n",
       "  <thead>\n",
       "    <tr style=\"text-align: right;\">\n",
       "      <th></th>\n",
       "      <th>realtime_start</th>\n",
       "      <th>realtime_end</th>\n",
       "      <th>date</th>\n",
       "      <th>value</th>\n",
       "    </tr>\n",
       "  </thead>\n",
       "  <tbody>\n",
       "    <tr>\n",
       "      <th>32</th>\n",
       "      <td>2025-03-04</td>\n",
       "      <td>2025-03-04</td>\n",
       "      <td>2024-09-01</td>\n",
       "      <td>4.1</td>\n",
       "    </tr>\n",
       "    <tr>\n",
       "      <th>33</th>\n",
       "      <td>2025-03-04</td>\n",
       "      <td>2025-03-04</td>\n",
       "      <td>2024-10-01</td>\n",
       "      <td>4.1</td>\n",
       "    </tr>\n",
       "    <tr>\n",
       "      <th>34</th>\n",
       "      <td>2025-03-04</td>\n",
       "      <td>2025-03-04</td>\n",
       "      <td>2024-11-01</td>\n",
       "      <td>4.2</td>\n",
       "    </tr>\n",
       "    <tr>\n",
       "      <th>35</th>\n",
       "      <td>2025-03-04</td>\n",
       "      <td>2025-03-04</td>\n",
       "      <td>2024-12-01</td>\n",
       "      <td>4.1</td>\n",
       "    </tr>\n",
       "    <tr>\n",
       "      <th>36</th>\n",
       "      <td>2025-03-04</td>\n",
       "      <td>2025-03-04</td>\n",
       "      <td>2025-01-01</td>\n",
       "      <td>4.0</td>\n",
       "    </tr>\n",
       "  </tbody>\n",
       "</table>\n",
       "</div>"
      ],
      "text/plain": [
       "   realtime_start realtime_end       date  value\n",
       "32     2025-03-04   2025-03-04 2024-09-01    4.1\n",
       "33     2025-03-04   2025-03-04 2024-10-01    4.1\n",
       "34     2025-03-04   2025-03-04 2024-11-01    4.2\n",
       "35     2025-03-04   2025-03-04 2024-12-01    4.1\n",
       "36     2025-03-04   2025-03-04 2025-01-01    4.0"
      ]
     },
     "execution_count": 25,
     "metadata": {},
     "output_type": "execute_result"
    }
   ],
   "source": [
    "unrate_df.tail(5)"
   ]
  },
  {
   "cell_type": "code",
   "execution_count": 26,
   "metadata": {},
   "outputs": [],
   "source": [
    "unrate_df.to_csv(\"unemployment_rate_historical.csv\", index=False)"
   ]
  },
  {
   "cell_type": "code",
   "execution_count": 27,
   "metadata": {},
   "outputs": [
    {
     "data": {
      "text/html": [
       "<pre style=\"white-space:pre;overflow-x:auto;line-height:normal;font-family:Menlo,'DejaVu Sans Mono',consolas,'Courier New',monospace\"><span style=\"font-weight: bold\">[</span>\n",
       "<span style=\"color: #7fbf7f; text-decoration-color: #7fbf7f\">│   </span><span style=\"font-weight: bold\">{</span><span style=\"color: #008000; text-decoration-color: #008000\">'realtime_start'</span>: <span style=\"color: #008000; text-decoration-color: #008000\">'2025-03-04'</span>, <span style=\"color: #008000; text-decoration-color: #008000\">'realtime_end'</span>: <span style=\"color: #008000; text-decoration-color: #008000\">'2025-03-04'</span>, <span style=\"color: #008000; text-decoration-color: #008000\">'date'</span>: <span style=\"color: #008000; text-decoration-color: #008000\">'2022-01-01'</span>, <span style=\"color: #008000; text-decoration-color: #008000\">'value'</span>: <span style=\"color: #008000; text-decoration-color: #008000\">'4.0'</span><span style=\"font-weight: bold\">}</span>,\n",
       "<span style=\"color: #7fbf7f; text-decoration-color: #7fbf7f\">│   </span><span style=\"font-weight: bold\">{</span><span style=\"color: #008000; text-decoration-color: #008000\">'realtime_start'</span>: <span style=\"color: #008000; text-decoration-color: #008000\">'2025-03-04'</span>, <span style=\"color: #008000; text-decoration-color: #008000\">'realtime_end'</span>: <span style=\"color: #008000; text-decoration-color: #008000\">'2025-03-04'</span>, <span style=\"color: #008000; text-decoration-color: #008000\">'date'</span>: <span style=\"color: #008000; text-decoration-color: #008000\">'2022-02-01'</span>, <span style=\"color: #008000; text-decoration-color: #008000\">'value'</span>: <span style=\"color: #008000; text-decoration-color: #008000\">'3.8'</span><span style=\"font-weight: bold\">}</span>,\n",
       "<span style=\"color: #7fbf7f; text-decoration-color: #7fbf7f\">│   </span><span style=\"font-weight: bold\">{</span><span style=\"color: #008000; text-decoration-color: #008000\">'realtime_start'</span>: <span style=\"color: #008000; text-decoration-color: #008000\">'2025-03-04'</span>, <span style=\"color: #008000; text-decoration-color: #008000\">'realtime_end'</span>: <span style=\"color: #008000; text-decoration-color: #008000\">'2025-03-04'</span>, <span style=\"color: #008000; text-decoration-color: #008000\">'date'</span>: <span style=\"color: #008000; text-decoration-color: #008000\">'2022-03-01'</span>, <span style=\"color: #008000; text-decoration-color: #008000\">'value'</span>: <span style=\"color: #008000; text-decoration-color: #008000\">'3.7'</span><span style=\"font-weight: bold\">}</span>,\n",
       "<span style=\"color: #7fbf7f; text-decoration-color: #7fbf7f\">│   </span><span style=\"font-weight: bold\">{</span><span style=\"color: #008000; text-decoration-color: #008000\">'realtime_start'</span>: <span style=\"color: #008000; text-decoration-color: #008000\">'2025-03-04'</span>, <span style=\"color: #008000; text-decoration-color: #008000\">'realtime_end'</span>: <span style=\"color: #008000; text-decoration-color: #008000\">'2025-03-04'</span>, <span style=\"color: #008000; text-decoration-color: #008000\">'date'</span>: <span style=\"color: #008000; text-decoration-color: #008000\">'2022-04-01'</span>, <span style=\"color: #008000; text-decoration-color: #008000\">'value'</span>: <span style=\"color: #008000; text-decoration-color: #008000\">'3.7'</span><span style=\"font-weight: bold\">}</span>,\n",
       "<span style=\"color: #7fbf7f; text-decoration-color: #7fbf7f\">│   </span><span style=\"font-weight: bold\">{</span><span style=\"color: #008000; text-decoration-color: #008000\">'realtime_start'</span>: <span style=\"color: #008000; text-decoration-color: #008000\">'2025-03-04'</span>, <span style=\"color: #008000; text-decoration-color: #008000\">'realtime_end'</span>: <span style=\"color: #008000; text-decoration-color: #008000\">'2025-03-04'</span>, <span style=\"color: #008000; text-decoration-color: #008000\">'date'</span>: <span style=\"color: #008000; text-decoration-color: #008000\">'2022-05-01'</span>, <span style=\"color: #008000; text-decoration-color: #008000\">'value'</span>: <span style=\"color: #008000; text-decoration-color: #008000\">'3.6'</span><span style=\"font-weight: bold\">}</span>,\n",
       "<span style=\"color: #7fbf7f; text-decoration-color: #7fbf7f\">│   </span><span style=\"font-weight: bold\">{</span><span style=\"color: #008000; text-decoration-color: #008000\">'realtime_start'</span>: <span style=\"color: #008000; text-decoration-color: #008000\">'2025-03-04'</span>, <span style=\"color: #008000; text-decoration-color: #008000\">'realtime_end'</span>: <span style=\"color: #008000; text-decoration-color: #008000\">'2025-03-04'</span>, <span style=\"color: #008000; text-decoration-color: #008000\">'date'</span>: <span style=\"color: #008000; text-decoration-color: #008000\">'2022-06-01'</span>, <span style=\"color: #008000; text-decoration-color: #008000\">'value'</span>: <span style=\"color: #008000; text-decoration-color: #008000\">'3.6'</span><span style=\"font-weight: bold\">}</span>,\n",
       "<span style=\"color: #7fbf7f; text-decoration-color: #7fbf7f\">│   </span><span style=\"font-weight: bold\">{</span><span style=\"color: #008000; text-decoration-color: #008000\">'realtime_start'</span>: <span style=\"color: #008000; text-decoration-color: #008000\">'2025-03-04'</span>, <span style=\"color: #008000; text-decoration-color: #008000\">'realtime_end'</span>: <span style=\"color: #008000; text-decoration-color: #008000\">'2025-03-04'</span>, <span style=\"color: #008000; text-decoration-color: #008000\">'date'</span>: <span style=\"color: #008000; text-decoration-color: #008000\">'2022-07-01'</span>, <span style=\"color: #008000; text-decoration-color: #008000\">'value'</span>: <span style=\"color: #008000; text-decoration-color: #008000\">'3.5'</span><span style=\"font-weight: bold\">}</span>,\n",
       "<span style=\"color: #7fbf7f; text-decoration-color: #7fbf7f\">│   </span><span style=\"font-weight: bold\">{</span><span style=\"color: #008000; text-decoration-color: #008000\">'realtime_start'</span>: <span style=\"color: #008000; text-decoration-color: #008000\">'2025-03-04'</span>, <span style=\"color: #008000; text-decoration-color: #008000\">'realtime_end'</span>: <span style=\"color: #008000; text-decoration-color: #008000\">'2025-03-04'</span>, <span style=\"color: #008000; text-decoration-color: #008000\">'date'</span>: <span style=\"color: #008000; text-decoration-color: #008000\">'2022-08-01'</span>, <span style=\"color: #008000; text-decoration-color: #008000\">'value'</span>: <span style=\"color: #008000; text-decoration-color: #008000\">'3.6'</span><span style=\"font-weight: bold\">}</span>,\n",
       "<span style=\"color: #7fbf7f; text-decoration-color: #7fbf7f\">│   </span><span style=\"font-weight: bold\">{</span><span style=\"color: #008000; text-decoration-color: #008000\">'realtime_start'</span>: <span style=\"color: #008000; text-decoration-color: #008000\">'2025-03-04'</span>, <span style=\"color: #008000; text-decoration-color: #008000\">'realtime_end'</span>: <span style=\"color: #008000; text-decoration-color: #008000\">'2025-03-04'</span>, <span style=\"color: #008000; text-decoration-color: #008000\">'date'</span>: <span style=\"color: #008000; text-decoration-color: #008000\">'2022-09-01'</span>, <span style=\"color: #008000; text-decoration-color: #008000\">'value'</span>: <span style=\"color: #008000; text-decoration-color: #008000\">'3.5'</span><span style=\"font-weight: bold\">}</span>,\n",
       "<span style=\"color: #7fbf7f; text-decoration-color: #7fbf7f\">│   </span><span style=\"font-weight: bold\">{</span><span style=\"color: #008000; text-decoration-color: #008000\">'realtime_start'</span>: <span style=\"color: #008000; text-decoration-color: #008000\">'2025-03-04'</span>, <span style=\"color: #008000; text-decoration-color: #008000\">'realtime_end'</span>: <span style=\"color: #008000; text-decoration-color: #008000\">'2025-03-04'</span>, <span style=\"color: #008000; text-decoration-color: #008000\">'date'</span>: <span style=\"color: #008000; text-decoration-color: #008000\">'2022-10-01'</span>, <span style=\"color: #008000; text-decoration-color: #008000\">'value'</span>: <span style=\"color: #008000; text-decoration-color: #008000\">'3.6'</span><span style=\"font-weight: bold\">}</span>,\n",
       "<span style=\"color: #7fbf7f; text-decoration-color: #7fbf7f\">│   </span><span style=\"font-weight: bold\">{</span><span style=\"color: #008000; text-decoration-color: #008000\">'realtime_start'</span>: <span style=\"color: #008000; text-decoration-color: #008000\">'2025-03-04'</span>, <span style=\"color: #008000; text-decoration-color: #008000\">'realtime_end'</span>: <span style=\"color: #008000; text-decoration-color: #008000\">'2025-03-04'</span>, <span style=\"color: #008000; text-decoration-color: #008000\">'date'</span>: <span style=\"color: #008000; text-decoration-color: #008000\">'2022-11-01'</span>, <span style=\"color: #008000; text-decoration-color: #008000\">'value'</span>: <span style=\"color: #008000; text-decoration-color: #008000\">'3.6'</span><span style=\"font-weight: bold\">}</span>,\n",
       "<span style=\"color: #7fbf7f; text-decoration-color: #7fbf7f\">│   </span><span style=\"font-weight: bold\">{</span><span style=\"color: #008000; text-decoration-color: #008000\">'realtime_start'</span>: <span style=\"color: #008000; text-decoration-color: #008000\">'2025-03-04'</span>, <span style=\"color: #008000; text-decoration-color: #008000\">'realtime_end'</span>: <span style=\"color: #008000; text-decoration-color: #008000\">'2025-03-04'</span>, <span style=\"color: #008000; text-decoration-color: #008000\">'date'</span>: <span style=\"color: #008000; text-decoration-color: #008000\">'2022-12-01'</span>, <span style=\"color: #008000; text-decoration-color: #008000\">'value'</span>: <span style=\"color: #008000; text-decoration-color: #008000\">'3.5'</span><span style=\"font-weight: bold\">}</span>,\n",
       "<span style=\"color: #7fbf7f; text-decoration-color: #7fbf7f\">│   </span><span style=\"font-weight: bold\">{</span><span style=\"color: #008000; text-decoration-color: #008000\">'realtime_start'</span>: <span style=\"color: #008000; text-decoration-color: #008000\">'2025-03-04'</span>, <span style=\"color: #008000; text-decoration-color: #008000\">'realtime_end'</span>: <span style=\"color: #008000; text-decoration-color: #008000\">'2025-03-04'</span>, <span style=\"color: #008000; text-decoration-color: #008000\">'date'</span>: <span style=\"color: #008000; text-decoration-color: #008000\">'2023-01-01'</span>, <span style=\"color: #008000; text-decoration-color: #008000\">'value'</span>: <span style=\"color: #008000; text-decoration-color: #008000\">'3.5'</span><span style=\"font-weight: bold\">}</span>,\n",
       "<span style=\"color: #7fbf7f; text-decoration-color: #7fbf7f\">│   </span><span style=\"font-weight: bold\">{</span><span style=\"color: #008000; text-decoration-color: #008000\">'realtime_start'</span>: <span style=\"color: #008000; text-decoration-color: #008000\">'2025-03-04'</span>, <span style=\"color: #008000; text-decoration-color: #008000\">'realtime_end'</span>: <span style=\"color: #008000; text-decoration-color: #008000\">'2025-03-04'</span>, <span style=\"color: #008000; text-decoration-color: #008000\">'date'</span>: <span style=\"color: #008000; text-decoration-color: #008000\">'2023-02-01'</span>, <span style=\"color: #008000; text-decoration-color: #008000\">'value'</span>: <span style=\"color: #008000; text-decoration-color: #008000\">'3.6'</span><span style=\"font-weight: bold\">}</span>,\n",
       "<span style=\"color: #7fbf7f; text-decoration-color: #7fbf7f\">│   </span><span style=\"font-weight: bold\">{</span><span style=\"color: #008000; text-decoration-color: #008000\">'realtime_start'</span>: <span style=\"color: #008000; text-decoration-color: #008000\">'2025-03-04'</span>, <span style=\"color: #008000; text-decoration-color: #008000\">'realtime_end'</span>: <span style=\"color: #008000; text-decoration-color: #008000\">'2025-03-04'</span>, <span style=\"color: #008000; text-decoration-color: #008000\">'date'</span>: <span style=\"color: #008000; text-decoration-color: #008000\">'2023-03-01'</span>, <span style=\"color: #008000; text-decoration-color: #008000\">'value'</span>: <span style=\"color: #008000; text-decoration-color: #008000\">'3.5'</span><span style=\"font-weight: bold\">}</span>,\n",
       "<span style=\"color: #7fbf7f; text-decoration-color: #7fbf7f\">│   </span><span style=\"font-weight: bold\">{</span><span style=\"color: #008000; text-decoration-color: #008000\">'realtime_start'</span>: <span style=\"color: #008000; text-decoration-color: #008000\">'2025-03-04'</span>, <span style=\"color: #008000; text-decoration-color: #008000\">'realtime_end'</span>: <span style=\"color: #008000; text-decoration-color: #008000\">'2025-03-04'</span>, <span style=\"color: #008000; text-decoration-color: #008000\">'date'</span>: <span style=\"color: #008000; text-decoration-color: #008000\">'2023-04-01'</span>, <span style=\"color: #008000; text-decoration-color: #008000\">'value'</span>: <span style=\"color: #008000; text-decoration-color: #008000\">'3.4'</span><span style=\"font-weight: bold\">}</span>,\n",
       "<span style=\"color: #7fbf7f; text-decoration-color: #7fbf7f\">│   </span><span style=\"font-weight: bold\">{</span><span style=\"color: #008000; text-decoration-color: #008000\">'realtime_start'</span>: <span style=\"color: #008000; text-decoration-color: #008000\">'2025-03-04'</span>, <span style=\"color: #008000; text-decoration-color: #008000\">'realtime_end'</span>: <span style=\"color: #008000; text-decoration-color: #008000\">'2025-03-04'</span>, <span style=\"color: #008000; text-decoration-color: #008000\">'date'</span>: <span style=\"color: #008000; text-decoration-color: #008000\">'2023-05-01'</span>, <span style=\"color: #008000; text-decoration-color: #008000\">'value'</span>: <span style=\"color: #008000; text-decoration-color: #008000\">'3.6'</span><span style=\"font-weight: bold\">}</span>,\n",
       "<span style=\"color: #7fbf7f; text-decoration-color: #7fbf7f\">│   </span><span style=\"font-weight: bold\">{</span><span style=\"color: #008000; text-decoration-color: #008000\">'realtime_start'</span>: <span style=\"color: #008000; text-decoration-color: #008000\">'2025-03-04'</span>, <span style=\"color: #008000; text-decoration-color: #008000\">'realtime_end'</span>: <span style=\"color: #008000; text-decoration-color: #008000\">'2025-03-04'</span>, <span style=\"color: #008000; text-decoration-color: #008000\">'date'</span>: <span style=\"color: #008000; text-decoration-color: #008000\">'2023-06-01'</span>, <span style=\"color: #008000; text-decoration-color: #008000\">'value'</span>: <span style=\"color: #008000; text-decoration-color: #008000\">'3.6'</span><span style=\"font-weight: bold\">}</span>,\n",
       "<span style=\"color: #7fbf7f; text-decoration-color: #7fbf7f\">│   </span><span style=\"font-weight: bold\">{</span><span style=\"color: #008000; text-decoration-color: #008000\">'realtime_start'</span>: <span style=\"color: #008000; text-decoration-color: #008000\">'2025-03-04'</span>, <span style=\"color: #008000; text-decoration-color: #008000\">'realtime_end'</span>: <span style=\"color: #008000; text-decoration-color: #008000\">'2025-03-04'</span>, <span style=\"color: #008000; text-decoration-color: #008000\">'date'</span>: <span style=\"color: #008000; text-decoration-color: #008000\">'2023-07-01'</span>, <span style=\"color: #008000; text-decoration-color: #008000\">'value'</span>: <span style=\"color: #008000; text-decoration-color: #008000\">'3.5'</span><span style=\"font-weight: bold\">}</span>,\n",
       "<span style=\"color: #7fbf7f; text-decoration-color: #7fbf7f\">│   </span><span style=\"font-weight: bold\">{</span><span style=\"color: #008000; text-decoration-color: #008000\">'realtime_start'</span>: <span style=\"color: #008000; text-decoration-color: #008000\">'2025-03-04'</span>, <span style=\"color: #008000; text-decoration-color: #008000\">'realtime_end'</span>: <span style=\"color: #008000; text-decoration-color: #008000\">'2025-03-04'</span>, <span style=\"color: #008000; text-decoration-color: #008000\">'date'</span>: <span style=\"color: #008000; text-decoration-color: #008000\">'2023-08-01'</span>, <span style=\"color: #008000; text-decoration-color: #008000\">'value'</span>: <span style=\"color: #008000; text-decoration-color: #008000\">'3.7'</span><span style=\"font-weight: bold\">}</span>,\n",
       "<span style=\"color: #7fbf7f; text-decoration-color: #7fbf7f\">│   </span><span style=\"color: #808000; text-decoration-color: #808000\">...</span> +<span style=\"color: #008080; text-decoration-color: #008080; font-weight: bold\">17</span>\n",
       "<span style=\"font-weight: bold\">]</span>\n",
       "</pre>\n"
      ],
      "text/plain": [
       "\u001b[1m[\u001b[0m\n",
       "\u001b[2;32m│   \u001b[0m\u001b[1m{\u001b[0m\u001b[32m'realtime_start'\u001b[0m: \u001b[32m'2025-03-04'\u001b[0m, \u001b[32m'realtime_end'\u001b[0m: \u001b[32m'2025-03-04'\u001b[0m, \u001b[32m'date'\u001b[0m: \u001b[32m'2022-01-01'\u001b[0m, \u001b[32m'value'\u001b[0m: \u001b[32m'4.0'\u001b[0m\u001b[1m}\u001b[0m,\n",
       "\u001b[2;32m│   \u001b[0m\u001b[1m{\u001b[0m\u001b[32m'realtime_start'\u001b[0m: \u001b[32m'2025-03-04'\u001b[0m, \u001b[32m'realtime_end'\u001b[0m: \u001b[32m'2025-03-04'\u001b[0m, \u001b[32m'date'\u001b[0m: \u001b[32m'2022-02-01'\u001b[0m, \u001b[32m'value'\u001b[0m: \u001b[32m'3.8'\u001b[0m\u001b[1m}\u001b[0m,\n",
       "\u001b[2;32m│   \u001b[0m\u001b[1m{\u001b[0m\u001b[32m'realtime_start'\u001b[0m: \u001b[32m'2025-03-04'\u001b[0m, \u001b[32m'realtime_end'\u001b[0m: \u001b[32m'2025-03-04'\u001b[0m, \u001b[32m'date'\u001b[0m: \u001b[32m'2022-03-01'\u001b[0m, \u001b[32m'value'\u001b[0m: \u001b[32m'3.7'\u001b[0m\u001b[1m}\u001b[0m,\n",
       "\u001b[2;32m│   \u001b[0m\u001b[1m{\u001b[0m\u001b[32m'realtime_start'\u001b[0m: \u001b[32m'2025-03-04'\u001b[0m, \u001b[32m'realtime_end'\u001b[0m: \u001b[32m'2025-03-04'\u001b[0m, \u001b[32m'date'\u001b[0m: \u001b[32m'2022-04-01'\u001b[0m, \u001b[32m'value'\u001b[0m: \u001b[32m'3.7'\u001b[0m\u001b[1m}\u001b[0m,\n",
       "\u001b[2;32m│   \u001b[0m\u001b[1m{\u001b[0m\u001b[32m'realtime_start'\u001b[0m: \u001b[32m'2025-03-04'\u001b[0m, \u001b[32m'realtime_end'\u001b[0m: \u001b[32m'2025-03-04'\u001b[0m, \u001b[32m'date'\u001b[0m: \u001b[32m'2022-05-01'\u001b[0m, \u001b[32m'value'\u001b[0m: \u001b[32m'3.6'\u001b[0m\u001b[1m}\u001b[0m,\n",
       "\u001b[2;32m│   \u001b[0m\u001b[1m{\u001b[0m\u001b[32m'realtime_start'\u001b[0m: \u001b[32m'2025-03-04'\u001b[0m, \u001b[32m'realtime_end'\u001b[0m: \u001b[32m'2025-03-04'\u001b[0m, \u001b[32m'date'\u001b[0m: \u001b[32m'2022-06-01'\u001b[0m, \u001b[32m'value'\u001b[0m: \u001b[32m'3.6'\u001b[0m\u001b[1m}\u001b[0m,\n",
       "\u001b[2;32m│   \u001b[0m\u001b[1m{\u001b[0m\u001b[32m'realtime_start'\u001b[0m: \u001b[32m'2025-03-04'\u001b[0m, \u001b[32m'realtime_end'\u001b[0m: \u001b[32m'2025-03-04'\u001b[0m, \u001b[32m'date'\u001b[0m: \u001b[32m'2022-07-01'\u001b[0m, \u001b[32m'value'\u001b[0m: \u001b[32m'3.5'\u001b[0m\u001b[1m}\u001b[0m,\n",
       "\u001b[2;32m│   \u001b[0m\u001b[1m{\u001b[0m\u001b[32m'realtime_start'\u001b[0m: \u001b[32m'2025-03-04'\u001b[0m, \u001b[32m'realtime_end'\u001b[0m: \u001b[32m'2025-03-04'\u001b[0m, \u001b[32m'date'\u001b[0m: \u001b[32m'2022-08-01'\u001b[0m, \u001b[32m'value'\u001b[0m: \u001b[32m'3.6'\u001b[0m\u001b[1m}\u001b[0m,\n",
       "\u001b[2;32m│   \u001b[0m\u001b[1m{\u001b[0m\u001b[32m'realtime_start'\u001b[0m: \u001b[32m'2025-03-04'\u001b[0m, \u001b[32m'realtime_end'\u001b[0m: \u001b[32m'2025-03-04'\u001b[0m, \u001b[32m'date'\u001b[0m: \u001b[32m'2022-09-01'\u001b[0m, \u001b[32m'value'\u001b[0m: \u001b[32m'3.5'\u001b[0m\u001b[1m}\u001b[0m,\n",
       "\u001b[2;32m│   \u001b[0m\u001b[1m{\u001b[0m\u001b[32m'realtime_start'\u001b[0m: \u001b[32m'2025-03-04'\u001b[0m, \u001b[32m'realtime_end'\u001b[0m: \u001b[32m'2025-03-04'\u001b[0m, \u001b[32m'date'\u001b[0m: \u001b[32m'2022-10-01'\u001b[0m, \u001b[32m'value'\u001b[0m: \u001b[32m'3.6'\u001b[0m\u001b[1m}\u001b[0m,\n",
       "\u001b[2;32m│   \u001b[0m\u001b[1m{\u001b[0m\u001b[32m'realtime_start'\u001b[0m: \u001b[32m'2025-03-04'\u001b[0m, \u001b[32m'realtime_end'\u001b[0m: \u001b[32m'2025-03-04'\u001b[0m, \u001b[32m'date'\u001b[0m: \u001b[32m'2022-11-01'\u001b[0m, \u001b[32m'value'\u001b[0m: \u001b[32m'3.6'\u001b[0m\u001b[1m}\u001b[0m,\n",
       "\u001b[2;32m│   \u001b[0m\u001b[1m{\u001b[0m\u001b[32m'realtime_start'\u001b[0m: \u001b[32m'2025-03-04'\u001b[0m, \u001b[32m'realtime_end'\u001b[0m: \u001b[32m'2025-03-04'\u001b[0m, \u001b[32m'date'\u001b[0m: \u001b[32m'2022-12-01'\u001b[0m, \u001b[32m'value'\u001b[0m: \u001b[32m'3.5'\u001b[0m\u001b[1m}\u001b[0m,\n",
       "\u001b[2;32m│   \u001b[0m\u001b[1m{\u001b[0m\u001b[32m'realtime_start'\u001b[0m: \u001b[32m'2025-03-04'\u001b[0m, \u001b[32m'realtime_end'\u001b[0m: \u001b[32m'2025-03-04'\u001b[0m, \u001b[32m'date'\u001b[0m: \u001b[32m'2023-01-01'\u001b[0m, \u001b[32m'value'\u001b[0m: \u001b[32m'3.5'\u001b[0m\u001b[1m}\u001b[0m,\n",
       "\u001b[2;32m│   \u001b[0m\u001b[1m{\u001b[0m\u001b[32m'realtime_start'\u001b[0m: \u001b[32m'2025-03-04'\u001b[0m, \u001b[32m'realtime_end'\u001b[0m: \u001b[32m'2025-03-04'\u001b[0m, \u001b[32m'date'\u001b[0m: \u001b[32m'2023-02-01'\u001b[0m, \u001b[32m'value'\u001b[0m: \u001b[32m'3.6'\u001b[0m\u001b[1m}\u001b[0m,\n",
       "\u001b[2;32m│   \u001b[0m\u001b[1m{\u001b[0m\u001b[32m'realtime_start'\u001b[0m: \u001b[32m'2025-03-04'\u001b[0m, \u001b[32m'realtime_end'\u001b[0m: \u001b[32m'2025-03-04'\u001b[0m, \u001b[32m'date'\u001b[0m: \u001b[32m'2023-03-01'\u001b[0m, \u001b[32m'value'\u001b[0m: \u001b[32m'3.5'\u001b[0m\u001b[1m}\u001b[0m,\n",
       "\u001b[2;32m│   \u001b[0m\u001b[1m{\u001b[0m\u001b[32m'realtime_start'\u001b[0m: \u001b[32m'2025-03-04'\u001b[0m, \u001b[32m'realtime_end'\u001b[0m: \u001b[32m'2025-03-04'\u001b[0m, \u001b[32m'date'\u001b[0m: \u001b[32m'2023-04-01'\u001b[0m, \u001b[32m'value'\u001b[0m: \u001b[32m'3.4'\u001b[0m\u001b[1m}\u001b[0m,\n",
       "\u001b[2;32m│   \u001b[0m\u001b[1m{\u001b[0m\u001b[32m'realtime_start'\u001b[0m: \u001b[32m'2025-03-04'\u001b[0m, \u001b[32m'realtime_end'\u001b[0m: \u001b[32m'2025-03-04'\u001b[0m, \u001b[32m'date'\u001b[0m: \u001b[32m'2023-05-01'\u001b[0m, \u001b[32m'value'\u001b[0m: \u001b[32m'3.6'\u001b[0m\u001b[1m}\u001b[0m,\n",
       "\u001b[2;32m│   \u001b[0m\u001b[1m{\u001b[0m\u001b[32m'realtime_start'\u001b[0m: \u001b[32m'2025-03-04'\u001b[0m, \u001b[32m'realtime_end'\u001b[0m: \u001b[32m'2025-03-04'\u001b[0m, \u001b[32m'date'\u001b[0m: \u001b[32m'2023-06-01'\u001b[0m, \u001b[32m'value'\u001b[0m: \u001b[32m'3.6'\u001b[0m\u001b[1m}\u001b[0m,\n",
       "\u001b[2;32m│   \u001b[0m\u001b[1m{\u001b[0m\u001b[32m'realtime_start'\u001b[0m: \u001b[32m'2025-03-04'\u001b[0m, \u001b[32m'realtime_end'\u001b[0m: \u001b[32m'2025-03-04'\u001b[0m, \u001b[32m'date'\u001b[0m: \u001b[32m'2023-07-01'\u001b[0m, \u001b[32m'value'\u001b[0m: \u001b[32m'3.5'\u001b[0m\u001b[1m}\u001b[0m,\n",
       "\u001b[2;32m│   \u001b[0m\u001b[1m{\u001b[0m\u001b[32m'realtime_start'\u001b[0m: \u001b[32m'2025-03-04'\u001b[0m, \u001b[32m'realtime_end'\u001b[0m: \u001b[32m'2025-03-04'\u001b[0m, \u001b[32m'date'\u001b[0m: \u001b[32m'2023-08-01'\u001b[0m, \u001b[32m'value'\u001b[0m: \u001b[32m'3.7'\u001b[0m\u001b[1m}\u001b[0m,\n",
       "\u001b[2;32m│   \u001b[0m\u001b[33m...\u001b[0m +\u001b[1;36m17\u001b[0m\n",
       "\u001b[1m]\u001b[0m\n"
      ]
     },
     "metadata": {},
     "output_type": "display_data"
    }
   ],
   "source": [
    "# Fetch the UNRATE series data\n",
    "unrate_json = pf.get_series(series_id=\"UNRATE\", return_format=\"json\", **extra_parameters)\n",
    "pprint(unrate_json, max_length=20)"
   ]
  }
 ],
 "metadata": {
  "kernelspec": {
   "display_name": ".venv",
   "language": "python",
   "name": "python3"
  },
  "language_info": {
   "codemirror_mode": {
    "name": "ipython",
    "version": 3
   },
   "file_extension": ".py",
   "mimetype": "text/x-python",
   "name": "python",
   "nbconvert_exporter": "python",
   "pygments_lexer": "ipython3",
   "version": "3.10.15"
  }
 },
 "nbformat": 4,
 "nbformat_minor": 2
}
